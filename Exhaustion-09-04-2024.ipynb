{
 "cells": [
  {
   "cell_type": "code",
   "execution_count": 1,
   "metadata": {},
   "outputs": [],
   "source": [
    "using IntervalArithmetic, ForwardDiff, Plots, LinearAlgebra"
   ]
  },
  {
   "cell_type": "code",
   "execution_count": 52,
   "metadata": {},
   "outputs": [
    {
     "data": {
      "text/plain": [
       "[0, 1]"
      ]
     },
     "metadata": {},
     "output_type": "display_data"
    }
   ],
   "source": [
    "I = interval(0, 1)"
   ]
  },
  {
   "cell_type": "code",
   "execution_count": 3,
   "metadata": {},
   "outputs": [
    {
     "data": {
      "text/plain": [
       "3-element Vector{Interval{Float64}}:\n",
       " [0, 0.333334]\n",
       "    [0.333333, 0.666667]\n",
       "    [0.666666, 1]"
      ]
     },
     "metadata": {},
     "output_type": "display_data"
    }
   ],
   "source": [
    "P3 = [I.lo + ((interval(i, i+1))/3)*(I.hi-I.lo) for i in 0:2]"
   ]
  },
  {
   "cell_type": "code",
   "execution_count": 4,
   "metadata": {},
   "outputs": [
    {
     "data": {
      "text/plain": [
       "f2 (generic function with 1 method)"
      ]
     },
     "metadata": {},
     "output_type": "display_data"
    }
   ],
   "source": [
    "f1(x) = 2*x\n",
    "f2(x) = 2*x - 1 "
   ]
  },
  {
   "cell_type": "code",
   "execution_count": 53,
   "metadata": {},
   "outputs": [
    {
     "data": {
      "text/plain": [
       "TestePREIMA (generic function with 1 method)"
      ]
     },
     "metadata": {},
     "output_type": "display_data"
    }
   ],
   "source": [
    "function PREIMA(f, df, I::Interval)\n",
    "    m = @interval mid(I)\n",
    "    return (hull(m) - hull(f(m)-P3[1].hi)/hull(df(I))) ∩ I\n",
    "end\n",
    "\n",
    "function TestePREIMA(f::Function, I::Interval; tol = 2^-10)\n",
    "    df(I) = ForwardDiff.derivative(f,I)\n",
    "    if PREIMA(f, df, xk) == ∅\n",
    "        return \"Not Zeros in these interval!\"\n",
    "    else\n",
    "        while diam(xk)>tol\n",
    "            zerobox = IntervalBox(xk, f(I))\n",
    "            global xk = PREIMA(f, df, xk)\n",
    "            if xk == ∅\n",
    "                return \"Not Zeros in these interval!\"\n",
    "            end\n",
    "            @show xk\n",
    "        end\n",
    "    end  \n",
    "    @show xk \n",
    "end"
   ]
  },
  {
   "cell_type": "code",
   "execution_count": 54,
   "metadata": {},
   "outputs": [
    {
     "data": {
      "text/plain": [
       "[0, 1]"
      ]
     },
     "metadata": {},
     "output_type": "display_data"
    }
   ],
   "source": [
    "xk = interval(0,1)"
   ]
  },
  {
   "cell_type": "code",
   "execution_count": 60,
   "metadata": {},
   "outputs": [
    {
     "name": "stdout",
     "output_type": "stream",
     "text": [
      "xk = [0.166666, 0.166667]\n"
     ]
    },
    {
     "data": {
      "text/plain": [
       "0.16666666666666669"
      ]
     },
     "metadata": {},
     "output_type": "display_data"
    }
   ],
   "source": [
    "T1I1 = TestePREIMA(f1,I,tol = 2^-10).hi"
   ]
  },
  {
   "cell_type": "code",
   "execution_count": 34,
   "metadata": {},
   "outputs": [
    {
     "data": {
      "text/plain": [
       "0.6666666666666667"
      ]
     },
     "metadata": {},
     "output_type": "display_data"
    }
   ],
   "source": [
    "P3[2].hi"
   ]
  },
  {
   "cell_type": "code",
   "execution_count": 35,
   "metadata": {},
   "outputs": [
    {
     "data": {
      "text/plain": [
       "[0, 1]"
      ]
     },
     "metadata": {},
     "output_type": "display_data"
    }
   ],
   "source": [
    "xk = interval(0,1)\n",
    "I = interval(0,1)"
   ]
  },
  {
   "cell_type": "code",
   "execution_count": 36,
   "metadata": {},
   "outputs": [
    {
     "name": "stdout",
     "output_type": "stream",
     "text": [
      "xk = [0.333333, 0.333334]\n",
      "xk = [0.333333, 0.333334]\n"
     ]
    },
    {
     "data": {
      "text/plain": [
       "[0.333333, 0.333334]"
      ]
     },
     "metadata": {},
     "output_type": "display_data"
    }
   ],
   "source": [
    "function PREIMA(f, df, I::Interval)\n",
    "    m = @interval mid(I)\n",
    "    return (hull(m) - hull(f(m)-P3[2].hi)/hull(df(I))) ∩ I\n",
    "end\n",
    "\n",
    "function TestePREIMA(f::Function, I::Interval; tol = 2^-10)\n",
    "    df(I) = ForwardDiff.derivative(f,I)\n",
    "    if PREIMA(f, df, xk) == ∅\n",
    "        return \"Not Zeros in these interval!\"\n",
    "    else\n",
    "        while diam(xk)>tol\n",
    "            zerobox = IntervalBox(xk, f(I))\n",
    "            global xk = PREIMA(f, df, xk)\n",
    "            if xk == ∅\n",
    "                return \"Not Zeros in these interval!\"\n",
    "            end\n",
    "            @show xk\n",
    "        end\n",
    "    end  \n",
    "    @show xk \n",
    "end\n",
    "TestePREIMA(f1,I,tol = 2^-10)"
   ]
  },
  {
   "cell_type": "code",
   "execution_count": 37,
   "metadata": {},
   "outputs": [
    {
     "data": {
      "text/plain": [
       "[0, 1]"
      ]
     },
     "metadata": {},
     "output_type": "display_data"
    }
   ],
   "source": [
    "xk = interval(0,1)\n",
    "I = interval(0,1)"
   ]
  },
  {
   "cell_type": "code",
   "execution_count": 38,
   "metadata": {},
   "outputs": [
    {
     "name": "stdout",
     "output_type": "stream",
     "text": [
      "xk = [0.833333, 0.833334]\n",
      "xk = [0.833333, 0.833334]\n"
     ]
    },
    {
     "data": {
      "text/plain": [
       "[0.833333, 0.833334]"
      ]
     },
     "metadata": {},
     "output_type": "display_data"
    }
   ],
   "source": [
    "function PREIMA(f, df, I::Interval)\n",
    "    m = @interval mid(I)\n",
    "    return (hull(m) - hull(f(m)-P3[2].hi)/hull(df(I))) ∩ I\n",
    "end\n",
    "\n",
    "function TestePREIMA(f::Function, I::Interval; tol = 2^-10)\n",
    "    df(I) = ForwardDiff.derivative(f,I)\n",
    "    if PREIMA(f, df, xk) == ∅\n",
    "        return \"Not Zeros in these interval!\"\n",
    "    else\n",
    "        while diam(xk)>tol\n",
    "            zerobox = IntervalBox(xk, f(I))\n",
    "            global xk = PREIMA(f, df, xk)\n",
    "            if xk == ∅\n",
    "                return \"Not Zeros in these interval!\"\n",
    "            end\n",
    "            @show xk\n",
    "        end\n",
    "    end  \n",
    "    @show xk \n",
    "end\n",
    "TestePREIMA(f2,I,tol = 2^-10)"
   ]
  },
  {
   "cell_type": "code",
   "execution_count": 39,
   "metadata": {},
   "outputs": [
    {
     "data": {
      "text/plain": [
       "[0, 1]"
      ]
     },
     "metadata": {},
     "output_type": "display_data"
    }
   ],
   "source": [
    "xk = interval(0,1)\n",
    "I = interval(0,1)"
   ]
  },
  {
   "cell_type": "code",
   "execution_count": 40,
   "metadata": {},
   "outputs": [
    {
     "name": "stdout",
     "output_type": "stream",
     "text": [
      "xk = [0.5, 0.5]\n",
      "xk = [0.5, 0.5]\n"
     ]
    },
    {
     "data": {
      "text/plain": [
       "[0.5, 0.5]"
      ]
     },
     "metadata": {},
     "output_type": "display_data"
    }
   ],
   "source": [
    "function PREIMA(f, df, I::Interval)\n",
    "    m = @interval mid(I)\n",
    "    return (hull(m) - hull(f(m)-P3[3].hi)/hull(df(I))) ∩ I\n",
    "end\n",
    "\n",
    "function TestePREIMA(f::Function, I::Interval; tol = 2^-10)\n",
    "    df(I) = ForwardDiff.derivative(f,I)\n",
    "    if PREIMA(f, df, xk) == ∅\n",
    "        return \"Not Zeros in these interval!\"\n",
    "    else\n",
    "        while diam(xk)>tol\n",
    "            zerobox = IntervalBox(xk, f(I))\n",
    "            global xk = PREIMA(f, df, xk)\n",
    "            if xk == ∅\n",
    "                return \"Not Zeros in these interval!\"\n",
    "            end\n",
    "            @show xk\n",
    "        end\n",
    "    end  \n",
    "    @show xk \n",
    "end\n",
    "TestePREIMA(f1,I,tol = 2^-10)"
   ]
  },
  {
   "cell_type": "code",
   "execution_count": 41,
   "metadata": {},
   "outputs": [
    {
     "data": {
      "text/plain": [
       "[0, 1]"
      ]
     },
     "metadata": {},
     "output_type": "display_data"
    }
   ],
   "source": [
    "xk = interval(0,1)\n",
    "I = interval(0,1)"
   ]
  },
  {
   "cell_type": "code",
   "execution_count": 42,
   "metadata": {},
   "outputs": [
    {
     "name": "stdout",
     "output_type": "stream",
     "text": [
      "xk = [1, 1]\n",
      "xk = [1, 1]\n"
     ]
    },
    {
     "data": {
      "text/plain": [
       "[1, 1]"
      ]
     },
     "metadata": {},
     "output_type": "display_data"
    }
   ],
   "source": [
    "function PREIMA(f, df, I::Interval)\n",
    "    m = @interval mid(I)\n",
    "    return (hull(m) - hull(f(m)-P3[3].hi)/hull(df(I))) ∩ I\n",
    "end\n",
    "\n",
    "function TestePREIMA(f::Function, I::Interval; tol = 2^-10)\n",
    "    df(I) = ForwardDiff.derivative(f,I)\n",
    "    if PREIMA(f, df, xk) == ∅\n",
    "        return \"Not Zeros in these interval!\"\n",
    "    else\n",
    "        while diam(xk)>tol\n",
    "            zerobox = IntervalBox(xk, f(I))\n",
    "            global xk = PREIMA(f, df, xk)\n",
    "            if xk == ∅\n",
    "                return \"Not Zeros in these interval!\"\n",
    "            end\n",
    "            @show xk\n",
    "        end\n",
    "    end  \n",
    "    @show xk \n",
    "end\n",
    "TestePREIMA(f2,I,tol = 2^-10)"
   ]
  },
  {
   "cell_type": "code",
   "execution_count": 46,
   "metadata": {},
   "outputs": [
    {
     "name": "stdout",
     "output_type": "stream",
     "text": [
      "xk = [0.666666, 0.666667]\n",
      "xk = [0.666666, 0.666667]\n"
     ]
    },
    {
     "data": {
      "text/plain": [
       "[0.666666, 0.666667]"
      ]
     },
     "metadata": {},
     "output_type": "display_data"
    }
   ],
   "source": [
    "xk = interval(0,1)\n",
    "I = interval(0,1)\n",
    "function PREIMA(f, df, I::Interval)\n",
    "    m = @interval mid(I)\n",
    "    return (hull(m) - hull(f(m)-P3[2].lo)/hull(df(I))) ∩ I\n",
    "end\n",
    "\n",
    "function TestePREIMA(f::Function, I::Interval; tol = 2^-10)\n",
    "    df(I) = ForwardDiff.derivative(f,I)\n",
    "    if PREIMA(f, df, xk) == ∅\n",
    "        return \"Not Zeros in these interval!\"\n",
    "    else\n",
    "        while diam(xk)>tol\n",
    "            zerobox = IntervalBox(xk, f(I))\n",
    "            global xk = PREIMA(f, df, xk)\n",
    "            if xk == ∅\n",
    "                return \"Not Zeros in these interval!\"\n",
    "            end\n",
    "            @show xk\n",
    "        end\n",
    "    end  \n",
    "    @show xk \n",
    "end\n",
    "TestePREIMA(f2,I,tol = 2^-10)"
   ]
  },
  {
   "cell_type": "markdown",
   "metadata": {},
   "source": [
    "The next we have:\n",
    "$$\n",
    "a_{1,1} = \\frac{m(T^{-1}(I_1) \\cap I_1)}{m(I1)}\n",
    "$$"
   ]
  },
  {
   "cell_type": "code",
   "execution_count": 62,
   "metadata": {},
   "outputs": [
    {
     "data": {
      "text/plain": [
       "0.5"
      ]
     },
     "metadata": {},
     "output_type": "display_data"
    }
   ],
   "source": [
    "a11 = diam(hull(P3[1]) ∩ hull(interval(0, T1I1)))/diam(P3[1])"
   ]
  }
 ],
 "metadata": {
  "kernelspec": {
   "display_name": "Julia 1.10.2",
   "language": "julia",
   "name": "julia-1.10"
  },
  "language_info": {
   "file_extension": ".jl",
   "mimetype": "application/julia",
   "name": "julia",
   "version": "1.10.2"
  }
 },
 "nbformat": 4,
 "nbformat_minor": 2
}
