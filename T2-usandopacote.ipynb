{
 "cells": [
  {
   "cell_type": "code",
   "execution_count": 1,
   "metadata": {},
   "outputs": [
    {
     "name": "stderr",
     "output_type": "stream",
     "text": [
      "\u001b[32m\u001b[1m    Updating\u001b[22m\u001b[39m registry at `~/.julia/registries/General.toml`\n",
      "\u001b[32m\u001b[1m   Resolving\u001b[22m\u001b[39m package versions...\n",
      "\u001b[32m\u001b[1m  No Changes\u001b[22m\u001b[39m to `~/.julia/environments/v1.8/Project.toml`\n",
      "\u001b[32m\u001b[1m  No Changes\u001b[22m\u001b[39m to `~/.julia/environments/v1.8/Manifest.toml`\n"
     ]
    }
   ],
   "source": [
    "import Pkg;\n",
    "Pkg.add(\"IntervalArithmetic\")"
   ]
  },
  {
   "cell_type": "code",
   "execution_count": 1,
   "metadata": {},
   "outputs": [],
   "source": [
    "using IntervalArithmetic"
   ]
  },
  {
   "cell_type": "code",
   "execution_count": 2,
   "metadata": {},
   "outputs": [
    {
     "data": {
      "text/plain": [
       "T (generic function with 1 method)"
      ]
     },
     "execution_count": 2,
     "metadata": {},
     "output_type": "execute_result"
    }
   ],
   "source": [
    "T(x) = 2x + (1/64)*sin(4*π*x)#doubling(x) = mod(2*x, 1)"
   ]
  },
  {
   "cell_type": "code",
   "execution_count": 3,
   "metadata": {},
   "outputs": [
    {
     "data": {
      "text/plain": [
       "[0, 1]"
      ]
     },
     "execution_count": 3,
     "metadata": {},
     "output_type": "execute_result"
    }
   ],
   "source": [
    "I = @interval 0 1"
   ]
  },
  {
   "cell_type": "code",
   "execution_count": 9,
   "metadata": {},
   "outputs": [
    {
     "name": "stderr",
     "output_type": "stream",
     "text": [
      "\u001b[32m\u001b[1m   Resolving\u001b[22m\u001b[39m package versions...\n",
      "\u001b[32m\u001b[1m  No Changes\u001b[22m\u001b[39m to `~/.julia/environments/v1.8/Project.toml`\n",
      "\u001b[32m\u001b[1m  No Changes\u001b[22m\u001b[39m to `~/.julia/environments/v1.8/Manifest.toml`\n"
     ]
    }
   ],
   "source": [
    "using Pkg\n",
    "Pkg.add(\"Plots\")"
   ]
  },
  {
   "cell_type": "code",
   "execution_count": 4,
   "metadata": {},
   "outputs": [],
   "source": [
    "using Plots"
   ]
  },
  {
   "cell_type": "code",
   "execution_count": 5,
   "metadata": {},
   "outputs": [
    {
     "data": {
      "text/plain": [
       "20-element Vector{Interval{Float64}}:\n",
       " [0, 0.0500001]\n",
       "    [0.0499999, 0.100001]\n",
       "    [0.0999999, 0.150001]\n",
       "    [0.149999, 0.200001]\n",
       "    [0.199999, 0.25]\n",
       "    [0.25, 0.300001]\n",
       "    [0.299999, 0.350001]\n",
       "    [0.349999, 0.400001]\n",
       "    [0.399999, 0.450001]\n",
       "    [0.449999, 0.5]\n",
       "    [0.5, 0.550001]\n",
       "    [0.549999, 0.600001]\n",
       "    [0.599999, 0.650001]\n",
       "    [0.649999, 0.700001]\n",
       "    [0.699999, 0.75]\n",
       "    [0.75, 0.800001]\n",
       "    [0.799999, 0.850001]\n",
       "    [0.849999, 0.900001]\n",
       "    [0.899999, 0.950001]\n",
       "    [0.949999, 1]"
      ]
     },
     "execution_count": 5,
     "metadata": {},
     "output_type": "execute_result"
    }
   ],
   "source": [
    "N = 20\n",
    "X1 = [@interval i/N (i+1)/N for i in 0:N-1]"
   ]
  },
  {
   "cell_type": "code",
   "execution_count": 6,
   "metadata": {},
   "outputs": [
    {
     "data": {
      "image/svg+xml": "<?xml version=\"1.0\" encoding=\"utf-8\"?>\n<svg xmlns=\"http://www.w3.org/2000/svg\" xmlns:xlink=\"http://www.w3.org/1999/xlink\" width=\"600\" height=\"400\" viewBox=\"0 0 2400 1600\">\n<defs>\n  <clipPath id=\"clip390\">\n    <rect x=\"0\" y=\"0\" width=\"2400\" height=\"1600\"/>\n  </clipPath>\n</defs>\n<path clip-path=\"url(#clip390)\" d=\"\nM0 1600 L2400 1600 L2400 0 L0 0  Z\n  \" fill=\"#ffffff\" fill-rule=\"evenodd\" fill-opacity=\"1\"/>\n<defs>\n  <clipPath id=\"clip391\">\n    <rect x=\"480\" y=\"0\" width=\"1681\" height=\"1600\"/>\n  </clipPath>\n</defs>\n<path clip-path=\"url(#clip390)\" d=\"\nM156.112 1486.45 L2352.76 1486.45 L2352.76 47.2441 L156.112 47.2441  Z\n  \" fill=\"#ffffff\" fill-rule=\"evenodd\" fill-opacity=\"1\"/>\n<defs>\n  <clipPath id=\"clip392\">\n    <rect x=\"156\" y=\"47\" width=\"2198\" height=\"1440\"/>\n  </clipPath>\n</defs>\n<polyline clip-path=\"url(#clip392)\" style=\"stroke:#000000; stroke-linecap:round; stroke-linejoin:round; stroke-width:2; stroke-opacity:0.1; fill:none\" points=\"\n  218.281,1486.45 218.281,47.2441 \n  \"/>\n<polyline clip-path=\"url(#clip392)\" style=\"stroke:#000000; stroke-linecap:round; stroke-linejoin:round; stroke-width:2; stroke-opacity:0.1; fill:none\" points=\"\n  736.358,1486.45 736.358,47.2441 \n  \"/>\n<polyline clip-path=\"url(#clip392)\" style=\"stroke:#000000; stroke-linecap:round; stroke-linejoin:round; stroke-width:2; stroke-opacity:0.1; fill:none\" points=\"\n  1254.43,1486.45 1254.43,47.2441 \n  \"/>\n<polyline clip-path=\"url(#clip392)\" style=\"stroke:#000000; stroke-linecap:round; stroke-linejoin:round; stroke-width:2; stroke-opacity:0.1; fill:none\" points=\"\n  1772.51,1486.45 1772.51,47.2441 \n  \"/>\n<polyline clip-path=\"url(#clip392)\" style=\"stroke:#000000; stroke-linecap:round; stroke-linejoin:round; stroke-width:2; stroke-opacity:0.1; fill:none\" points=\"\n  2290.59,1486.45 2290.59,47.2441 \n  \"/>\n<polyline clip-path=\"url(#clip390)\" style=\"stroke:#000000; stroke-linecap:round; stroke-linejoin:round; stroke-width:4; stroke-opacity:1; fill:none\" points=\"\n  156.112,1486.45 2352.76,1486.45 \n  \"/>\n<polyline clip-path=\"url(#clip390)\" style=\"stroke:#000000; stroke-linecap:round; stroke-linejoin:round; stroke-width:4; stroke-opacity:1; fill:none\" points=\"\n  218.281,1486.45 218.281,1467.55 \n  \"/>\n<polyline clip-path=\"url(#clip390)\" style=\"stroke:#000000; stroke-linecap:round; stroke-linejoin:round; stroke-width:4; stroke-opacity:1; fill:none\" points=\"\n  736.358,1486.45 736.358,1467.55 \n  \"/>\n<polyline clip-path=\"url(#clip390)\" style=\"stroke:#000000; stroke-linecap:round; stroke-linejoin:round; stroke-width:4; stroke-opacity:1; fill:none\" points=\"\n  1254.43,1486.45 1254.43,1467.55 \n  \"/>\n<polyline clip-path=\"url(#clip390)\" style=\"stroke:#000000; stroke-linecap:round; stroke-linejoin:round; stroke-width:4; stroke-opacity:1; fill:none\" points=\"\n  1772.51,1486.45 1772.51,1467.55 \n  \"/>\n<polyline clip-path=\"url(#clip390)\" style=\"stroke:#000000; stroke-linecap:round; stroke-linejoin:round; stroke-width:4; stroke-opacity:1; fill:none\" points=\"\n  2290.59,1486.45 2290.59,1467.55 \n  \"/>\n<path clip-path=\"url(#clip390)\" d=\"M180.585 1517.37 Q176.974 1517.37 175.145 1520.93 Q173.339 1524.47 173.339 1531.6 Q173.339 1538.71 175.145 1542.27 Q176.974 1545.82 180.585 1545.82 Q184.219 1545.82 186.025 1542.27 Q187.853 1538.71 187.853 1531.6 Q187.853 1524.47 186.025 1520.93 Q184.219 1517.37 180.585 1517.37 M180.585 1513.66 Q186.395 1513.66 189.45 1518.27 Q192.529 1522.85 192.529 1531.6 Q192.529 1540.33 189.45 1544.94 Q186.395 1549.52 180.585 1549.52 Q174.775 1549.52 171.696 1544.94 Q168.64 1540.33 168.64 1531.6 Q168.64 1522.85 171.696 1518.27 Q174.775 1513.66 180.585 1513.66 Z\" fill=\"#000000\" fill-rule=\"evenodd\" fill-opacity=\"1\" /><path clip-path=\"url(#clip390)\" d=\"M200.747 1542.97 L205.631 1542.97 L205.631 1548.85 L200.747 1548.85 L200.747 1542.97 Z\" fill=\"#000000\" fill-rule=\"evenodd\" fill-opacity=\"1\" /><path clip-path=\"url(#clip390)\" d=\"M225.816 1517.37 Q222.205 1517.37 220.376 1520.93 Q218.571 1524.47 218.571 1531.6 Q218.571 1538.71 220.376 1542.27 Q222.205 1545.82 225.816 1545.82 Q229.45 1545.82 231.256 1542.27 Q233.084 1538.71 233.084 1531.6 Q233.084 1524.47 231.256 1520.93 Q229.45 1517.37 225.816 1517.37 M225.816 1513.66 Q231.626 1513.66 234.682 1518.27 Q237.76 1522.85 237.76 1531.6 Q237.76 1540.33 234.682 1544.94 Q231.626 1549.52 225.816 1549.52 Q220.006 1549.52 216.927 1544.94 Q213.872 1540.33 213.872 1531.6 Q213.872 1522.85 216.927 1518.27 Q220.006 1513.66 225.816 1513.66 Z\" fill=\"#000000\" fill-rule=\"evenodd\" fill-opacity=\"1\" /><path clip-path=\"url(#clip390)\" d=\"M255.978 1517.37 Q252.367 1517.37 250.538 1520.93 Q248.733 1524.47 248.733 1531.6 Q248.733 1538.71 250.538 1542.27 Q252.367 1545.82 255.978 1545.82 Q259.612 1545.82 261.418 1542.27 Q263.246 1538.71 263.246 1531.6 Q263.246 1524.47 261.418 1520.93 Q259.612 1517.37 255.978 1517.37 M255.978 1513.66 Q261.788 1513.66 264.844 1518.27 Q267.922 1522.85 267.922 1531.6 Q267.922 1540.33 264.844 1544.94 Q261.788 1549.52 255.978 1549.52 Q250.168 1549.52 247.089 1544.94 Q244.033 1540.33 244.033 1531.6 Q244.033 1522.85 247.089 1518.27 Q250.168 1513.66 255.978 1513.66 Z\" fill=\"#000000\" fill-rule=\"evenodd\" fill-opacity=\"1\" /><path clip-path=\"url(#clip390)\" d=\"M699.159 1517.37 Q695.548 1517.37 693.719 1520.93 Q691.913 1524.47 691.913 1531.6 Q691.913 1538.71 693.719 1542.27 Q695.548 1545.82 699.159 1545.82 Q702.793 1545.82 704.599 1542.27 Q706.427 1538.71 706.427 1531.6 Q706.427 1524.47 704.599 1520.93 Q702.793 1517.37 699.159 1517.37 M699.159 1513.66 Q704.969 1513.66 708.024 1518.27 Q711.103 1522.85 711.103 1531.6 Q711.103 1540.33 708.024 1544.94 Q704.969 1549.52 699.159 1549.52 Q693.349 1549.52 690.27 1544.94 Q687.214 1540.33 687.214 1531.6 Q687.214 1522.85 690.27 1518.27 Q693.349 1513.66 699.159 1513.66 Z\" fill=\"#000000\" fill-rule=\"evenodd\" fill-opacity=\"1\" /><path clip-path=\"url(#clip390)\" d=\"M719.321 1542.97 L724.205 1542.97 L724.205 1548.85 L719.321 1548.85 L719.321 1542.97 Z\" fill=\"#000000\" fill-rule=\"evenodd\" fill-opacity=\"1\" /><path clip-path=\"url(#clip390)\" d=\"M738.418 1544.91 L754.737 1544.91 L754.737 1548.85 L732.793 1548.85 L732.793 1544.91 Q735.455 1542.16 740.038 1537.53 Q744.645 1532.88 745.825 1531.53 Q748.071 1529.01 748.95 1527.27 Q749.853 1525.51 749.853 1523.82 Q749.853 1521.07 747.909 1519.33 Q745.987 1517.6 742.885 1517.6 Q740.686 1517.6 738.233 1518.36 Q735.802 1519.13 733.024 1520.68 L733.024 1515.95 Q735.848 1514.82 738.302 1514.24 Q740.756 1513.66 742.793 1513.66 Q748.163 1513.66 751.358 1516.35 Q754.552 1519.03 754.552 1523.52 Q754.552 1525.65 753.742 1527.57 Q752.955 1529.47 750.848 1532.07 Q750.27 1532.74 747.168 1535.95 Q744.066 1539.15 738.418 1544.91 Z\" fill=\"#000000\" fill-rule=\"evenodd\" fill-opacity=\"1\" /><path clip-path=\"url(#clip390)\" d=\"M764.598 1514.29 L782.955 1514.29 L782.955 1518.22 L768.881 1518.22 L768.881 1526.7 Q769.899 1526.35 770.918 1526.19 Q771.936 1526 772.955 1526 Q778.742 1526 782.121 1529.17 Q785.501 1532.34 785.501 1537.76 Q785.501 1543.34 782.029 1546.44 Q778.557 1549.52 772.237 1549.52 Q770.061 1549.52 767.793 1549.15 Q765.547 1548.78 763.14 1548.04 L763.14 1543.34 Q765.223 1544.47 767.445 1545.03 Q769.668 1545.58 772.144 1545.58 Q776.149 1545.58 778.487 1543.48 Q780.825 1541.37 780.825 1537.76 Q780.825 1534.15 778.487 1532.04 Q776.149 1529.94 772.144 1529.94 Q770.27 1529.94 768.395 1530.35 Q766.543 1530.77 764.598 1531.65 L764.598 1514.29 Z\" fill=\"#000000\" fill-rule=\"evenodd\" fill-opacity=\"1\" /><path clip-path=\"url(#clip390)\" d=\"M1216.74 1517.37 Q1213.13 1517.37 1211.3 1520.93 Q1209.49 1524.47 1209.49 1531.6 Q1209.49 1538.71 1211.3 1542.27 Q1213.13 1545.82 1216.74 1545.82 Q1220.37 1545.82 1222.18 1542.27 Q1224.01 1538.71 1224.01 1531.6 Q1224.01 1524.47 1222.18 1520.93 Q1220.37 1517.37 1216.74 1517.37 M1216.74 1513.66 Q1222.55 1513.66 1225.6 1518.27 Q1228.68 1522.85 1228.68 1531.6 Q1228.68 1540.33 1225.6 1544.94 Q1222.55 1549.52 1216.74 1549.52 Q1210.93 1549.52 1207.85 1544.94 Q1204.79 1540.33 1204.79 1531.6 Q1204.79 1522.85 1207.85 1518.27 Q1210.93 1513.66 1216.74 1513.66 Z\" fill=\"#000000\" fill-rule=\"evenodd\" fill-opacity=\"1\" /><path clip-path=\"url(#clip390)\" d=\"M1236.9 1542.97 L1241.78 1542.97 L1241.78 1548.85 L1236.9 1548.85 L1236.9 1542.97 Z\" fill=\"#000000\" fill-rule=\"evenodd\" fill-opacity=\"1\" /><path clip-path=\"url(#clip390)\" d=\"M1252.02 1514.29 L1270.37 1514.29 L1270.37 1518.22 L1256.3 1518.22 L1256.3 1526.7 Q1257.32 1526.35 1258.33 1526.19 Q1259.35 1526 1260.37 1526 Q1266.16 1526 1269.54 1529.17 Q1272.92 1532.34 1272.92 1537.76 Q1272.92 1543.34 1269.45 1546.44 Q1265.97 1549.52 1259.65 1549.52 Q1257.48 1549.52 1255.21 1549.15 Q1252.96 1548.78 1250.56 1548.04 L1250.56 1543.34 Q1252.64 1544.47 1254.86 1545.03 Q1257.08 1545.58 1259.56 1545.58 Q1263.57 1545.58 1265.9 1543.48 Q1268.24 1541.37 1268.24 1537.76 Q1268.24 1534.15 1265.9 1532.04 Q1263.57 1529.94 1259.56 1529.94 Q1257.69 1529.94 1255.81 1530.35 Q1253.96 1530.77 1252.02 1531.65 L1252.02 1514.29 Z\" fill=\"#000000\" fill-rule=\"evenodd\" fill-opacity=\"1\" /><path clip-path=\"url(#clip390)\" d=\"M1292.13 1517.37 Q1288.52 1517.37 1286.69 1520.93 Q1284.89 1524.47 1284.89 1531.6 Q1284.89 1538.71 1286.69 1542.27 Q1288.52 1545.82 1292.13 1545.82 Q1295.76 1545.82 1297.57 1542.27 Q1299.4 1538.71 1299.4 1531.6 Q1299.4 1524.47 1297.57 1520.93 Q1295.76 1517.37 1292.13 1517.37 M1292.13 1513.66 Q1297.94 1513.66 1301 1518.27 Q1304.07 1522.85 1304.07 1531.6 Q1304.07 1540.33 1301 1544.94 Q1297.94 1549.52 1292.13 1549.52 Q1286.32 1549.52 1283.24 1544.94 Q1280.19 1540.33 1280.19 1531.6 Q1280.19 1522.85 1283.24 1518.27 Q1286.32 1513.66 1292.13 1513.66 Z\" fill=\"#000000\" fill-rule=\"evenodd\" fill-opacity=\"1\" /><path clip-path=\"url(#clip390)\" d=\"M1735.31 1517.37 Q1731.7 1517.37 1729.87 1520.93 Q1728.07 1524.47 1728.07 1531.6 Q1728.07 1538.71 1729.87 1542.27 Q1731.7 1545.82 1735.31 1545.82 Q1738.95 1545.82 1740.75 1542.27 Q1742.58 1538.71 1742.58 1531.6 Q1742.58 1524.47 1740.75 1520.93 Q1738.95 1517.37 1735.31 1517.37 M1735.31 1513.66 Q1741.12 1513.66 1744.18 1518.27 Q1747.26 1522.85 1747.26 1531.6 Q1747.26 1540.33 1744.18 1544.94 Q1741.12 1549.52 1735.31 1549.52 Q1729.5 1549.52 1726.42 1544.94 Q1723.37 1540.33 1723.37 1531.6 Q1723.37 1522.85 1726.42 1518.27 Q1729.5 1513.66 1735.31 1513.66 Z\" fill=\"#000000\" fill-rule=\"evenodd\" fill-opacity=\"1\" /><path clip-path=\"url(#clip390)\" d=\"M1755.47 1542.97 L1760.36 1542.97 L1760.36 1548.85 L1755.47 1548.85 L1755.47 1542.97 Z\" fill=\"#000000\" fill-rule=\"evenodd\" fill-opacity=\"1\" /><path clip-path=\"url(#clip390)\" d=\"M1769.36 1514.29 L1791.58 1514.29 L1791.58 1516.28 L1779.04 1548.85 L1774.15 1548.85 L1785.96 1518.22 L1769.36 1518.22 L1769.36 1514.29 Z\" fill=\"#000000\" fill-rule=\"evenodd\" fill-opacity=\"1\" /><path clip-path=\"url(#clip390)\" d=\"M1800.75 1514.29 L1819.11 1514.29 L1819.11 1518.22 L1805.03 1518.22 L1805.03 1526.7 Q1806.05 1526.35 1807.07 1526.19 Q1808.09 1526 1809.11 1526 Q1814.89 1526 1818.27 1529.17 Q1821.65 1532.34 1821.65 1537.76 Q1821.65 1543.34 1818.18 1546.44 Q1814.71 1549.52 1808.39 1549.52 Q1806.21 1549.52 1803.95 1549.15 Q1801.7 1548.78 1799.29 1548.04 L1799.29 1543.34 Q1801.38 1544.47 1803.6 1545.03 Q1805.82 1545.58 1808.3 1545.58 Q1812.3 1545.58 1814.64 1543.48 Q1816.98 1541.37 1816.98 1537.76 Q1816.98 1534.15 1814.64 1532.04 Q1812.3 1529.94 1808.3 1529.94 Q1806.42 1529.94 1804.55 1530.35 Q1802.7 1530.77 1800.75 1531.65 L1800.75 1514.29 Z\" fill=\"#000000\" fill-rule=\"evenodd\" fill-opacity=\"1\" /><path clip-path=\"url(#clip390)\" d=\"M2242.66 1544.91 L2250.3 1544.91 L2250.3 1518.55 L2241.99 1520.21 L2241.99 1515.95 L2250.25 1514.29 L2254.93 1514.29 L2254.93 1544.91 L2262.57 1544.91 L2262.57 1548.85 L2242.66 1548.85 L2242.66 1544.91 Z\" fill=\"#000000\" fill-rule=\"evenodd\" fill-opacity=\"1\" /><path clip-path=\"url(#clip390)\" d=\"M2272.01 1542.97 L2276.89 1542.97 L2276.89 1548.85 L2272.01 1548.85 L2272.01 1542.97 Z\" fill=\"#000000\" fill-rule=\"evenodd\" fill-opacity=\"1\" /><path clip-path=\"url(#clip390)\" d=\"M2297.08 1517.37 Q2293.47 1517.37 2291.64 1520.93 Q2289.83 1524.47 2289.83 1531.6 Q2289.83 1538.71 2291.64 1542.27 Q2293.47 1545.82 2297.08 1545.82 Q2300.71 1545.82 2302.52 1542.27 Q2304.35 1538.71 2304.35 1531.6 Q2304.35 1524.47 2302.52 1520.93 Q2300.71 1517.37 2297.08 1517.37 M2297.08 1513.66 Q2302.89 1513.66 2305.95 1518.27 Q2309.02 1522.85 2309.02 1531.6 Q2309.02 1540.33 2305.95 1544.94 Q2302.89 1549.52 2297.08 1549.52 Q2291.27 1549.52 2288.19 1544.94 Q2285.14 1540.33 2285.14 1531.6 Q2285.14 1522.85 2288.19 1518.27 Q2291.27 1513.66 2297.08 1513.66 Z\" fill=\"#000000\" fill-rule=\"evenodd\" fill-opacity=\"1\" /><path clip-path=\"url(#clip390)\" d=\"M2327.24 1517.37 Q2323.63 1517.37 2321.8 1520.93 Q2320 1524.47 2320 1531.6 Q2320 1538.71 2321.8 1542.27 Q2323.63 1545.82 2327.24 1545.82 Q2330.88 1545.82 2332.68 1542.27 Q2334.51 1538.71 2334.51 1531.6 Q2334.51 1524.47 2332.68 1520.93 Q2330.88 1517.37 2327.24 1517.37 M2327.24 1513.66 Q2333.05 1513.66 2336.11 1518.27 Q2339.19 1522.85 2339.19 1531.6 Q2339.19 1540.33 2336.11 1544.94 Q2333.05 1549.52 2327.24 1549.52 Q2321.43 1549.52 2318.35 1544.94 Q2315.3 1540.33 2315.3 1531.6 Q2315.3 1522.85 2318.35 1518.27 Q2321.43 1513.66 2327.24 1513.66 Z\" fill=\"#000000\" fill-rule=\"evenodd\" fill-opacity=\"1\" /><polyline clip-path=\"url(#clip392)\" style=\"stroke:#000000; stroke-linecap:round; stroke-linejoin:round; stroke-width:2; stroke-opacity:0.1; fill:none\" points=\"\n  156.112,1445.72 2352.76,1445.72 \n  \"/>\n<polyline clip-path=\"url(#clip392)\" style=\"stroke:#000000; stroke-linecap:round; stroke-linejoin:round; stroke-width:2; stroke-opacity:0.1; fill:none\" points=\"\n  156.112,1106.28 2352.76,1106.28 \n  \"/>\n<polyline clip-path=\"url(#clip392)\" style=\"stroke:#000000; stroke-linecap:round; stroke-linejoin:round; stroke-width:2; stroke-opacity:0.1; fill:none\" points=\"\n  156.112,766.846 2352.76,766.846 \n  \"/>\n<polyline clip-path=\"url(#clip392)\" style=\"stroke:#000000; stroke-linecap:round; stroke-linejoin:round; stroke-width:2; stroke-opacity:0.1; fill:none\" points=\"\n  156.112,427.411 2352.76,427.411 \n  \"/>\n<polyline clip-path=\"url(#clip392)\" style=\"stroke:#000000; stroke-linecap:round; stroke-linejoin:round; stroke-width:2; stroke-opacity:0.1; fill:none\" points=\"\n  156.112,87.9763 2352.76,87.9763 \n  \"/>\n<polyline clip-path=\"url(#clip390)\" style=\"stroke:#000000; stroke-linecap:round; stroke-linejoin:round; stroke-width:4; stroke-opacity:1; fill:none\" points=\"\n  156.112,1486.45 156.112,47.2441 \n  \"/>\n<polyline clip-path=\"url(#clip390)\" style=\"stroke:#000000; stroke-linecap:round; stroke-linejoin:round; stroke-width:4; stroke-opacity:1; fill:none\" points=\"\n  156.112,1445.72 175.01,1445.72 \n  \"/>\n<polyline clip-path=\"url(#clip390)\" style=\"stroke:#000000; stroke-linecap:round; stroke-linejoin:round; stroke-width:4; stroke-opacity:1; fill:none\" points=\"\n  156.112,1106.28 175.01,1106.28 \n  \"/>\n<polyline clip-path=\"url(#clip390)\" style=\"stroke:#000000; stroke-linecap:round; stroke-linejoin:round; stroke-width:4; stroke-opacity:1; fill:none\" points=\"\n  156.112,766.846 175.01,766.846 \n  \"/>\n<polyline clip-path=\"url(#clip390)\" style=\"stroke:#000000; stroke-linecap:round; stroke-linejoin:round; stroke-width:4; stroke-opacity:1; fill:none\" points=\"\n  156.112,427.411 175.01,427.411 \n  \"/>\n<polyline clip-path=\"url(#clip390)\" style=\"stroke:#000000; stroke-linecap:round; stroke-linejoin:round; stroke-width:4; stroke-opacity:1; fill:none\" points=\"\n  156.112,87.9763 175.01,87.9763 \n  \"/>\n<path clip-path=\"url(#clip390)\" d=\"M62.9365 1431.51 Q59.3254 1431.51 57.4967 1435.08 Q55.6912 1438.62 55.6912 1445.75 Q55.6912 1452.86 57.4967 1456.42 Q59.3254 1459.96 62.9365 1459.96 Q66.5707 1459.96 68.3763 1456.42 Q70.205 1452.86 70.205 1445.75 Q70.205 1438.62 68.3763 1435.08 Q66.5707 1431.51 62.9365 1431.51 M62.9365 1427.81 Q68.7467 1427.81 71.8022 1432.42 Q74.8809 1437 74.8809 1445.75 Q74.8809 1454.48 71.8022 1459.08 Q68.7467 1463.67 62.9365 1463.67 Q57.1264 1463.67 54.0477 1459.08 Q50.9921 1454.48 50.9921 1445.75 Q50.9921 1437 54.0477 1432.42 Q57.1264 1427.81 62.9365 1427.81 Z\" fill=\"#000000\" fill-rule=\"evenodd\" fill-opacity=\"1\" /><path clip-path=\"url(#clip390)\" d=\"M83.0984 1457.12 L87.9827 1457.12 L87.9827 1463 L83.0984 1463 L83.0984 1457.12 Z\" fill=\"#000000\" fill-rule=\"evenodd\" fill-opacity=\"1\" /><path clip-path=\"url(#clip390)\" d=\"M108.168 1431.51 Q104.557 1431.51 102.728 1435.08 Q100.922 1438.62 100.922 1445.75 Q100.922 1452.86 102.728 1456.42 Q104.557 1459.96 108.168 1459.96 Q111.802 1459.96 113.608 1456.42 Q115.436 1452.86 115.436 1445.75 Q115.436 1438.62 113.608 1435.08 Q111.802 1431.51 108.168 1431.51 M108.168 1427.81 Q113.978 1427.81 117.033 1432.42 Q120.112 1437 120.112 1445.75 Q120.112 1454.48 117.033 1459.08 Q113.978 1463.67 108.168 1463.67 Q102.358 1463.67 99.2789 1459.08 Q96.2234 1454.48 96.2234 1445.75 Q96.2234 1437 99.2789 1432.42 Q102.358 1427.81 108.168 1427.81 Z\" fill=\"#000000\" fill-rule=\"evenodd\" fill-opacity=\"1\" /><path clip-path=\"url(#clip390)\" d=\"M63.9319 1092.08 Q60.3208 1092.08 58.4921 1095.64 Q56.6865 1099.19 56.6865 1106.32 Q56.6865 1113.42 58.4921 1116.99 Q60.3208 1120.53 63.9319 1120.53 Q67.5661 1120.53 69.3717 1116.99 Q71.2004 1113.42 71.2004 1106.32 Q71.2004 1099.19 69.3717 1095.64 Q67.5661 1092.08 63.9319 1092.08 M63.9319 1088.38 Q69.742 1088.38 72.7976 1092.98 Q75.8763 1097.57 75.8763 1106.32 Q75.8763 1115.04 72.7976 1119.65 Q69.742 1124.23 63.9319 1124.23 Q58.1217 1124.23 55.043 1119.65 Q51.9875 1115.04 51.9875 1106.32 Q51.9875 1097.57 55.043 1092.98 Q58.1217 1088.38 63.9319 1088.38 Z\" fill=\"#000000\" fill-rule=\"evenodd\" fill-opacity=\"1\" /><path clip-path=\"url(#clip390)\" d=\"M84.0938 1117.68 L88.978 1117.68 L88.978 1123.56 L84.0938 1123.56 L84.0938 1117.68 Z\" fill=\"#000000\" fill-rule=\"evenodd\" fill-opacity=\"1\" /><path clip-path=\"url(#clip390)\" d=\"M99.2095 1089 L117.566 1089 L117.566 1092.94 L103.492 1092.94 L103.492 1101.41 Q104.51 1101.06 105.529 1100.9 Q106.547 1100.71 107.566 1100.71 Q113.353 1100.71 116.733 1103.89 Q120.112 1107.06 120.112 1112.47 Q120.112 1118.05 116.64 1121.15 Q113.168 1124.23 106.848 1124.23 Q104.672 1124.23 102.404 1123.86 Q100.159 1123.49 97.7511 1122.75 L97.7511 1118.05 Q99.8345 1119.19 102.057 1119.74 Q104.279 1120.3 106.756 1120.3 Q110.76 1120.3 113.098 1118.19 Q115.436 1116.08 115.436 1112.47 Q115.436 1108.86 113.098 1106.76 Q110.76 1104.65 106.756 1104.65 Q104.881 1104.65 103.006 1105.07 Q101.154 1105.48 99.2095 1106.36 L99.2095 1089 Z\" fill=\"#000000\" fill-rule=\"evenodd\" fill-opacity=\"1\" /><path clip-path=\"url(#clip390)\" d=\"M53.7467 780.191 L61.3856 780.191 L61.3856 753.825 L53.0754 755.492 L53.0754 751.233 L61.3393 749.566 L66.0152 749.566 L66.0152 780.191 L73.654 780.191 L73.654 784.126 L53.7467 784.126 L53.7467 780.191 Z\" fill=\"#000000\" fill-rule=\"evenodd\" fill-opacity=\"1\" /><path clip-path=\"url(#clip390)\" d=\"M83.0984 778.246 L87.9827 778.246 L87.9827 784.126 L83.0984 784.126 L83.0984 778.246 Z\" fill=\"#000000\" fill-rule=\"evenodd\" fill-opacity=\"1\" /><path clip-path=\"url(#clip390)\" d=\"M108.168 752.645 Q104.557 752.645 102.728 756.209 Q100.922 759.751 100.922 766.881 Q100.922 773.987 102.728 777.552 Q104.557 781.094 108.168 781.094 Q111.802 781.094 113.608 777.552 Q115.436 773.987 115.436 766.881 Q115.436 759.751 113.608 756.209 Q111.802 752.645 108.168 752.645 M108.168 748.941 Q113.978 748.941 117.033 753.547 Q120.112 758.131 120.112 766.881 Q120.112 775.608 117.033 780.214 Q113.978 784.797 108.168 784.797 Q102.358 784.797 99.2789 780.214 Q96.2234 775.608 96.2234 766.881 Q96.2234 758.131 99.2789 753.547 Q102.358 748.941 108.168 748.941 Z\" fill=\"#000000\" fill-rule=\"evenodd\" fill-opacity=\"1\" /><path clip-path=\"url(#clip390)\" d=\"M54.7421 440.756 L62.381 440.756 L62.381 414.39 L54.0708 416.057 L54.0708 411.798 L62.3347 410.131 L67.0106 410.131 L67.0106 440.756 L74.6494 440.756 L74.6494 444.691 L54.7421 444.691 L54.7421 440.756 Z\" fill=\"#000000\" fill-rule=\"evenodd\" fill-opacity=\"1\" /><path clip-path=\"url(#clip390)\" d=\"M84.0938 438.812 L88.978 438.812 L88.978 444.691 L84.0938 444.691 L84.0938 438.812 Z\" fill=\"#000000\" fill-rule=\"evenodd\" fill-opacity=\"1\" /><path clip-path=\"url(#clip390)\" d=\"M99.2095 410.131 L117.566 410.131 L117.566 414.066 L103.492 414.066 L103.492 422.538 Q104.51 422.191 105.529 422.029 Q106.547 421.844 107.566 421.844 Q113.353 421.844 116.733 425.015 Q120.112 428.187 120.112 433.603 Q120.112 439.182 116.64 442.284 Q113.168 445.362 106.848 445.362 Q104.672 445.362 102.404 444.992 Q100.159 444.622 97.7511 443.881 L97.7511 439.182 Q99.8345 440.316 102.057 440.872 Q104.279 441.427 106.756 441.427 Q110.76 441.427 113.098 439.321 Q115.436 437.214 115.436 433.603 Q115.436 429.992 113.098 427.886 Q110.76 425.779 106.756 425.779 Q104.881 425.779 103.006 426.196 Q101.154 426.613 99.2095 427.492 L99.2095 410.131 Z\" fill=\"#000000\" fill-rule=\"evenodd\" fill-opacity=\"1\" /><path clip-path=\"url(#clip390)\" d=\"M56.9643 101.321 L73.2837 101.321 L73.2837 105.256 L51.3393 105.256 L51.3393 101.321 Q54.0014 98.5665 58.5847 93.9369 Q63.1911 89.2841 64.3717 87.9416 Q66.617 85.4184 67.4967 83.6823 Q68.3994 81.9231 68.3994 80.2333 Q68.3994 77.4786 66.455 75.7425 Q64.5337 74.0064 61.4319 74.0064 Q59.2328 74.0064 56.7791 74.7703 Q54.3486 75.5342 51.5708 77.0851 L51.5708 72.3629 Q54.3949 71.2287 56.8486 70.65 Q59.3023 70.0713 61.3393 70.0713 Q66.7096 70.0713 69.9041 72.7565 Q73.0985 75.4416 73.0985 79.9323 Q73.0985 82.062 72.2883 83.9832 Q71.5013 85.8814 69.3948 88.474 Q68.8161 89.1453 65.7143 92.3628 Q62.6124 95.5573 56.9643 101.321 Z\" fill=\"#000000\" fill-rule=\"evenodd\" fill-opacity=\"1\" /><path clip-path=\"url(#clip390)\" d=\"M83.0984 99.3767 L87.9827 99.3767 L87.9827 105.256 L83.0984 105.256 L83.0984 99.3767 Z\" fill=\"#000000\" fill-rule=\"evenodd\" fill-opacity=\"1\" /><path clip-path=\"url(#clip390)\" d=\"M108.168 73.775 Q104.557 73.775 102.728 77.3398 Q100.922 80.8814 100.922 88.011 Q100.922 95.1174 102.728 98.6822 Q104.557 102.224 108.168 102.224 Q111.802 102.224 113.608 98.6822 Q115.436 95.1174 115.436 88.011 Q115.436 80.8814 113.608 77.3398 Q111.802 73.775 108.168 73.775 M108.168 70.0713 Q113.978 70.0713 117.033 74.6777 Q120.112 79.261 120.112 88.011 Q120.112 96.7378 117.033 101.344 Q113.978 105.928 108.168 105.928 Q102.358 105.928 99.2789 101.344 Q96.2234 96.7378 96.2234 88.011 Q96.2234 79.261 99.2789 74.6777 Q102.358 70.0713 108.168 70.0713 Z\" fill=\"#000000\" fill-rule=\"evenodd\" fill-opacity=\"1\" /><polyline clip-path=\"url(#clip392)\" style=\"stroke:#009af9; stroke-linecap:round; stroke-linejoin:round; stroke-width:4; stroke-opacity:1; fill:none\" points=\"\n  218.281,1445.72 231.773,1436.01 356.525,1347.25 431.495,1295.82 494.882,1253.94 563.737,1210.19 627.216,1171.27 695.272,1130.58 774.122,1083.95 844.194,1042.08 \n  905.641,1004.44 972.634,961.983 1040.03,917.544 1114.54,866.462 1185.43,816.366 1259.14,763.456 1321.2,718.926 1396.95,665.401 1466.35,617.823 1530.45,575.455 \n  1595.38,534.141 1668.14,489.519 1734.08,450.143 1809.57,405.495 1879.47,363.742 1948.38,321.471 2015.29,278.903 2083.88,233.486 2159.03,181.765 2268.19,104.085 \n  2290.59,87.9763 \n  \"/>\n<path clip-path=\"url(#clip392)\" d=\"\nM218.281 1445.72 L321.897 1445.72 L321.897 1371.59 L218.281 1371.59 L218.281 1445.72  Z\n  \" fill=\"#e26f46\" fill-rule=\"evenodd\" fill-opacity=\"0.5\"/>\n<polyline clip-path=\"url(#clip392)\" style=\"stroke:#000000; stroke-linecap:round; stroke-linejoin:round; stroke-width:4; stroke-opacity:0.5; fill:none\" points=\"\n  218.281,1445.72 321.897,1445.72 321.897,1371.59 218.281,1371.59 218.281,1445.72 \n  \"/>\n<path clip-path=\"url(#clip392)\" d=\"\nM321.897 1371.59 L425.512 1371.59 L425.512 1299.85 L321.897 1299.85 L321.897 1371.59  Z\n  \" fill=\"#e26f46\" fill-rule=\"evenodd\" fill-opacity=\"0.5\"/>\n<polyline clip-path=\"url(#clip392)\" style=\"stroke:#000000; stroke-linecap:round; stroke-linejoin:round; stroke-width:4; stroke-opacity:0.5; fill:none\" points=\"\n  321.897,1371.59 425.512,1371.59 425.512,1299.85 321.897,1299.85 321.897,1371.59 \n  \"/>\n<path clip-path=\"url(#clip392)\" d=\"\nM425.512 1299.85 L529.127 1299.85 L529.127 1231.45 L425.512 1231.45 L425.512 1299.85  Z\n  \" fill=\"#e26f46\" fill-rule=\"evenodd\" fill-opacity=\"0.5\"/>\n<polyline clip-path=\"url(#clip392)\" style=\"stroke:#000000; stroke-linecap:round; stroke-linejoin:round; stroke-width:4; stroke-opacity:0.5; fill:none\" points=\"\n  425.512,1299.85 529.127,1299.85 529.127,1231.45 425.512,1231.45 425.512,1299.85 \n  \"/>\n<path clip-path=\"url(#clip392)\" d=\"\nM529.127 1235.82 L632.742 1235.82 L632.742 1164.08 L529.127 1164.08 L529.127 1235.82  Z\n  \" fill=\"#e26f46\" fill-rule=\"evenodd\" fill-opacity=\"0.5\"/>\n<polyline clip-path=\"url(#clip392)\" style=\"stroke:#000000; stroke-linecap:round; stroke-linejoin:round; stroke-width:4; stroke-opacity:0.5; fill:none\" points=\"\n  529.127,1235.82 632.742,1235.82 632.742,1164.08 529.127,1164.08 529.127,1235.82 \n  \"/>\n<path clip-path=\"url(#clip392)\" d=\"\nM632.742 1174.17 L736.358 1174.17 L736.358 1100.05 L632.742 1100.05 L632.742 1174.17  Z\n  \" fill=\"#e26f46\" fill-rule=\"evenodd\" fill-opacity=\"0.5\"/>\n<polyline clip-path=\"url(#clip392)\" style=\"stroke:#000000; stroke-linecap:round; stroke-linejoin:round; stroke-width:4; stroke-opacity:0.5; fill:none\" points=\"\n  632.742,1174.17 736.358,1174.17 736.358,1100.05 632.742,1100.05 632.742,1174.17 \n  \"/>\n<path clip-path=\"url(#clip392)\" d=\"\nM736.358 1112.52 L839.973 1112.52 L839.973 1038.39 L736.358 1038.39 L736.358 1112.52  Z\n  \" fill=\"#e26f46\" fill-rule=\"evenodd\" fill-opacity=\"0.5\"/>\n<polyline clip-path=\"url(#clip392)\" style=\"stroke:#000000; stroke-linecap:round; stroke-linejoin:round; stroke-width:4; stroke-opacity:0.5; fill:none\" points=\"\n  736.358,1112.52 839.973,1112.52 839.973,1038.39 736.358,1038.39 736.358,1112.52 \n  \"/>\n<path clip-path=\"url(#clip392)\" d=\"\nM839.973 1048.48 L943.588 1048.48 L943.588 976.742 L839.973 976.742 L839.973 1048.48  Z\n  \" fill=\"#e26f46\" fill-rule=\"evenodd\" fill-opacity=\"0.5\"/>\n<polyline clip-path=\"url(#clip392)\" style=\"stroke:#000000; stroke-linecap:round; stroke-linejoin:round; stroke-width:4; stroke-opacity:0.5; fill:none\" points=\"\n  839.973,1048.48 943.588,1048.48 943.588,976.742 839.973,976.742 839.973,1048.48 \n  \"/>\n<path clip-path=\"url(#clip392)\" d=\"\nM943.588 981.114 L1047.2 981.114 L1047.2 912.708 L943.588 912.708 L943.588 981.114  Z\n  \" fill=\"#e26f46\" fill-rule=\"evenodd\" fill-opacity=\"0.5\"/>\n<polyline clip-path=\"url(#clip392)\" style=\"stroke:#000000; stroke-linecap:round; stroke-linejoin:round; stroke-width:4; stroke-opacity:0.5; fill:none\" points=\"\n  943.588,981.114 1047.2,981.114 1047.2,912.708 943.588,912.708 943.588,981.114 \n  \"/>\n<path clip-path=\"url(#clip392)\" d=\"\nM1047.2 912.708 L1150.82 912.708 L1150.82 840.968 L1047.2 840.968 L1047.2 912.708  Z\n  \" fill=\"#e26f46\" fill-rule=\"evenodd\" fill-opacity=\"0.5\"/>\n<polyline clip-path=\"url(#clip392)\" style=\"stroke:#000000; stroke-linecap:round; stroke-linejoin:round; stroke-width:4; stroke-opacity:0.5; fill:none\" points=\"\n  1047.2,912.708 1150.82,912.708 1150.82,840.968 1047.2,840.968 1047.2,912.708 \n  \"/>\n<path clip-path=\"url(#clip392)\" d=\"\nM1150.82 840.968 L1254.43 840.968 L1254.43 766.846 L1150.82 766.846 L1150.82 840.968  Z\n  \" fill=\"#e26f46\" fill-rule=\"evenodd\" fill-opacity=\"0.5\"/>\n<polyline clip-path=\"url(#clip392)\" style=\"stroke:#000000; stroke-linecap:round; stroke-linejoin:round; stroke-width:4; stroke-opacity:0.5; fill:none\" points=\"\n  1150.82,840.968 1254.43,840.968 1254.43,766.846 1150.82,766.846 1150.82,840.968 \n  \"/>\n<path clip-path=\"url(#clip392)\" d=\"\nM1254.43 766.846 L1358.05 766.846 L1358.05 692.724 L1254.43 692.724 L1254.43 766.846  Z\n  \" fill=\"#e26f46\" fill-rule=\"evenodd\" fill-opacity=\"0.5\"/>\n<polyline clip-path=\"url(#clip392)\" style=\"stroke:#000000; stroke-linecap:round; stroke-linejoin:round; stroke-width:4; stroke-opacity:0.5; fill:none\" points=\"\n  1254.43,766.846 1358.05,766.846 1358.05,692.724 1254.43,692.724 1254.43,766.846 \n  \"/>\n<path clip-path=\"url(#clip392)\" d=\"\nM1358.05 692.724 L1461.66 692.724 L1461.66 620.984 L1358.05 620.984 L1358.05 692.724  Z\n  \" fill=\"#e26f46\" fill-rule=\"evenodd\" fill-opacity=\"0.5\"/>\n<polyline clip-path=\"url(#clip392)\" style=\"stroke:#000000; stroke-linecap:round; stroke-linejoin:round; stroke-width:4; stroke-opacity:0.5; fill:none\" points=\"\n  1358.05,692.724 1461.66,692.724 1461.66,620.984 1358.05,620.984 1358.05,692.724 \n  \"/>\n<path clip-path=\"url(#clip392)\" d=\"\nM1461.66 620.984 L1565.28 620.984 L1565.28 552.578 L1461.66 552.578 L1461.66 620.984  Z\n  \" fill=\"#e26f46\" fill-rule=\"evenodd\" fill-opacity=\"0.5\"/>\n<polyline clip-path=\"url(#clip392)\" style=\"stroke:#000000; stroke-linecap:round; stroke-linejoin:round; stroke-width:4; stroke-opacity:0.5; fill:none\" points=\"\n  1461.66,620.984 1565.28,620.984 1565.28,552.578 1461.66,552.578 1461.66,620.984 \n  \"/>\n<path clip-path=\"url(#clip392)\" d=\"\nM1565.28 556.95 L1668.9 556.95 L1668.9 485.21 L1565.28 485.21 L1565.28 556.95  Z\n  \" fill=\"#e26f46\" fill-rule=\"evenodd\" fill-opacity=\"0.5\"/>\n<polyline clip-path=\"url(#clip392)\" style=\"stroke:#000000; stroke-linecap:round; stroke-linejoin:round; stroke-width:4; stroke-opacity:0.5; fill:none\" points=\"\n  1565.28,556.95 1668.9,556.95 1668.9,485.21 1565.28,485.21 1565.28,556.95 \n  \"/>\n<path clip-path=\"url(#clip392)\" d=\"\nM1668.9 495.298 L1772.51 495.298 L1772.51 421.176 L1668.9 421.176 L1668.9 495.298  Z\n  \" fill=\"#e26f46\" fill-rule=\"evenodd\" fill-opacity=\"0.5\"/>\n<polyline clip-path=\"url(#clip392)\" style=\"stroke:#000000; stroke-linecap:round; stroke-linejoin:round; stroke-width:4; stroke-opacity:0.5; fill:none\" points=\"\n  1668.9,495.298 1772.51,495.298 1772.51,421.176 1668.9,421.176 1668.9,495.298 \n  \"/>\n<path clip-path=\"url(#clip392)\" d=\"\nM1772.51 433.646 L1876.13 433.646 L1876.13 359.524 L1772.51 359.524 L1772.51 433.646  Z\n  \" fill=\"#e26f46\" fill-rule=\"evenodd\" fill-opacity=\"0.5\"/>\n<polyline clip-path=\"url(#clip392)\" style=\"stroke:#000000; stroke-linecap:round; stroke-linejoin:round; stroke-width:4; stroke-opacity:0.5; fill:none\" points=\"\n  1772.51,433.646 1876.13,433.646 1876.13,359.524 1772.51,359.524 1772.51,433.646 \n  \"/>\n<path clip-path=\"url(#clip392)\" d=\"\nM1876.13 369.612 L1979.74 369.612 L1979.74 297.872 L1876.13 297.872 L1876.13 369.612  Z\n  \" fill=\"#e26f46\" fill-rule=\"evenodd\" fill-opacity=\"0.5\"/>\n<polyline clip-path=\"url(#clip392)\" style=\"stroke:#000000; stroke-linecap:round; stroke-linejoin:round; stroke-width:4; stroke-opacity:0.5; fill:none\" points=\"\n  1876.13,369.612 1979.74,369.612 1979.74,297.872 1876.13,297.872 1876.13,369.612 \n  \"/>\n<path clip-path=\"url(#clip392)\" d=\"\nM1979.74 302.245 L2083.36 302.245 L2083.36 233.838 L1979.74 233.838 L1979.74 302.245  Z\n  \" fill=\"#e26f46\" fill-rule=\"evenodd\" fill-opacity=\"0.5\"/>\n<polyline clip-path=\"url(#clip392)\" style=\"stroke:#000000; stroke-linecap:round; stroke-linejoin:round; stroke-width:4; stroke-opacity:0.5; fill:none\" points=\"\n  1979.74,302.245 2083.36,302.245 2083.36,233.838 1979.74,233.838 1979.74,302.245 \n  \"/>\n<path clip-path=\"url(#clip392)\" d=\"\nM2083.36 233.838 L2186.97 233.838 L2186.97 162.098 L2083.36 162.098 L2083.36 233.838  Z\n  \" fill=\"#e26f46\" fill-rule=\"evenodd\" fill-opacity=\"0.5\"/>\n<polyline clip-path=\"url(#clip392)\" style=\"stroke:#000000; stroke-linecap:round; stroke-linejoin:round; stroke-width:4; stroke-opacity:0.5; fill:none\" points=\"\n  2083.36,233.838 2186.97,233.838 2186.97,162.098 2083.36,162.098 2083.36,233.838 \n  \"/>\n<path clip-path=\"url(#clip392)\" d=\"\nM2186.97 162.098 L2290.59 162.098 L2290.59 87.9763 L2186.97 87.9763 L2186.97 162.098  Z\n  \" fill=\"#e26f46\" fill-rule=\"evenodd\" fill-opacity=\"0.5\"/>\n<polyline clip-path=\"url(#clip392)\" style=\"stroke:#000000; stroke-linecap:round; stroke-linejoin:round; stroke-width:4; stroke-opacity:0.5; fill:none\" points=\"\n  2186.97,162.098 2290.59,162.098 2290.59,87.9763 2186.97,87.9763 2186.97,162.098 \n  \"/>\n<path clip-path=\"url(#clip390)\" d=\"\nM2007.44 1438.47 L2279.53 1438.47 L2279.53 1282.95 L2007.44 1282.95  Z\n  \" fill=\"#ffffff\" fill-rule=\"evenodd\" fill-opacity=\"1\"/>\n<polyline clip-path=\"url(#clip390)\" style=\"stroke:#000000; stroke-linecap:round; stroke-linejoin:round; stroke-width:4; stroke-opacity:1; fill:none\" points=\"\n  2007.44,1438.47 2279.53,1438.47 2279.53,1282.95 2007.44,1282.95 2007.44,1438.47 \n  \"/>\n<polyline clip-path=\"url(#clip390)\" style=\"stroke:#009af9; stroke-linecap:round; stroke-linejoin:round; stroke-width:4; stroke-opacity:1; fill:none\" points=\"\n  2031.85,1334.79 2178.29,1334.79 \n  \"/>\n<path clip-path=\"url(#clip390)\" d=\"M2216.54 1354.48 Q2214.73 1359.11 2213.02 1360.52 Q2211.31 1361.94 2208.44 1361.94 L2205.03 1361.94 L2205.03 1358.37 L2207.53 1358.37 Q2209.29 1358.37 2210.27 1357.54 Q2211.24 1356.7 2212.42 1353.6 L2213.18 1351.66 L2202.7 1326.15 L2207.21 1326.15 L2215.31 1346.43 L2223.41 1326.15 L2227.93 1326.15 L2216.54 1354.48 Z\" fill=\"#000000\" fill-rule=\"evenodd\" fill-opacity=\"1\" /><path clip-path=\"url(#clip390)\" d=\"M2235.22 1348.14 L2242.86 1348.14 L2242.86 1321.77 L2234.55 1323.44 L2234.55 1319.18 L2242.81 1317.51 L2247.49 1317.51 L2247.49 1348.14 L2255.13 1348.14 L2255.13 1352.07 L2235.22 1352.07 L2235.22 1348.14 Z\" fill=\"#000000\" fill-rule=\"evenodd\" fill-opacity=\"1\" /><path clip-path=\"url(#clip390)\" d=\"\nM2031.85 1407.37 L2178.29 1407.37 L2178.29 1365.9 L2031.85 1365.9 L2031.85 1407.37  Z\n  \" fill=\"#e26f46\" fill-rule=\"evenodd\" fill-opacity=\"0.5\"/>\n<polyline clip-path=\"url(#clip390)\" style=\"stroke:#000000; stroke-linecap:round; stroke-linejoin:round; stroke-width:4; stroke-opacity:1; fill:none\" points=\"\n  2031.85,1407.37 2178.29,1407.37 2178.29,1365.9 2031.85,1365.9 2031.85,1407.37 \n  \"/>\n<path clip-path=\"url(#clip390)\" d=\"M2216.54 1406.32 Q2214.73 1410.95 2213.02 1412.36 Q2211.31 1413.78 2208.44 1413.78 L2205.03 1413.78 L2205.03 1410.21 L2207.53 1410.21 Q2209.29 1410.21 2210.27 1409.38 Q2211.24 1408.54 2212.42 1405.44 L2213.18 1403.5 L2202.7 1377.99 L2207.21 1377.99 L2215.31 1398.27 L2223.41 1377.99 L2227.93 1377.99 L2216.54 1406.32 Z\" fill=\"#000000\" fill-rule=\"evenodd\" fill-opacity=\"1\" /><path clip-path=\"url(#clip390)\" d=\"M2238.44 1399.98 L2254.76 1399.98 L2254.76 1403.91 L2232.81 1403.91 L2232.81 1399.98 Q2235.47 1397.22 2240.06 1392.6 Q2244.66 1387.94 2245.84 1386.6 Q2248.09 1384.08 2248.97 1382.34 Q2249.87 1380.58 2249.87 1378.89 Q2249.87 1376.14 2247.93 1374.4 Q2246.01 1372.66 2242.91 1372.66 Q2240.71 1372.66 2238.25 1373.43 Q2235.82 1374.19 2233.04 1375.74 L2233.04 1371.02 Q2235.87 1369.89 2238.32 1369.31 Q2240.78 1368.73 2242.81 1368.73 Q2248.18 1368.73 2251.38 1371.41 Q2254.57 1374.1 2254.57 1378.59 Q2254.57 1380.72 2253.76 1382.64 Q2252.97 1384.54 2250.87 1387.13 Q2250.29 1387.8 2247.19 1391.02 Q2244.09 1394.22 2238.44 1399.98 Z\" fill=\"#000000\" fill-rule=\"evenodd\" fill-opacity=\"1\" /></svg>\n"
     },
     "execution_count": 6,
     "metadata": {},
     "output_type": "execute_result"
    }
   ],
   "source": [
    "plot(T, 0, 1)\n",
    "plot!(IntervalBox.(X1, T.(X1)))"
   ]
  },
  {
   "cell_type": "code",
   "execution_count": 7,
   "metadata": {},
   "outputs": [
    {
     "data": {
      "text/plain": [
       "g (generic function with 1 method)"
      ]
     },
     "execution_count": 7,
     "metadata": {},
     "output_type": "execute_result"
    }
   ],
   "source": [
    "g(x) = mod(2*x, 1)"
   ]
  },
  {
   "cell_type": "code",
   "execution_count": 9,
   "metadata": {},
   "outputs": [
    {
     "data": {
      "text/plain": [
       "Newton (generic function with 1 method)"
      ]
     },
     "execution_count": 9,
     "metadata": {},
     "output_type": "execute_result"
    }
   ],
   "source": [
    "Newton(f, fprime, I::Interval{T}) where {T} = intersect(Interval{T}(mid(I))-f(Interval{T}(mid(I)))/fprime(I), I)"
   ]
  },
  {
   "cell_type": "code",
   "execution_count": 10,
   "metadata": {},
   "outputs": [
    {
     "data": {
      "text/plain": [
       "[0, 1]"
      ]
     },
     "execution_count": 10,
     "metadata": {},
     "output_type": "execute_result"
    }
   ],
   "source": [
    "I =  @interval 0 1"
   ]
  },
  {
   "cell_type": "code",
   "execution_count": 18,
   "metadata": {},
   "outputs": [
    {
     "data": {
      "text/plain": [
       "[0, 1]"
      ]
     },
     "execution_count": 18,
     "metadata": {},
     "output_type": "execute_result"
    }
   ],
   "source": [
    "I1=Interval{Float64}(I)"
   ]
  },
  {
   "cell_type": "code",
   "execution_count": 14,
   "metadata": {},
   "outputs": [
    {
     "data": {
      "text/plain": [
       "g1 (generic function with 1 method)"
      ]
     },
     "execution_count": 14,
     "metadata": {},
     "output_type": "execute_result"
    }
   ],
   "source": [
    "g1(x) = mod(2*x+0.1*sin(2*pi*x), 1)"
   ]
  },
  {
   "cell_type": "code",
   "execution_count": 15,
   "metadata": {},
   "outputs": [
    {
     "data": {
      "image/svg+xml": "<?xml version=\"1.0\" encoding=\"utf-8\"?>\n<svg xmlns=\"http://www.w3.org/2000/svg\" xmlns:xlink=\"http://www.w3.org/1999/xlink\" width=\"600\" height=\"400\" viewBox=\"0 0 2400 1600\">\n<defs>\n  <clipPath id=\"clip430\">\n    <rect x=\"0\" y=\"0\" width=\"2400\" height=\"1600\"/>\n  </clipPath>\n</defs>\n<path clip-path=\"url(#clip430)\" d=\"\nM0 1600 L2400 1600 L2400 0 L0 0  Z\n  \" fill=\"#ffffff\" fill-rule=\"evenodd\" fill-opacity=\"1\"/>\n<defs>\n  <clipPath id=\"clip431\">\n    <rect x=\"480\" y=\"0\" width=\"1681\" height=\"1600\"/>\n  </clipPath>\n</defs>\n<path clip-path=\"url(#clip430)\" d=\"\nM186.274 1486.45 L2352.76 1486.45 L2352.76 47.2441 L186.274 47.2441  Z\n  \" fill=\"#ffffff\" fill-rule=\"evenodd\" fill-opacity=\"1\"/>\n<defs>\n  <clipPath id=\"clip432\">\n    <rect x=\"186\" y=\"47\" width=\"2167\" height=\"1440\"/>\n  </clipPath>\n</defs>\n<polyline clip-path=\"url(#clip432)\" style=\"stroke:#000000; stroke-linecap:round; stroke-linejoin:round; stroke-width:2; stroke-opacity:0.1; fill:none\" points=\"\n  247.59,1486.45 247.59,47.2441 \n  \"/>\n<polyline clip-path=\"url(#clip432)\" style=\"stroke:#000000; stroke-linecap:round; stroke-linejoin:round; stroke-width:2; stroke-opacity:0.1; fill:none\" points=\"\n  758.552,1486.45 758.552,47.2441 \n  \"/>\n<polyline clip-path=\"url(#clip432)\" style=\"stroke:#000000; stroke-linecap:round; stroke-linejoin:round; stroke-width:2; stroke-opacity:0.1; fill:none\" points=\"\n  1269.51,1486.45 1269.51,47.2441 \n  \"/>\n<polyline clip-path=\"url(#clip432)\" style=\"stroke:#000000; stroke-linecap:round; stroke-linejoin:round; stroke-width:2; stroke-opacity:0.1; fill:none\" points=\"\n  1780.48,1486.45 1780.48,47.2441 \n  \"/>\n<polyline clip-path=\"url(#clip432)\" style=\"stroke:#000000; stroke-linecap:round; stroke-linejoin:round; stroke-width:2; stroke-opacity:0.1; fill:none\" points=\"\n  2291.44,1486.45 2291.44,47.2441 \n  \"/>\n<polyline clip-path=\"url(#clip430)\" style=\"stroke:#000000; stroke-linecap:round; stroke-linejoin:round; stroke-width:4; stroke-opacity:1; fill:none\" points=\"\n  186.274,1486.45 2352.76,1486.45 \n  \"/>\n<polyline clip-path=\"url(#clip430)\" style=\"stroke:#000000; stroke-linecap:round; stroke-linejoin:round; stroke-width:4; stroke-opacity:1; fill:none\" points=\"\n  247.59,1486.45 247.59,1467.55 \n  \"/>\n<polyline clip-path=\"url(#clip430)\" style=\"stroke:#000000; stroke-linecap:round; stroke-linejoin:round; stroke-width:4; stroke-opacity:1; fill:none\" points=\"\n  758.552,1486.45 758.552,1467.55 \n  \"/>\n<polyline clip-path=\"url(#clip430)\" style=\"stroke:#000000; stroke-linecap:round; stroke-linejoin:round; stroke-width:4; stroke-opacity:1; fill:none\" points=\"\n  1269.51,1486.45 1269.51,1467.55 \n  \"/>\n<polyline clip-path=\"url(#clip430)\" style=\"stroke:#000000; stroke-linecap:round; stroke-linejoin:round; stroke-width:4; stroke-opacity:1; fill:none\" points=\"\n  1780.48,1486.45 1780.48,1467.55 \n  \"/>\n<polyline clip-path=\"url(#clip430)\" style=\"stroke:#000000; stroke-linecap:round; stroke-linejoin:round; stroke-width:4; stroke-opacity:1; fill:none\" points=\"\n  2291.44,1486.45 2291.44,1467.55 \n  \"/>\n<path clip-path=\"url(#clip430)\" d=\"M209.893 1517.37 Q206.282 1517.37 204.453 1520.93 Q202.648 1524.47 202.648 1531.6 Q202.648 1538.71 204.453 1542.27 Q206.282 1545.82 209.893 1545.82 Q213.527 1545.82 215.333 1542.27 Q217.161 1538.71 217.161 1531.6 Q217.161 1524.47 215.333 1520.93 Q213.527 1517.37 209.893 1517.37 M209.893 1513.66 Q215.703 1513.66 218.759 1518.27 Q221.837 1522.85 221.837 1531.6 Q221.837 1540.33 218.759 1544.94 Q215.703 1549.52 209.893 1549.52 Q204.083 1549.52 201.004 1544.94 Q197.949 1540.33 197.949 1531.6 Q197.949 1522.85 201.004 1518.27 Q204.083 1513.66 209.893 1513.66 Z\" fill=\"#000000\" fill-rule=\"evenodd\" fill-opacity=\"1\" /><path clip-path=\"url(#clip430)\" d=\"M230.055 1542.97 L234.939 1542.97 L234.939 1548.85 L230.055 1548.85 L230.055 1542.97 Z\" fill=\"#000000\" fill-rule=\"evenodd\" fill-opacity=\"1\" /><path clip-path=\"url(#clip430)\" d=\"M255.124 1517.37 Q251.513 1517.37 249.684 1520.93 Q247.879 1524.47 247.879 1531.6 Q247.879 1538.71 249.684 1542.27 Q251.513 1545.82 255.124 1545.82 Q258.758 1545.82 260.564 1542.27 Q262.393 1538.71 262.393 1531.6 Q262.393 1524.47 260.564 1520.93 Q258.758 1517.37 255.124 1517.37 M255.124 1513.66 Q260.934 1513.66 263.99 1518.27 Q267.069 1522.85 267.069 1531.6 Q267.069 1540.33 263.99 1544.94 Q260.934 1549.52 255.124 1549.52 Q249.314 1549.52 246.235 1544.94 Q243.18 1540.33 243.18 1531.6 Q243.18 1522.85 246.235 1518.27 Q249.314 1513.66 255.124 1513.66 Z\" fill=\"#000000\" fill-rule=\"evenodd\" fill-opacity=\"1\" /><path clip-path=\"url(#clip430)\" d=\"M285.286 1517.37 Q281.675 1517.37 279.846 1520.93 Q278.041 1524.47 278.041 1531.6 Q278.041 1538.71 279.846 1542.27 Q281.675 1545.82 285.286 1545.82 Q288.92 1545.82 290.726 1542.27 Q292.555 1538.71 292.555 1531.6 Q292.555 1524.47 290.726 1520.93 Q288.92 1517.37 285.286 1517.37 M285.286 1513.66 Q291.096 1513.66 294.152 1518.27 Q297.23 1522.85 297.23 1531.6 Q297.23 1540.33 294.152 1544.94 Q291.096 1549.52 285.286 1549.52 Q279.476 1549.52 276.397 1544.94 Q273.342 1540.33 273.342 1531.6 Q273.342 1522.85 276.397 1518.27 Q279.476 1513.66 285.286 1513.66 Z\" fill=\"#000000\" fill-rule=\"evenodd\" fill-opacity=\"1\" /><path clip-path=\"url(#clip430)\" d=\"M721.353 1517.37 Q717.742 1517.37 715.914 1520.93 Q714.108 1524.47 714.108 1531.6 Q714.108 1538.71 715.914 1542.27 Q717.742 1545.82 721.353 1545.82 Q724.988 1545.82 726.793 1542.27 Q728.622 1538.71 728.622 1531.6 Q728.622 1524.47 726.793 1520.93 Q724.988 1517.37 721.353 1517.37 M721.353 1513.66 Q727.164 1513.66 730.219 1518.27 Q733.298 1522.85 733.298 1531.6 Q733.298 1540.33 730.219 1544.94 Q727.164 1549.52 721.353 1549.52 Q715.543 1549.52 712.465 1544.94 Q709.409 1540.33 709.409 1531.6 Q709.409 1522.85 712.465 1518.27 Q715.543 1513.66 721.353 1513.66 Z\" fill=\"#000000\" fill-rule=\"evenodd\" fill-opacity=\"1\" /><path clip-path=\"url(#clip430)\" d=\"M741.515 1542.97 L746.4 1542.97 L746.4 1548.85 L741.515 1548.85 L741.515 1542.97 Z\" fill=\"#000000\" fill-rule=\"evenodd\" fill-opacity=\"1\" /><path clip-path=\"url(#clip430)\" d=\"M760.612 1544.91 L776.932 1544.91 L776.932 1548.85 L754.987 1548.85 L754.987 1544.91 Q757.649 1542.16 762.233 1537.53 Q766.839 1532.88 768.02 1531.53 Q770.265 1529.01 771.145 1527.27 Q772.048 1525.51 772.048 1523.82 Q772.048 1521.07 770.103 1519.33 Q768.182 1517.6 765.08 1517.6 Q762.881 1517.6 760.427 1518.36 Q757.997 1519.13 755.219 1520.68 L755.219 1515.95 Q758.043 1514.82 760.497 1514.24 Q762.95 1513.66 764.987 1513.66 Q770.358 1513.66 773.552 1516.35 Q776.747 1519.03 776.747 1523.52 Q776.747 1525.65 775.936 1527.57 Q775.149 1529.47 773.043 1532.07 Q772.464 1532.74 769.362 1535.95 Q766.261 1539.15 760.612 1544.91 Z\" fill=\"#000000\" fill-rule=\"evenodd\" fill-opacity=\"1\" /><path clip-path=\"url(#clip430)\" d=\"M786.793 1514.29 L805.149 1514.29 L805.149 1518.22 L791.075 1518.22 L791.075 1526.7 Q792.094 1526.35 793.112 1526.19 Q794.131 1526 795.149 1526 Q800.936 1526 804.316 1529.17 Q807.695 1532.34 807.695 1537.76 Q807.695 1543.34 804.223 1546.44 Q800.751 1549.52 794.432 1549.52 Q792.256 1549.52 789.987 1549.15 Q787.742 1548.78 785.335 1548.04 L785.335 1543.34 Q787.418 1544.47 789.64 1545.03 Q791.862 1545.58 794.339 1545.58 Q798.344 1545.58 800.682 1543.48 Q803.02 1541.37 803.02 1537.76 Q803.02 1534.15 800.682 1532.04 Q798.344 1529.94 794.339 1529.94 Q792.464 1529.94 790.589 1530.35 Q788.737 1530.77 786.793 1531.65 L786.793 1514.29 Z\" fill=\"#000000\" fill-rule=\"evenodd\" fill-opacity=\"1\" /><path clip-path=\"url(#clip430)\" d=\"M1231.82 1517.37 Q1228.21 1517.37 1226.38 1520.93 Q1224.57 1524.47 1224.57 1531.6 Q1224.57 1538.71 1226.38 1542.27 Q1228.21 1545.82 1231.82 1545.82 Q1235.45 1545.82 1237.26 1542.27 Q1239.09 1538.71 1239.09 1531.6 Q1239.09 1524.47 1237.26 1520.93 Q1235.45 1517.37 1231.82 1517.37 M1231.82 1513.66 Q1237.63 1513.66 1240.68 1518.27 Q1243.76 1522.85 1243.76 1531.6 Q1243.76 1540.33 1240.68 1544.94 Q1237.63 1549.52 1231.82 1549.52 Q1226.01 1549.52 1222.93 1544.94 Q1219.87 1540.33 1219.87 1531.6 Q1219.87 1522.85 1222.93 1518.27 Q1226.01 1513.66 1231.82 1513.66 Z\" fill=\"#000000\" fill-rule=\"evenodd\" fill-opacity=\"1\" /><path clip-path=\"url(#clip430)\" d=\"M1251.98 1542.97 L1256.86 1542.97 L1256.86 1548.85 L1251.98 1548.85 L1251.98 1542.97 Z\" fill=\"#000000\" fill-rule=\"evenodd\" fill-opacity=\"1\" /><path clip-path=\"url(#clip430)\" d=\"M1267.1 1514.29 L1285.45 1514.29 L1285.45 1518.22 L1271.38 1518.22 L1271.38 1526.7 Q1272.4 1526.35 1273.42 1526.19 Q1274.43 1526 1275.45 1526 Q1281.24 1526 1284.62 1529.17 Q1288 1532.34 1288 1537.76 Q1288 1543.34 1284.53 1546.44 Q1281.05 1549.52 1274.73 1549.52 Q1272.56 1549.52 1270.29 1549.15 Q1268.05 1548.78 1265.64 1548.04 L1265.64 1543.34 Q1267.72 1544.47 1269.94 1545.03 Q1272.17 1545.58 1274.64 1545.58 Q1278.65 1545.58 1280.98 1543.48 Q1283.32 1541.37 1283.32 1537.76 Q1283.32 1534.15 1280.98 1532.04 Q1278.65 1529.94 1274.64 1529.94 Q1272.77 1529.94 1270.89 1530.35 Q1269.04 1530.77 1267.1 1531.65 L1267.1 1514.29 Z\" fill=\"#000000\" fill-rule=\"evenodd\" fill-opacity=\"1\" /><path clip-path=\"url(#clip430)\" d=\"M1307.21 1517.37 Q1303.6 1517.37 1301.77 1520.93 Q1299.97 1524.47 1299.97 1531.6 Q1299.97 1538.71 1301.77 1542.27 Q1303.6 1545.82 1307.21 1545.82 Q1310.85 1545.82 1312.65 1542.27 Q1314.48 1538.71 1314.48 1531.6 Q1314.48 1524.47 1312.65 1520.93 Q1310.85 1517.37 1307.21 1517.37 M1307.21 1513.66 Q1313.02 1513.66 1316.08 1518.27 Q1319.16 1522.85 1319.16 1531.6 Q1319.16 1540.33 1316.08 1544.94 Q1313.02 1549.52 1307.21 1549.52 Q1301.4 1549.52 1298.32 1544.94 Q1295.27 1540.33 1295.27 1531.6 Q1295.27 1522.85 1298.32 1518.27 Q1301.4 1513.66 1307.21 1513.66 Z\" fill=\"#000000\" fill-rule=\"evenodd\" fill-opacity=\"1\" /><path clip-path=\"url(#clip430)\" d=\"M1743.28 1517.37 Q1739.67 1517.37 1737.84 1520.93 Q1736.03 1524.47 1736.03 1531.6 Q1736.03 1538.71 1737.84 1542.27 Q1739.67 1545.82 1743.28 1545.82 Q1746.91 1545.82 1748.72 1542.27 Q1750.55 1538.71 1750.55 1531.6 Q1750.55 1524.47 1748.72 1520.93 Q1746.91 1517.37 1743.28 1517.37 M1743.28 1513.66 Q1749.09 1513.66 1752.14 1518.27 Q1755.22 1522.85 1755.22 1531.6 Q1755.22 1540.33 1752.14 1544.94 Q1749.09 1549.52 1743.28 1549.52 Q1737.47 1549.52 1734.39 1544.94 Q1731.33 1540.33 1731.33 1531.6 Q1731.33 1522.85 1734.39 1518.27 Q1737.47 1513.66 1743.28 1513.66 Z\" fill=\"#000000\" fill-rule=\"evenodd\" fill-opacity=\"1\" /><path clip-path=\"url(#clip430)\" d=\"M1763.44 1542.97 L1768.32 1542.97 L1768.32 1548.85 L1763.44 1548.85 L1763.44 1542.97 Z\" fill=\"#000000\" fill-rule=\"evenodd\" fill-opacity=\"1\" /><path clip-path=\"url(#clip430)\" d=\"M1777.33 1514.29 L1799.55 1514.29 L1799.55 1516.28 L1787.01 1548.85 L1782.12 1548.85 L1793.93 1518.22 L1777.33 1518.22 L1777.33 1514.29 Z\" fill=\"#000000\" fill-rule=\"evenodd\" fill-opacity=\"1\" /><path clip-path=\"url(#clip430)\" d=\"M1808.72 1514.29 L1827.07 1514.29 L1827.07 1518.22 L1813 1518.22 L1813 1526.7 Q1814.02 1526.35 1815.04 1526.19 Q1816.06 1526 1817.07 1526 Q1822.86 1526 1826.24 1529.17 Q1829.62 1532.34 1829.62 1537.76 Q1829.62 1543.34 1826.15 1546.44 Q1822.68 1549.52 1816.36 1549.52 Q1814.18 1549.52 1811.91 1549.15 Q1809.67 1548.78 1807.26 1548.04 L1807.26 1543.34 Q1809.34 1544.47 1811.57 1545.03 Q1813.79 1545.58 1816.26 1545.58 Q1820.27 1545.58 1822.61 1543.48 Q1824.95 1541.37 1824.95 1537.76 Q1824.95 1534.15 1822.61 1532.04 Q1820.27 1529.94 1816.26 1529.94 Q1814.39 1529.94 1812.51 1530.35 Q1810.66 1530.77 1808.72 1531.65 L1808.72 1514.29 Z\" fill=\"#000000\" fill-rule=\"evenodd\" fill-opacity=\"1\" /><path clip-path=\"url(#clip430)\" d=\"M2243.51 1544.91 L2251.15 1544.91 L2251.15 1518.55 L2242.84 1520.21 L2242.84 1515.95 L2251.1 1514.29 L2255.78 1514.29 L2255.78 1544.91 L2263.42 1544.91 L2263.42 1548.85 L2243.51 1548.85 L2243.51 1544.91 Z\" fill=\"#000000\" fill-rule=\"evenodd\" fill-opacity=\"1\" /><path clip-path=\"url(#clip430)\" d=\"M2272.86 1542.97 L2277.75 1542.97 L2277.75 1548.85 L2272.86 1548.85 L2272.86 1542.97 Z\" fill=\"#000000\" fill-rule=\"evenodd\" fill-opacity=\"1\" /><path clip-path=\"url(#clip430)\" d=\"M2297.93 1517.37 Q2294.32 1517.37 2292.49 1520.93 Q2290.69 1524.47 2290.69 1531.6 Q2290.69 1538.71 2292.49 1542.27 Q2294.32 1545.82 2297.93 1545.82 Q2301.57 1545.82 2303.37 1542.27 Q2305.2 1538.71 2305.2 1531.6 Q2305.2 1524.47 2303.37 1520.93 Q2301.57 1517.37 2297.93 1517.37 M2297.93 1513.66 Q2303.74 1513.66 2306.8 1518.27 Q2309.88 1522.85 2309.88 1531.6 Q2309.88 1540.33 2306.8 1544.94 Q2303.74 1549.52 2297.93 1549.52 Q2292.12 1549.52 2289.04 1544.94 Q2285.99 1540.33 2285.99 1531.6 Q2285.99 1522.85 2289.04 1518.27 Q2292.12 1513.66 2297.93 1513.66 Z\" fill=\"#000000\" fill-rule=\"evenodd\" fill-opacity=\"1\" /><path clip-path=\"url(#clip430)\" d=\"M2328.1 1517.37 Q2324.48 1517.37 2322.66 1520.93 Q2320.85 1524.47 2320.85 1531.6 Q2320.85 1538.71 2322.66 1542.27 Q2324.48 1545.82 2328.1 1545.82 Q2331.73 1545.82 2333.54 1542.27 Q2335.36 1538.71 2335.36 1531.6 Q2335.36 1524.47 2333.54 1520.93 Q2331.73 1517.37 2328.1 1517.37 M2328.1 1513.66 Q2333.91 1513.66 2336.96 1518.27 Q2340.04 1522.85 2340.04 1531.6 Q2340.04 1540.33 2336.96 1544.94 Q2333.91 1549.52 2328.1 1549.52 Q2322.29 1549.52 2319.21 1544.94 Q2316.15 1540.33 2316.15 1531.6 Q2316.15 1522.85 2319.21 1518.27 Q2322.29 1513.66 2328.1 1513.66 Z\" fill=\"#000000\" fill-rule=\"evenodd\" fill-opacity=\"1\" /><polyline clip-path=\"url(#clip432)\" style=\"stroke:#000000; stroke-linecap:round; stroke-linejoin:round; stroke-width:2; stroke-opacity:0.1; fill:none\" points=\"\n  186.274,1445.72 2352.76,1445.72 \n  \"/>\n<polyline clip-path=\"url(#clip432)\" style=\"stroke:#000000; stroke-linecap:round; stroke-linejoin:round; stroke-width:2; stroke-opacity:0.1; fill:none\" points=\"\n  186.274,1106.17 2352.76,1106.17 \n  \"/>\n<polyline clip-path=\"url(#clip432)\" style=\"stroke:#000000; stroke-linecap:round; stroke-linejoin:round; stroke-width:2; stroke-opacity:0.1; fill:none\" points=\"\n  186.274,766.634 2352.76,766.634 \n  \"/>\n<polyline clip-path=\"url(#clip432)\" style=\"stroke:#000000; stroke-linecap:round; stroke-linejoin:round; stroke-width:2; stroke-opacity:0.1; fill:none\" points=\"\n  186.274,427.093 2352.76,427.093 \n  \"/>\n<polyline clip-path=\"url(#clip432)\" style=\"stroke:#000000; stroke-linecap:round; stroke-linejoin:round; stroke-width:2; stroke-opacity:0.1; fill:none\" points=\"\n  186.274,87.5519 2352.76,87.5519 \n  \"/>\n<polyline clip-path=\"url(#clip430)\" style=\"stroke:#000000; stroke-linecap:round; stroke-linejoin:round; stroke-width:4; stroke-opacity:1; fill:none\" points=\"\n  186.274,1486.45 186.274,47.2441 \n  \"/>\n<polyline clip-path=\"url(#clip430)\" style=\"stroke:#000000; stroke-linecap:round; stroke-linejoin:round; stroke-width:4; stroke-opacity:1; fill:none\" points=\"\n  186.274,1445.72 205.172,1445.72 \n  \"/>\n<polyline clip-path=\"url(#clip430)\" style=\"stroke:#000000; stroke-linecap:round; stroke-linejoin:round; stroke-width:4; stroke-opacity:1; fill:none\" points=\"\n  186.274,1106.17 205.172,1106.17 \n  \"/>\n<polyline clip-path=\"url(#clip430)\" style=\"stroke:#000000; stroke-linecap:round; stroke-linejoin:round; stroke-width:4; stroke-opacity:1; fill:none\" points=\"\n  186.274,766.634 205.172,766.634 \n  \"/>\n<polyline clip-path=\"url(#clip430)\" style=\"stroke:#000000; stroke-linecap:round; stroke-linejoin:round; stroke-width:4; stroke-opacity:1; fill:none\" points=\"\n  186.274,427.093 205.172,427.093 \n  \"/>\n<polyline clip-path=\"url(#clip430)\" style=\"stroke:#000000; stroke-linecap:round; stroke-linejoin:round; stroke-width:4; stroke-opacity:1; fill:none\" points=\"\n  186.274,87.5519 205.172,87.5519 \n  \"/>\n<path clip-path=\"url(#clip430)\" d=\"M62.9365 1431.51 Q59.3254 1431.51 57.4967 1435.08 Q55.6912 1438.62 55.6912 1445.75 Q55.6912 1452.86 57.4967 1456.42 Q59.3254 1459.96 62.9365 1459.96 Q66.5707 1459.96 68.3763 1456.42 Q70.205 1452.86 70.205 1445.75 Q70.205 1438.62 68.3763 1435.08 Q66.5707 1431.51 62.9365 1431.51 M62.9365 1427.81 Q68.7467 1427.81 71.8022 1432.42 Q74.8809 1437 74.8809 1445.75 Q74.8809 1454.48 71.8022 1459.08 Q68.7467 1463.67 62.9365 1463.67 Q57.1264 1463.67 54.0477 1459.08 Q50.9921 1454.48 50.9921 1445.75 Q50.9921 1437 54.0477 1432.42 Q57.1264 1427.81 62.9365 1427.81 Z\" fill=\"#000000\" fill-rule=\"evenodd\" fill-opacity=\"1\" /><path clip-path=\"url(#clip430)\" d=\"M83.0984 1457.12 L87.9827 1457.12 L87.9827 1463 L83.0984 1463 L83.0984 1457.12 Z\" fill=\"#000000\" fill-rule=\"evenodd\" fill-opacity=\"1\" /><path clip-path=\"url(#clip430)\" d=\"M108.168 1431.51 Q104.557 1431.51 102.728 1435.08 Q100.922 1438.62 100.922 1445.75 Q100.922 1452.86 102.728 1456.42 Q104.557 1459.96 108.168 1459.96 Q111.802 1459.96 113.608 1456.42 Q115.436 1452.86 115.436 1445.75 Q115.436 1438.62 113.608 1435.08 Q111.802 1431.51 108.168 1431.51 M108.168 1427.81 Q113.978 1427.81 117.033 1432.42 Q120.112 1437 120.112 1445.75 Q120.112 1454.48 117.033 1459.08 Q113.978 1463.67 108.168 1463.67 Q102.358 1463.67 99.2789 1459.08 Q96.2234 1454.48 96.2234 1445.75 Q96.2234 1437 99.2789 1432.42 Q102.358 1427.81 108.168 1427.81 Z\" fill=\"#000000\" fill-rule=\"evenodd\" fill-opacity=\"1\" /><path clip-path=\"url(#clip430)\" d=\"M138.33 1431.51 Q134.719 1431.51 132.89 1435.08 Q131.084 1438.62 131.084 1445.75 Q131.084 1452.86 132.89 1456.42 Q134.719 1459.96 138.33 1459.96 Q141.964 1459.96 143.769 1456.42 Q145.598 1452.86 145.598 1445.75 Q145.598 1438.62 143.769 1435.08 Q141.964 1431.51 138.33 1431.51 M138.33 1427.81 Q144.14 1427.81 147.195 1432.42 Q150.274 1437 150.274 1445.75 Q150.274 1454.48 147.195 1459.08 Q144.14 1463.67 138.33 1463.67 Q132.519 1463.67 129.441 1459.08 Q126.385 1454.48 126.385 1445.75 Q126.385 1437 129.441 1432.42 Q132.519 1427.81 138.33 1427.81 Z\" fill=\"#000000\" fill-rule=\"evenodd\" fill-opacity=\"1\" /><path clip-path=\"url(#clip430)\" d=\"M63.9319 1091.97 Q60.3208 1091.97 58.4921 1095.54 Q56.6865 1099.08 56.6865 1106.21 Q56.6865 1113.32 58.4921 1116.88 Q60.3208 1120.42 63.9319 1120.42 Q67.5661 1120.42 69.3717 1116.88 Q71.2004 1113.32 71.2004 1106.21 Q71.2004 1099.08 69.3717 1095.54 Q67.5661 1091.97 63.9319 1091.97 M63.9319 1088.27 Q69.742 1088.27 72.7976 1092.88 Q75.8763 1097.46 75.8763 1106.21 Q75.8763 1114.94 72.7976 1119.54 Q69.742 1124.13 63.9319 1124.13 Q58.1217 1124.13 55.043 1119.54 Q51.9875 1114.94 51.9875 1106.21 Q51.9875 1097.46 55.043 1092.88 Q58.1217 1088.27 63.9319 1088.27 Z\" fill=\"#000000\" fill-rule=\"evenodd\" fill-opacity=\"1\" /><path clip-path=\"url(#clip430)\" d=\"M84.0938 1117.58 L88.978 1117.58 L88.978 1123.45 L84.0938 1123.45 L84.0938 1117.58 Z\" fill=\"#000000\" fill-rule=\"evenodd\" fill-opacity=\"1\" /><path clip-path=\"url(#clip430)\" d=\"M103.191 1119.52 L119.51 1119.52 L119.51 1123.45 L97.566 1123.45 L97.566 1119.52 Q100.228 1116.76 104.811 1112.14 Q109.418 1107.48 110.598 1106.14 Q112.844 1103.62 113.723 1101.88 Q114.626 1100.12 114.626 1098.43 Q114.626 1095.68 112.682 1093.94 Q110.76 1092.2 107.658 1092.2 Q105.459 1092.2 103.006 1092.97 Q100.575 1093.73 97.7974 1095.28 L97.7974 1090.56 Q100.621 1089.43 103.075 1088.85 Q105.529 1088.27 107.566 1088.27 Q112.936 1088.27 116.131 1090.95 Q119.325 1093.64 119.325 1098.13 Q119.325 1100.26 118.515 1102.18 Q117.728 1104.08 115.621 1106.67 Q115.043 1107.34 111.941 1110.56 Q108.839 1113.76 103.191 1119.52 Z\" fill=\"#000000\" fill-rule=\"evenodd\" fill-opacity=\"1\" /><path clip-path=\"url(#clip430)\" d=\"M129.371 1088.89 L147.728 1088.89 L147.728 1092.83 L133.654 1092.83 L133.654 1101.3 Q134.672 1100.95 135.691 1100.79 Q136.709 1100.61 137.728 1100.61 Q143.515 1100.61 146.894 1103.78 Q150.274 1106.95 150.274 1112.37 Q150.274 1117.95 146.802 1121.05 Q143.33 1124.13 137.01 1124.13 Q134.834 1124.13 132.566 1123.76 Q130.32 1123.39 127.913 1122.64 L127.913 1117.95 Q129.996 1119.08 132.219 1119.64 Q134.441 1120.19 136.918 1120.19 Q140.922 1120.19 143.26 1118.08 Q145.598 1115.98 145.598 1112.37 Q145.598 1108.76 143.26 1106.65 Q140.922 1104.54 136.918 1104.54 Q135.043 1104.54 133.168 1104.96 Q131.316 1105.38 129.371 1106.26 L129.371 1088.89 Z\" fill=\"#000000\" fill-rule=\"evenodd\" fill-opacity=\"1\" /><path clip-path=\"url(#clip430)\" d=\"M62.9365 752.432 Q59.3254 752.432 57.4967 755.997 Q55.6912 759.539 55.6912 766.669 Q55.6912 773.775 57.4967 777.34 Q59.3254 780.881 62.9365 780.881 Q66.5707 780.881 68.3763 777.34 Q70.205 773.775 70.205 766.669 Q70.205 759.539 68.3763 755.997 Q66.5707 752.432 62.9365 752.432 M62.9365 748.729 Q68.7467 748.729 71.8022 753.335 Q74.8809 757.919 74.8809 766.669 Q74.8809 775.395 71.8022 780.002 Q68.7467 784.585 62.9365 784.585 Q57.1264 784.585 54.0477 780.002 Q50.9921 775.395 50.9921 766.669 Q50.9921 757.919 54.0477 753.335 Q57.1264 748.729 62.9365 748.729 Z\" fill=\"#000000\" fill-rule=\"evenodd\" fill-opacity=\"1\" /><path clip-path=\"url(#clip430)\" d=\"M83.0984 778.034 L87.9827 778.034 L87.9827 783.914 L83.0984 783.914 L83.0984 778.034 Z\" fill=\"#000000\" fill-rule=\"evenodd\" fill-opacity=\"1\" /><path clip-path=\"url(#clip430)\" d=\"M98.2141 749.354 L116.57 749.354 L116.57 753.289 L102.496 753.289 L102.496 761.761 Q103.515 761.414 104.534 761.252 Q105.552 761.067 106.571 761.067 Q112.358 761.067 115.737 764.238 Q119.117 767.409 119.117 772.826 Q119.117 778.405 115.645 781.506 Q112.172 784.585 105.853 784.585 Q103.677 784.585 101.409 784.215 Q99.1632 783.844 96.7558 783.104 L96.7558 778.405 Q98.8391 779.539 101.061 780.094 Q103.284 780.65 105.76 780.65 Q109.765 780.65 112.103 778.543 Q114.441 776.437 114.441 772.826 Q114.441 769.215 112.103 767.108 Q109.765 765.002 105.76 765.002 Q103.885 765.002 102.01 765.419 Q100.159 765.835 98.2141 766.715 L98.2141 749.354 Z\" fill=\"#000000\" fill-rule=\"evenodd\" fill-opacity=\"1\" /><path clip-path=\"url(#clip430)\" d=\"M138.33 752.432 Q134.719 752.432 132.89 755.997 Q131.084 759.539 131.084 766.669 Q131.084 773.775 132.89 777.34 Q134.719 780.881 138.33 780.881 Q141.964 780.881 143.769 777.34 Q145.598 773.775 145.598 766.669 Q145.598 759.539 143.769 755.997 Q141.964 752.432 138.33 752.432 M138.33 748.729 Q144.14 748.729 147.195 753.335 Q150.274 757.919 150.274 766.669 Q150.274 775.395 147.195 780.002 Q144.14 784.585 138.33 784.585 Q132.519 784.585 129.441 780.002 Q126.385 775.395 126.385 766.669 Q126.385 757.919 129.441 753.335 Q132.519 748.729 138.33 748.729 Z\" fill=\"#000000\" fill-rule=\"evenodd\" fill-opacity=\"1\" /><path clip-path=\"url(#clip430)\" d=\"M63.9319 412.892 Q60.3208 412.892 58.4921 416.456 Q56.6865 419.998 56.6865 427.128 Q56.6865 434.234 58.4921 437.799 Q60.3208 441.34 63.9319 441.34 Q67.5661 441.34 69.3717 437.799 Q71.2004 434.234 71.2004 427.128 Q71.2004 419.998 69.3717 416.456 Q67.5661 412.892 63.9319 412.892 M63.9319 409.188 Q69.742 409.188 72.7976 413.794 Q75.8763 418.378 75.8763 427.128 Q75.8763 435.854 72.7976 440.461 Q69.742 445.044 63.9319 445.044 Q58.1217 445.044 55.043 440.461 Q51.9875 435.854 51.9875 427.128 Q51.9875 418.378 55.043 413.794 Q58.1217 409.188 63.9319 409.188 Z\" fill=\"#000000\" fill-rule=\"evenodd\" fill-opacity=\"1\" /><path clip-path=\"url(#clip430)\" d=\"M84.0938 438.493 L88.978 438.493 L88.978 444.373 L84.0938 444.373 L84.0938 438.493 Z\" fill=\"#000000\" fill-rule=\"evenodd\" fill-opacity=\"1\" /><path clip-path=\"url(#clip430)\" d=\"M97.9826 409.813 L120.205 409.813 L120.205 411.804 L107.658 444.373 L102.774 444.373 L114.58 413.748 L97.9826 413.748 L97.9826 409.813 Z\" fill=\"#000000\" fill-rule=\"evenodd\" fill-opacity=\"1\" /><path clip-path=\"url(#clip430)\" d=\"M129.371 409.813 L147.728 409.813 L147.728 413.748 L133.654 413.748 L133.654 422.22 Q134.672 421.873 135.691 421.711 Q136.709 421.526 137.728 421.526 Q143.515 421.526 146.894 424.697 Q150.274 427.868 150.274 433.285 Q150.274 438.864 146.802 441.965 Q143.33 445.044 137.01 445.044 Q134.834 445.044 132.566 444.674 Q130.32 444.303 127.913 443.563 L127.913 438.864 Q129.996 439.998 132.219 440.553 Q134.441 441.109 136.918 441.109 Q140.922 441.109 143.26 439.003 Q145.598 436.896 145.598 433.285 Q145.598 429.674 143.26 427.567 Q140.922 425.461 136.918 425.461 Q135.043 425.461 133.168 425.878 Q131.316 426.294 129.371 427.174 L129.371 409.813 Z\" fill=\"#000000\" fill-rule=\"evenodd\" fill-opacity=\"1\" /><path clip-path=\"url(#clip430)\" d=\"M53.7467 100.897 L61.3856 100.897 L61.3856 74.5311 L53.0754 76.1978 L53.0754 71.9386 L61.3393 70.2719 L66.0152 70.2719 L66.0152 100.897 L73.654 100.897 L73.654 104.832 L53.7467 104.832 L53.7467 100.897 Z\" fill=\"#000000\" fill-rule=\"evenodd\" fill-opacity=\"1\" /><path clip-path=\"url(#clip430)\" d=\"M83.0984 98.9523 L87.9827 98.9523 L87.9827 104.832 L83.0984 104.832 L83.0984 98.9523 Z\" fill=\"#000000\" fill-rule=\"evenodd\" fill-opacity=\"1\" /><path clip-path=\"url(#clip430)\" d=\"M108.168 73.3506 Q104.557 73.3506 102.728 76.9154 Q100.922 80.457 100.922 87.5866 Q100.922 94.6931 102.728 98.2579 Q104.557 101.8 108.168 101.8 Q111.802 101.8 113.608 98.2579 Q115.436 94.6931 115.436 87.5866 Q115.436 80.457 113.608 76.9154 Q111.802 73.3506 108.168 73.3506 M108.168 69.6469 Q113.978 69.6469 117.033 74.2534 Q120.112 78.8367 120.112 87.5866 Q120.112 96.3134 117.033 100.92 Q113.978 105.503 108.168 105.503 Q102.358 105.503 99.2789 100.92 Q96.2234 96.3134 96.2234 87.5866 Q96.2234 78.8367 99.2789 74.2534 Q102.358 69.6469 108.168 69.6469 Z\" fill=\"#000000\" fill-rule=\"evenodd\" fill-opacity=\"1\" /><path clip-path=\"url(#clip430)\" d=\"M138.33 73.3506 Q134.719 73.3506 132.89 76.9154 Q131.084 80.457 131.084 87.5866 Q131.084 94.6931 132.89 98.2579 Q134.719 101.8 138.33 101.8 Q141.964 101.8 143.769 98.2579 Q145.598 94.6931 145.598 87.5866 Q145.598 80.457 143.769 76.9154 Q141.964 73.3506 138.33 73.3506 M138.33 69.6469 Q144.14 69.6469 147.195 74.2534 Q150.274 78.8367 150.274 87.5866 Q150.274 96.3134 147.195 100.92 Q144.14 105.503 138.33 105.503 Q132.519 105.503 129.441 100.92 Q126.385 96.3134 126.385 87.5866 Q126.385 78.8367 129.441 74.2534 Q132.519 69.6469 138.33 69.6469 Z\" fill=\"#000000\" fill-rule=\"evenodd\" fill-opacity=\"1\" /><polyline clip-path=\"url(#clip432)\" style=\"stroke:#009af9; stroke-linecap:round; stroke-linejoin:round; stroke-width:4; stroke-opacity:1; fill:none\" points=\"\n  247.59,1445.72 254.243,1434.1 260.896,1422.48 322.415,1315.3 383.935,1209.23 420.905,1146.39 457.876,1084.43 489.134,1032.86 520.392,982.143 554.347,928.106 \n  588.302,875.265 619.606,827.684 650.909,781.246 684.47,732.781 718.031,685.724 756.914,632.996 795.798,582.207 830.353,538.688 864.908,496.664 895.209,461.007 \n  925.511,426.426 991.585,354.498 1058.05,286.39 1094.79,250.267 1131.54,215.03 1166.5,182.166 1201.46,149.791 1219.63,133.099 1237.81,116.472 1246.9,108.175 \n  1255.99,99.8854 1258.26,97.8138 1260.53,95.7425 1262.8,93.6714 1265.07,91.6003 1266.21,90.5649 1267.35,89.5294 1267.91,89.0117 1268.48,88.494 1269.05,87.9763 \n  1269.62,1445.62 1270.19,1445.1 1270.75,1444.59 1271.32,1444.07 1271.89,1443.55 1273.03,1442.52 1274.16,1441.48 1277.99,1437.99 1281.81,1434.51 1285.64,1431.02 \n  1289.46,1427.53 1297.11,1420.55 1304.76,1413.56 1320.06,1399.56 1335.36,1385.51 1410.08,1315.78 1478.52,1249.32 1510.13,1217.48 1541.74,1184.77 1573.76,1150.67 \n  1605.77,1115.51 1641.66,1074.76 1677.54,1032.51 1710.06,992.873 1742.57,951.908 1779.8,903.352 1817.03,853.019 1851.5,804.84 1885.97,755.174 1919.95,704.795 \n  1953.93,653.068 1986.93,601.625 2019.92,549.058 2053.75,494.097 2087.57,438.157 2124.63,375.884 2161.69,312.748 2215.52,219.864 2269.35,126.122 2280.4,106.84 \n  2291.44,1445.72 \n  \"/>\n<path clip-path=\"url(#clip430)\" d=\"\nM258.49 198.898 L527.569 198.898 L527.569 95.2176 L258.49 95.2176  Z\n  \" fill=\"#ffffff\" fill-rule=\"evenodd\" fill-opacity=\"1\"/>\n<polyline clip-path=\"url(#clip430)\" style=\"stroke:#000000; stroke-linecap:round; stroke-linejoin:round; stroke-width:4; stroke-opacity:1; fill:none\" points=\"\n  258.49,198.898 527.569,198.898 527.569,95.2176 258.49,95.2176 258.49,198.898 \n  \"/>\n<polyline clip-path=\"url(#clip430)\" style=\"stroke:#009af9; stroke-linecap:round; stroke-linejoin:round; stroke-width:4; stroke-opacity:1; fill:none\" points=\"\n  282.562,147.058 426.994,147.058 \n  \"/>\n<path clip-path=\"url(#clip430)\" d=\"M464.909 166.745 Q463.103 171.375 461.39 172.787 Q459.677 174.199 456.807 174.199 L453.404 174.199 L453.404 170.634 L455.904 170.634 Q457.663 170.634 458.636 169.8 Q459.608 168.967 460.788 165.865 L461.552 163.921 L451.066 138.412 L455.58 138.412 L463.682 158.689 L471.784 138.412 L476.298 138.412 L464.909 166.745 Z\" fill=\"#000000\" fill-rule=\"evenodd\" fill-opacity=\"1\" /><path clip-path=\"url(#clip430)\" d=\"M483.589 160.402 L491.228 160.402 L491.228 134.037 L482.918 135.703 L482.918 131.444 L491.182 129.778 L495.858 129.778 L495.858 160.402 L503.497 160.402 L503.497 164.338 L483.589 164.338 L483.589 160.402 Z\" fill=\"#000000\" fill-rule=\"evenodd\" fill-opacity=\"1\" /></svg>\n"
     },
     "execution_count": 15,
     "metadata": {},
     "output_type": "execute_result"
    }
   ],
   "source": [
    "plot(g1, 0, 1)"
   ]
  },
  {
   "cell_type": "code",
   "execution_count": 16,
   "metadata": {},
   "outputs": [
    {
     "data": {
      "image/svg+xml": "<?xml version=\"1.0\" encoding=\"utf-8\"?>\n<svg xmlns=\"http://www.w3.org/2000/svg\" xmlns:xlink=\"http://www.w3.org/1999/xlink\" width=\"600\" height=\"400\" viewBox=\"0 0 2400 1600\">\n<defs>\n  <clipPath id=\"clip470\">\n    <rect x=\"0\" y=\"0\" width=\"2400\" height=\"1600\"/>\n  </clipPath>\n</defs>\n<path clip-path=\"url(#clip470)\" d=\"\nM0 1600 L2400 1600 L2400 0 L0 0  Z\n  \" fill=\"#ffffff\" fill-rule=\"evenodd\" fill-opacity=\"1\"/>\n<defs>\n  <clipPath id=\"clip471\">\n    <rect x=\"480\" y=\"0\" width=\"1681\" height=\"1600\"/>\n  </clipPath>\n</defs>\n<path clip-path=\"url(#clip470)\" d=\"\nM186.274 1486.45 L2352.76 1486.45 L2352.76 47.2441 L186.274 47.2441  Z\n  \" fill=\"#ffffff\" fill-rule=\"evenodd\" fill-opacity=\"1\"/>\n<defs>\n  <clipPath id=\"clip472\">\n    <rect x=\"186\" y=\"47\" width=\"2167\" height=\"1440\"/>\n  </clipPath>\n</defs>\n<polyline clip-path=\"url(#clip472)\" style=\"stroke:#000000; stroke-linecap:round; stroke-linejoin:round; stroke-width:2; stroke-opacity:0.1; fill:none\" points=\"\n  247.59,1486.45 247.59,47.2441 \n  \"/>\n<polyline clip-path=\"url(#clip472)\" style=\"stroke:#000000; stroke-linecap:round; stroke-linejoin:round; stroke-width:2; stroke-opacity:0.1; fill:none\" points=\"\n  758.552,1486.45 758.552,47.2441 \n  \"/>\n<polyline clip-path=\"url(#clip472)\" style=\"stroke:#000000; stroke-linecap:round; stroke-linejoin:round; stroke-width:2; stroke-opacity:0.1; fill:none\" points=\"\n  1269.51,1486.45 1269.51,47.2441 \n  \"/>\n<polyline clip-path=\"url(#clip472)\" style=\"stroke:#000000; stroke-linecap:round; stroke-linejoin:round; stroke-width:2; stroke-opacity:0.1; fill:none\" points=\"\n  1780.48,1486.45 1780.48,47.2441 \n  \"/>\n<polyline clip-path=\"url(#clip472)\" style=\"stroke:#000000; stroke-linecap:round; stroke-linejoin:round; stroke-width:2; stroke-opacity:0.1; fill:none\" points=\"\n  2291.44,1486.45 2291.44,47.2441 \n  \"/>\n<polyline clip-path=\"url(#clip470)\" style=\"stroke:#000000; stroke-linecap:round; stroke-linejoin:round; stroke-width:4; stroke-opacity:1; fill:none\" points=\"\n  186.274,1486.45 2352.76,1486.45 \n  \"/>\n<polyline clip-path=\"url(#clip470)\" style=\"stroke:#000000; stroke-linecap:round; stroke-linejoin:round; stroke-width:4; stroke-opacity:1; fill:none\" points=\"\n  247.59,1486.45 247.59,1467.55 \n  \"/>\n<polyline clip-path=\"url(#clip470)\" style=\"stroke:#000000; stroke-linecap:round; stroke-linejoin:round; stroke-width:4; stroke-opacity:1; fill:none\" points=\"\n  758.552,1486.45 758.552,1467.55 \n  \"/>\n<polyline clip-path=\"url(#clip470)\" style=\"stroke:#000000; stroke-linecap:round; stroke-linejoin:round; stroke-width:4; stroke-opacity:1; fill:none\" points=\"\n  1269.51,1486.45 1269.51,1467.55 \n  \"/>\n<polyline clip-path=\"url(#clip470)\" style=\"stroke:#000000; stroke-linecap:round; stroke-linejoin:round; stroke-width:4; stroke-opacity:1; fill:none\" points=\"\n  1780.48,1486.45 1780.48,1467.55 \n  \"/>\n<polyline clip-path=\"url(#clip470)\" style=\"stroke:#000000; stroke-linecap:round; stroke-linejoin:round; stroke-width:4; stroke-opacity:1; fill:none\" points=\"\n  2291.44,1486.45 2291.44,1467.55 \n  \"/>\n<path clip-path=\"url(#clip470)\" d=\"M209.893 1517.37 Q206.282 1517.37 204.453 1520.93 Q202.648 1524.47 202.648 1531.6 Q202.648 1538.71 204.453 1542.27 Q206.282 1545.82 209.893 1545.82 Q213.527 1545.82 215.333 1542.27 Q217.161 1538.71 217.161 1531.6 Q217.161 1524.47 215.333 1520.93 Q213.527 1517.37 209.893 1517.37 M209.893 1513.66 Q215.703 1513.66 218.759 1518.27 Q221.837 1522.85 221.837 1531.6 Q221.837 1540.33 218.759 1544.94 Q215.703 1549.52 209.893 1549.52 Q204.083 1549.52 201.004 1544.94 Q197.949 1540.33 197.949 1531.6 Q197.949 1522.85 201.004 1518.27 Q204.083 1513.66 209.893 1513.66 Z\" fill=\"#000000\" fill-rule=\"evenodd\" fill-opacity=\"1\" /><path clip-path=\"url(#clip470)\" d=\"M230.055 1542.97 L234.939 1542.97 L234.939 1548.85 L230.055 1548.85 L230.055 1542.97 Z\" fill=\"#000000\" fill-rule=\"evenodd\" fill-opacity=\"1\" /><path clip-path=\"url(#clip470)\" d=\"M255.124 1517.37 Q251.513 1517.37 249.684 1520.93 Q247.879 1524.47 247.879 1531.6 Q247.879 1538.71 249.684 1542.27 Q251.513 1545.82 255.124 1545.82 Q258.758 1545.82 260.564 1542.27 Q262.393 1538.71 262.393 1531.6 Q262.393 1524.47 260.564 1520.93 Q258.758 1517.37 255.124 1517.37 M255.124 1513.66 Q260.934 1513.66 263.99 1518.27 Q267.069 1522.85 267.069 1531.6 Q267.069 1540.33 263.99 1544.94 Q260.934 1549.52 255.124 1549.52 Q249.314 1549.52 246.235 1544.94 Q243.18 1540.33 243.18 1531.6 Q243.18 1522.85 246.235 1518.27 Q249.314 1513.66 255.124 1513.66 Z\" fill=\"#000000\" fill-rule=\"evenodd\" fill-opacity=\"1\" /><path clip-path=\"url(#clip470)\" d=\"M285.286 1517.37 Q281.675 1517.37 279.846 1520.93 Q278.041 1524.47 278.041 1531.6 Q278.041 1538.71 279.846 1542.27 Q281.675 1545.82 285.286 1545.82 Q288.92 1545.82 290.726 1542.27 Q292.555 1538.71 292.555 1531.6 Q292.555 1524.47 290.726 1520.93 Q288.92 1517.37 285.286 1517.37 M285.286 1513.66 Q291.096 1513.66 294.152 1518.27 Q297.23 1522.85 297.23 1531.6 Q297.23 1540.33 294.152 1544.94 Q291.096 1549.52 285.286 1549.52 Q279.476 1549.52 276.397 1544.94 Q273.342 1540.33 273.342 1531.6 Q273.342 1522.85 276.397 1518.27 Q279.476 1513.66 285.286 1513.66 Z\" fill=\"#000000\" fill-rule=\"evenodd\" fill-opacity=\"1\" /><path clip-path=\"url(#clip470)\" d=\"M721.353 1517.37 Q717.742 1517.37 715.914 1520.93 Q714.108 1524.47 714.108 1531.6 Q714.108 1538.71 715.914 1542.27 Q717.742 1545.82 721.353 1545.82 Q724.988 1545.82 726.793 1542.27 Q728.622 1538.71 728.622 1531.6 Q728.622 1524.47 726.793 1520.93 Q724.988 1517.37 721.353 1517.37 M721.353 1513.66 Q727.164 1513.66 730.219 1518.27 Q733.298 1522.85 733.298 1531.6 Q733.298 1540.33 730.219 1544.94 Q727.164 1549.52 721.353 1549.52 Q715.543 1549.52 712.465 1544.94 Q709.409 1540.33 709.409 1531.6 Q709.409 1522.85 712.465 1518.27 Q715.543 1513.66 721.353 1513.66 Z\" fill=\"#000000\" fill-rule=\"evenodd\" fill-opacity=\"1\" /><path clip-path=\"url(#clip470)\" d=\"M741.515 1542.97 L746.4 1542.97 L746.4 1548.85 L741.515 1548.85 L741.515 1542.97 Z\" fill=\"#000000\" fill-rule=\"evenodd\" fill-opacity=\"1\" /><path clip-path=\"url(#clip470)\" d=\"M760.612 1544.91 L776.932 1544.91 L776.932 1548.85 L754.987 1548.85 L754.987 1544.91 Q757.649 1542.16 762.233 1537.53 Q766.839 1532.88 768.02 1531.53 Q770.265 1529.01 771.145 1527.27 Q772.048 1525.51 772.048 1523.82 Q772.048 1521.07 770.103 1519.33 Q768.182 1517.6 765.08 1517.6 Q762.881 1517.6 760.427 1518.36 Q757.997 1519.13 755.219 1520.68 L755.219 1515.95 Q758.043 1514.82 760.497 1514.24 Q762.95 1513.66 764.987 1513.66 Q770.358 1513.66 773.552 1516.35 Q776.747 1519.03 776.747 1523.52 Q776.747 1525.65 775.936 1527.57 Q775.149 1529.47 773.043 1532.07 Q772.464 1532.74 769.362 1535.95 Q766.261 1539.15 760.612 1544.91 Z\" fill=\"#000000\" fill-rule=\"evenodd\" fill-opacity=\"1\" /><path clip-path=\"url(#clip470)\" d=\"M786.793 1514.29 L805.149 1514.29 L805.149 1518.22 L791.075 1518.22 L791.075 1526.7 Q792.094 1526.35 793.112 1526.19 Q794.131 1526 795.149 1526 Q800.936 1526 804.316 1529.17 Q807.695 1532.34 807.695 1537.76 Q807.695 1543.34 804.223 1546.44 Q800.751 1549.52 794.432 1549.52 Q792.256 1549.52 789.987 1549.15 Q787.742 1548.78 785.335 1548.04 L785.335 1543.34 Q787.418 1544.47 789.64 1545.03 Q791.862 1545.58 794.339 1545.58 Q798.344 1545.58 800.682 1543.48 Q803.02 1541.37 803.02 1537.76 Q803.02 1534.15 800.682 1532.04 Q798.344 1529.94 794.339 1529.94 Q792.464 1529.94 790.589 1530.35 Q788.737 1530.77 786.793 1531.65 L786.793 1514.29 Z\" fill=\"#000000\" fill-rule=\"evenodd\" fill-opacity=\"1\" /><path clip-path=\"url(#clip470)\" d=\"M1231.82 1517.37 Q1228.21 1517.37 1226.38 1520.93 Q1224.57 1524.47 1224.57 1531.6 Q1224.57 1538.71 1226.38 1542.27 Q1228.21 1545.82 1231.82 1545.82 Q1235.45 1545.82 1237.26 1542.27 Q1239.09 1538.71 1239.09 1531.6 Q1239.09 1524.47 1237.26 1520.93 Q1235.45 1517.37 1231.82 1517.37 M1231.82 1513.66 Q1237.63 1513.66 1240.68 1518.27 Q1243.76 1522.85 1243.76 1531.6 Q1243.76 1540.33 1240.68 1544.94 Q1237.63 1549.52 1231.82 1549.52 Q1226.01 1549.52 1222.93 1544.94 Q1219.87 1540.33 1219.87 1531.6 Q1219.87 1522.85 1222.93 1518.27 Q1226.01 1513.66 1231.82 1513.66 Z\" fill=\"#000000\" fill-rule=\"evenodd\" fill-opacity=\"1\" /><path clip-path=\"url(#clip470)\" d=\"M1251.98 1542.97 L1256.86 1542.97 L1256.86 1548.85 L1251.98 1548.85 L1251.98 1542.97 Z\" fill=\"#000000\" fill-rule=\"evenodd\" fill-opacity=\"1\" /><path clip-path=\"url(#clip470)\" d=\"M1267.1 1514.29 L1285.45 1514.29 L1285.45 1518.22 L1271.38 1518.22 L1271.38 1526.7 Q1272.4 1526.35 1273.42 1526.19 Q1274.43 1526 1275.45 1526 Q1281.24 1526 1284.62 1529.17 Q1288 1532.34 1288 1537.76 Q1288 1543.34 1284.53 1546.44 Q1281.05 1549.52 1274.73 1549.52 Q1272.56 1549.52 1270.29 1549.15 Q1268.05 1548.78 1265.64 1548.04 L1265.64 1543.34 Q1267.72 1544.47 1269.94 1545.03 Q1272.17 1545.58 1274.64 1545.58 Q1278.65 1545.58 1280.98 1543.48 Q1283.32 1541.37 1283.32 1537.76 Q1283.32 1534.15 1280.98 1532.04 Q1278.65 1529.94 1274.64 1529.94 Q1272.77 1529.94 1270.89 1530.35 Q1269.04 1530.77 1267.1 1531.65 L1267.1 1514.29 Z\" fill=\"#000000\" fill-rule=\"evenodd\" fill-opacity=\"1\" /><path clip-path=\"url(#clip470)\" d=\"M1307.21 1517.37 Q1303.6 1517.37 1301.77 1520.93 Q1299.97 1524.47 1299.97 1531.6 Q1299.97 1538.71 1301.77 1542.27 Q1303.6 1545.82 1307.21 1545.82 Q1310.85 1545.82 1312.65 1542.27 Q1314.48 1538.71 1314.48 1531.6 Q1314.48 1524.47 1312.65 1520.93 Q1310.85 1517.37 1307.21 1517.37 M1307.21 1513.66 Q1313.02 1513.66 1316.08 1518.27 Q1319.16 1522.85 1319.16 1531.6 Q1319.16 1540.33 1316.08 1544.94 Q1313.02 1549.52 1307.21 1549.52 Q1301.4 1549.52 1298.32 1544.94 Q1295.27 1540.33 1295.27 1531.6 Q1295.27 1522.85 1298.32 1518.27 Q1301.4 1513.66 1307.21 1513.66 Z\" fill=\"#000000\" fill-rule=\"evenodd\" fill-opacity=\"1\" /><path clip-path=\"url(#clip470)\" d=\"M1743.28 1517.37 Q1739.67 1517.37 1737.84 1520.93 Q1736.03 1524.47 1736.03 1531.6 Q1736.03 1538.71 1737.84 1542.27 Q1739.67 1545.82 1743.28 1545.82 Q1746.91 1545.82 1748.72 1542.27 Q1750.55 1538.71 1750.55 1531.6 Q1750.55 1524.47 1748.72 1520.93 Q1746.91 1517.37 1743.28 1517.37 M1743.28 1513.66 Q1749.09 1513.66 1752.14 1518.27 Q1755.22 1522.85 1755.22 1531.6 Q1755.22 1540.33 1752.14 1544.94 Q1749.09 1549.52 1743.28 1549.52 Q1737.47 1549.52 1734.39 1544.94 Q1731.33 1540.33 1731.33 1531.6 Q1731.33 1522.85 1734.39 1518.27 Q1737.47 1513.66 1743.28 1513.66 Z\" fill=\"#000000\" fill-rule=\"evenodd\" fill-opacity=\"1\" /><path clip-path=\"url(#clip470)\" d=\"M1763.44 1542.97 L1768.32 1542.97 L1768.32 1548.85 L1763.44 1548.85 L1763.44 1542.97 Z\" fill=\"#000000\" fill-rule=\"evenodd\" fill-opacity=\"1\" /><path clip-path=\"url(#clip470)\" d=\"M1777.33 1514.29 L1799.55 1514.29 L1799.55 1516.28 L1787.01 1548.85 L1782.12 1548.85 L1793.93 1518.22 L1777.33 1518.22 L1777.33 1514.29 Z\" fill=\"#000000\" fill-rule=\"evenodd\" fill-opacity=\"1\" /><path clip-path=\"url(#clip470)\" d=\"M1808.72 1514.29 L1827.07 1514.29 L1827.07 1518.22 L1813 1518.22 L1813 1526.7 Q1814.02 1526.35 1815.04 1526.19 Q1816.06 1526 1817.07 1526 Q1822.86 1526 1826.24 1529.17 Q1829.62 1532.34 1829.62 1537.76 Q1829.62 1543.34 1826.15 1546.44 Q1822.68 1549.52 1816.36 1549.52 Q1814.18 1549.52 1811.91 1549.15 Q1809.67 1548.78 1807.26 1548.04 L1807.26 1543.34 Q1809.34 1544.47 1811.57 1545.03 Q1813.79 1545.58 1816.26 1545.58 Q1820.27 1545.58 1822.61 1543.48 Q1824.95 1541.37 1824.95 1537.76 Q1824.95 1534.15 1822.61 1532.04 Q1820.27 1529.94 1816.26 1529.94 Q1814.39 1529.94 1812.51 1530.35 Q1810.66 1530.77 1808.72 1531.65 L1808.72 1514.29 Z\" fill=\"#000000\" fill-rule=\"evenodd\" fill-opacity=\"1\" /><path clip-path=\"url(#clip470)\" d=\"M2243.51 1544.91 L2251.15 1544.91 L2251.15 1518.55 L2242.84 1520.21 L2242.84 1515.95 L2251.1 1514.29 L2255.78 1514.29 L2255.78 1544.91 L2263.42 1544.91 L2263.42 1548.85 L2243.51 1548.85 L2243.51 1544.91 Z\" fill=\"#000000\" fill-rule=\"evenodd\" fill-opacity=\"1\" /><path clip-path=\"url(#clip470)\" d=\"M2272.86 1542.97 L2277.75 1542.97 L2277.75 1548.85 L2272.86 1548.85 L2272.86 1542.97 Z\" fill=\"#000000\" fill-rule=\"evenodd\" fill-opacity=\"1\" /><path clip-path=\"url(#clip470)\" d=\"M2297.93 1517.37 Q2294.32 1517.37 2292.49 1520.93 Q2290.69 1524.47 2290.69 1531.6 Q2290.69 1538.71 2292.49 1542.27 Q2294.32 1545.82 2297.93 1545.82 Q2301.57 1545.82 2303.37 1542.27 Q2305.2 1538.71 2305.2 1531.6 Q2305.2 1524.47 2303.37 1520.93 Q2301.57 1517.37 2297.93 1517.37 M2297.93 1513.66 Q2303.74 1513.66 2306.8 1518.27 Q2309.88 1522.85 2309.88 1531.6 Q2309.88 1540.33 2306.8 1544.94 Q2303.74 1549.52 2297.93 1549.52 Q2292.12 1549.52 2289.04 1544.94 Q2285.99 1540.33 2285.99 1531.6 Q2285.99 1522.85 2289.04 1518.27 Q2292.12 1513.66 2297.93 1513.66 Z\" fill=\"#000000\" fill-rule=\"evenodd\" fill-opacity=\"1\" /><path clip-path=\"url(#clip470)\" d=\"M2328.1 1517.37 Q2324.48 1517.37 2322.66 1520.93 Q2320.85 1524.47 2320.85 1531.6 Q2320.85 1538.71 2322.66 1542.27 Q2324.48 1545.82 2328.1 1545.82 Q2331.73 1545.82 2333.54 1542.27 Q2335.36 1538.71 2335.36 1531.6 Q2335.36 1524.47 2333.54 1520.93 Q2331.73 1517.37 2328.1 1517.37 M2328.1 1513.66 Q2333.91 1513.66 2336.96 1518.27 Q2340.04 1522.85 2340.04 1531.6 Q2340.04 1540.33 2336.96 1544.94 Q2333.91 1549.52 2328.1 1549.52 Q2322.29 1549.52 2319.21 1544.94 Q2316.15 1540.33 2316.15 1531.6 Q2316.15 1522.85 2319.21 1518.27 Q2322.29 1513.66 2328.1 1513.66 Z\" fill=\"#000000\" fill-rule=\"evenodd\" fill-opacity=\"1\" /><polyline clip-path=\"url(#clip472)\" style=\"stroke:#000000; stroke-linecap:round; stroke-linejoin:round; stroke-width:2; stroke-opacity:0.1; fill:none\" points=\"\n  186.274,1445.72 2352.76,1445.72 \n  \"/>\n<polyline clip-path=\"url(#clip472)\" style=\"stroke:#000000; stroke-linecap:round; stroke-linejoin:round; stroke-width:2; stroke-opacity:0.1; fill:none\" points=\"\n  186.274,1106.13 2352.76,1106.13 \n  \"/>\n<polyline clip-path=\"url(#clip472)\" style=\"stroke:#000000; stroke-linecap:round; stroke-linejoin:round; stroke-width:2; stroke-opacity:0.1; fill:none\" points=\"\n  186.274,766.537 2352.76,766.537 \n  \"/>\n<polyline clip-path=\"url(#clip472)\" style=\"stroke:#000000; stroke-linecap:round; stroke-linejoin:round; stroke-width:2; stroke-opacity:0.1; fill:none\" points=\"\n  186.274,426.947 2352.76,426.947 \n  \"/>\n<polyline clip-path=\"url(#clip472)\" style=\"stroke:#000000; stroke-linecap:round; stroke-linejoin:round; stroke-width:2; stroke-opacity:0.1; fill:none\" points=\"\n  186.274,87.3574 2352.76,87.3574 \n  \"/>\n<polyline clip-path=\"url(#clip470)\" style=\"stroke:#000000; stroke-linecap:round; stroke-linejoin:round; stroke-width:4; stroke-opacity:1; fill:none\" points=\"\n  186.274,1486.45 186.274,47.2441 \n  \"/>\n<polyline clip-path=\"url(#clip470)\" style=\"stroke:#000000; stroke-linecap:round; stroke-linejoin:round; stroke-width:4; stroke-opacity:1; fill:none\" points=\"\n  186.274,1445.72 205.172,1445.72 \n  \"/>\n<polyline clip-path=\"url(#clip470)\" style=\"stroke:#000000; stroke-linecap:round; stroke-linejoin:round; stroke-width:4; stroke-opacity:1; fill:none\" points=\"\n  186.274,1106.13 205.172,1106.13 \n  \"/>\n<polyline clip-path=\"url(#clip470)\" style=\"stroke:#000000; stroke-linecap:round; stroke-linejoin:round; stroke-width:4; stroke-opacity:1; fill:none\" points=\"\n  186.274,766.537 205.172,766.537 \n  \"/>\n<polyline clip-path=\"url(#clip470)\" style=\"stroke:#000000; stroke-linecap:round; stroke-linejoin:round; stroke-width:4; stroke-opacity:1; fill:none\" points=\"\n  186.274,426.947 205.172,426.947 \n  \"/>\n<polyline clip-path=\"url(#clip470)\" style=\"stroke:#000000; stroke-linecap:round; stroke-linejoin:round; stroke-width:4; stroke-opacity:1; fill:none\" points=\"\n  186.274,87.3574 205.172,87.3574 \n  \"/>\n<path clip-path=\"url(#clip470)\" d=\"M62.9365 1431.51 Q59.3254 1431.51 57.4967 1435.08 Q55.6912 1438.62 55.6912 1445.75 Q55.6912 1452.86 57.4967 1456.42 Q59.3254 1459.96 62.9365 1459.96 Q66.5707 1459.96 68.3763 1456.42 Q70.205 1452.86 70.205 1445.75 Q70.205 1438.62 68.3763 1435.08 Q66.5707 1431.51 62.9365 1431.51 M62.9365 1427.81 Q68.7467 1427.81 71.8022 1432.42 Q74.8809 1437 74.8809 1445.75 Q74.8809 1454.48 71.8022 1459.08 Q68.7467 1463.67 62.9365 1463.67 Q57.1264 1463.67 54.0477 1459.08 Q50.9921 1454.48 50.9921 1445.75 Q50.9921 1437 54.0477 1432.42 Q57.1264 1427.81 62.9365 1427.81 Z\" fill=\"#000000\" fill-rule=\"evenodd\" fill-opacity=\"1\" /><path clip-path=\"url(#clip470)\" d=\"M83.0984 1457.12 L87.9827 1457.12 L87.9827 1463 L83.0984 1463 L83.0984 1457.12 Z\" fill=\"#000000\" fill-rule=\"evenodd\" fill-opacity=\"1\" /><path clip-path=\"url(#clip470)\" d=\"M108.168 1431.51 Q104.557 1431.51 102.728 1435.08 Q100.922 1438.62 100.922 1445.75 Q100.922 1452.86 102.728 1456.42 Q104.557 1459.96 108.168 1459.96 Q111.802 1459.96 113.608 1456.42 Q115.436 1452.86 115.436 1445.75 Q115.436 1438.62 113.608 1435.08 Q111.802 1431.51 108.168 1431.51 M108.168 1427.81 Q113.978 1427.81 117.033 1432.42 Q120.112 1437 120.112 1445.75 Q120.112 1454.48 117.033 1459.08 Q113.978 1463.67 108.168 1463.67 Q102.358 1463.67 99.2789 1459.08 Q96.2234 1454.48 96.2234 1445.75 Q96.2234 1437 99.2789 1432.42 Q102.358 1427.81 108.168 1427.81 Z\" fill=\"#000000\" fill-rule=\"evenodd\" fill-opacity=\"1\" /><path clip-path=\"url(#clip470)\" d=\"M138.33 1431.51 Q134.719 1431.51 132.89 1435.08 Q131.084 1438.62 131.084 1445.75 Q131.084 1452.86 132.89 1456.42 Q134.719 1459.96 138.33 1459.96 Q141.964 1459.96 143.769 1456.42 Q145.598 1452.86 145.598 1445.75 Q145.598 1438.62 143.769 1435.08 Q141.964 1431.51 138.33 1431.51 M138.33 1427.81 Q144.14 1427.81 147.195 1432.42 Q150.274 1437 150.274 1445.75 Q150.274 1454.48 147.195 1459.08 Q144.14 1463.67 138.33 1463.67 Q132.519 1463.67 129.441 1459.08 Q126.385 1454.48 126.385 1445.75 Q126.385 1437 129.441 1432.42 Q132.519 1427.81 138.33 1427.81 Z\" fill=\"#000000\" fill-rule=\"evenodd\" fill-opacity=\"1\" /><path clip-path=\"url(#clip470)\" d=\"M63.9319 1091.92 Q60.3208 1091.92 58.4921 1095.49 Q56.6865 1099.03 56.6865 1106.16 Q56.6865 1113.27 58.4921 1116.83 Q60.3208 1120.37 63.9319 1120.37 Q67.5661 1120.37 69.3717 1116.83 Q71.2004 1113.27 71.2004 1106.16 Q71.2004 1099.03 69.3717 1095.49 Q67.5661 1091.92 63.9319 1091.92 M63.9319 1088.22 Q69.742 1088.22 72.7976 1092.83 Q75.8763 1097.41 75.8763 1106.16 Q75.8763 1114.89 72.7976 1119.49 Q69.742 1124.08 63.9319 1124.08 Q58.1217 1124.08 55.043 1119.49 Q51.9875 1114.89 51.9875 1106.16 Q51.9875 1097.41 55.043 1092.83 Q58.1217 1088.22 63.9319 1088.22 Z\" fill=\"#000000\" fill-rule=\"evenodd\" fill-opacity=\"1\" /><path clip-path=\"url(#clip470)\" d=\"M84.0938 1117.53 L88.978 1117.53 L88.978 1123.41 L84.0938 1123.41 L84.0938 1117.53 Z\" fill=\"#000000\" fill-rule=\"evenodd\" fill-opacity=\"1\" /><path clip-path=\"url(#clip470)\" d=\"M103.191 1119.47 L119.51 1119.47 L119.51 1123.41 L97.566 1123.41 L97.566 1119.47 Q100.228 1116.72 104.811 1112.09 Q109.418 1107.43 110.598 1106.09 Q112.844 1103.57 113.723 1101.83 Q114.626 1100.07 114.626 1098.38 Q114.626 1095.63 112.682 1093.89 Q110.76 1092.16 107.658 1092.16 Q105.459 1092.16 103.006 1092.92 Q100.575 1093.68 97.7974 1095.23 L97.7974 1090.51 Q100.621 1089.38 103.075 1088.8 Q105.529 1088.22 107.566 1088.22 Q112.936 1088.22 116.131 1090.91 Q119.325 1093.59 119.325 1098.08 Q119.325 1100.21 118.515 1102.13 Q117.728 1104.03 115.621 1106.62 Q115.043 1107.3 111.941 1110.51 Q108.839 1113.71 103.191 1119.47 Z\" fill=\"#000000\" fill-rule=\"evenodd\" fill-opacity=\"1\" /><path clip-path=\"url(#clip470)\" d=\"M129.371 1088.85 L147.728 1088.85 L147.728 1092.78 L133.654 1092.78 L133.654 1101.25 Q134.672 1100.91 135.691 1100.74 Q136.709 1100.56 137.728 1100.56 Q143.515 1100.56 146.894 1103.73 Q150.274 1106.9 150.274 1112.32 Q150.274 1117.9 146.802 1121 Q143.33 1124.08 137.01 1124.08 Q134.834 1124.08 132.566 1123.71 Q130.32 1123.34 127.913 1122.6 L127.913 1117.9 Q129.996 1119.03 132.219 1119.59 Q134.441 1120.14 136.918 1120.14 Q140.922 1120.14 143.26 1118.04 Q145.598 1115.93 145.598 1112.32 Q145.598 1108.71 143.26 1106.6 Q140.922 1104.49 136.918 1104.49 Q135.043 1104.49 133.168 1104.91 Q131.316 1105.33 129.371 1106.21 L129.371 1088.85 Z\" fill=\"#000000\" fill-rule=\"evenodd\" fill-opacity=\"1\" /><path clip-path=\"url(#clip470)\" d=\"M62.9365 752.335 Q59.3254 752.335 57.4967 755.9 Q55.6912 759.442 55.6912 766.571 Q55.6912 773.678 57.4967 777.243 Q59.3254 780.784 62.9365 780.784 Q66.5707 780.784 68.3763 777.243 Q70.205 773.678 70.205 766.571 Q70.205 759.442 68.3763 755.9 Q66.5707 752.335 62.9365 752.335 M62.9365 748.632 Q68.7467 748.632 71.8022 753.238 Q74.8809 757.821 74.8809 766.571 Q74.8809 775.298 71.8022 779.905 Q68.7467 784.488 62.9365 784.488 Q57.1264 784.488 54.0477 779.905 Q50.9921 775.298 50.9921 766.571 Q50.9921 757.821 54.0477 753.238 Q57.1264 748.632 62.9365 748.632 Z\" fill=\"#000000\" fill-rule=\"evenodd\" fill-opacity=\"1\" /><path clip-path=\"url(#clip470)\" d=\"M83.0984 777.937 L87.9827 777.937 L87.9827 783.817 L83.0984 783.817 L83.0984 777.937 Z\" fill=\"#000000\" fill-rule=\"evenodd\" fill-opacity=\"1\" /><path clip-path=\"url(#clip470)\" d=\"M98.2141 749.257 L116.57 749.257 L116.57 753.192 L102.496 753.192 L102.496 761.664 Q103.515 761.317 104.534 761.155 Q105.552 760.969 106.571 760.969 Q112.358 760.969 115.737 764.141 Q119.117 767.312 119.117 772.729 Q119.117 778.307 115.645 781.409 Q112.172 784.488 105.853 784.488 Q103.677 784.488 101.409 784.117 Q99.1632 783.747 96.7558 783.006 L96.7558 778.307 Q98.8391 779.442 101.061 779.997 Q103.284 780.553 105.76 780.553 Q109.765 780.553 112.103 778.446 Q114.441 776.34 114.441 772.729 Q114.441 769.118 112.103 767.011 Q109.765 764.905 105.76 764.905 Q103.885 764.905 102.01 765.321 Q100.159 765.738 98.2141 766.618 L98.2141 749.257 Z\" fill=\"#000000\" fill-rule=\"evenodd\" fill-opacity=\"1\" /><path clip-path=\"url(#clip470)\" d=\"M138.33 752.335 Q134.719 752.335 132.89 755.9 Q131.084 759.442 131.084 766.571 Q131.084 773.678 132.89 777.243 Q134.719 780.784 138.33 780.784 Q141.964 780.784 143.769 777.243 Q145.598 773.678 145.598 766.571 Q145.598 759.442 143.769 755.9 Q141.964 752.335 138.33 752.335 M138.33 748.632 Q144.14 748.632 147.195 753.238 Q150.274 757.821 150.274 766.571 Q150.274 775.298 147.195 779.905 Q144.14 784.488 138.33 784.488 Q132.519 784.488 129.441 779.905 Q126.385 775.298 126.385 766.571 Q126.385 757.821 129.441 753.238 Q132.519 748.632 138.33 748.632 Z\" fill=\"#000000\" fill-rule=\"evenodd\" fill-opacity=\"1\" /><path clip-path=\"url(#clip470)\" d=\"M63.9319 412.746 Q60.3208 412.746 58.4921 416.31 Q56.6865 419.852 56.6865 426.982 Q56.6865 434.088 58.4921 437.653 Q60.3208 441.195 63.9319 441.195 Q67.5661 441.195 69.3717 437.653 Q71.2004 434.088 71.2004 426.982 Q71.2004 419.852 69.3717 416.31 Q67.5661 412.746 63.9319 412.746 M63.9319 409.042 Q69.742 409.042 72.7976 413.648 Q75.8763 418.232 75.8763 426.982 Q75.8763 435.709 72.7976 440.315 Q69.742 444.898 63.9319 444.898 Q58.1217 444.898 55.043 440.315 Q51.9875 435.709 51.9875 426.982 Q51.9875 418.232 55.043 413.648 Q58.1217 409.042 63.9319 409.042 Z\" fill=\"#000000\" fill-rule=\"evenodd\" fill-opacity=\"1\" /><path clip-path=\"url(#clip470)\" d=\"M84.0938 438.347 L88.978 438.347 L88.978 444.227 L84.0938 444.227 L84.0938 438.347 Z\" fill=\"#000000\" fill-rule=\"evenodd\" fill-opacity=\"1\" /><path clip-path=\"url(#clip470)\" d=\"M97.9826 409.667 L120.205 409.667 L120.205 411.658 L107.658 444.227 L102.774 444.227 L114.58 413.602 L97.9826 413.602 L97.9826 409.667 Z\" fill=\"#000000\" fill-rule=\"evenodd\" fill-opacity=\"1\" /><path clip-path=\"url(#clip470)\" d=\"M129.371 409.667 L147.728 409.667 L147.728 413.602 L133.654 413.602 L133.654 422.074 Q134.672 421.727 135.691 421.565 Q136.709 421.38 137.728 421.38 Q143.515 421.38 146.894 424.551 Q150.274 427.722 150.274 433.139 Q150.274 438.718 146.802 441.82 Q143.33 444.898 137.01 444.898 Q134.834 444.898 132.566 444.528 Q130.32 444.158 127.913 443.417 L127.913 438.718 Q129.996 439.852 132.219 440.408 Q134.441 440.963 136.918 440.963 Q140.922 440.963 143.26 438.857 Q145.598 436.75 145.598 433.139 Q145.598 429.528 143.26 427.422 Q140.922 425.315 136.918 425.315 Q135.043 425.315 133.168 425.732 Q131.316 426.148 129.371 427.028 L129.371 409.667 Z\" fill=\"#000000\" fill-rule=\"evenodd\" fill-opacity=\"1\" /><path clip-path=\"url(#clip470)\" d=\"M53.7467 100.702 L61.3856 100.702 L61.3856 74.3367 L53.0754 76.0033 L53.0754 71.7441 L61.3393 70.0774 L66.0152 70.0774 L66.0152 100.702 L73.654 100.702 L73.654 104.637 L53.7467 104.637 L53.7467 100.702 Z\" fill=\"#000000\" fill-rule=\"evenodd\" fill-opacity=\"1\" /><path clip-path=\"url(#clip470)\" d=\"M83.0984 98.7578 L87.9827 98.7578 L87.9827 104.637 L83.0984 104.637 L83.0984 98.7578 Z\" fill=\"#000000\" fill-rule=\"evenodd\" fill-opacity=\"1\" /><path clip-path=\"url(#clip470)\" d=\"M108.168 73.1561 Q104.557 73.1561 102.728 76.7209 Q100.922 80.2626 100.922 87.3922 Q100.922 94.4986 102.728 98.0634 Q104.557 101.605 108.168 101.605 Q111.802 101.605 113.608 98.0634 Q115.436 94.4986 115.436 87.3922 Q115.436 80.2626 113.608 76.7209 Q111.802 73.1561 108.168 73.1561 M108.168 69.4524 Q113.978 69.4524 117.033 74.0589 Q120.112 78.6422 120.112 87.3922 Q120.112 96.119 117.033 100.725 Q113.978 105.309 108.168 105.309 Q102.358 105.309 99.2789 100.725 Q96.2234 96.119 96.2234 87.3922 Q96.2234 78.6422 99.2789 74.0589 Q102.358 69.4524 108.168 69.4524 Z\" fill=\"#000000\" fill-rule=\"evenodd\" fill-opacity=\"1\" /><path clip-path=\"url(#clip470)\" d=\"M138.33 73.1561 Q134.719 73.1561 132.89 76.7209 Q131.084 80.2626 131.084 87.3922 Q131.084 94.4986 132.89 98.0634 Q134.719 101.605 138.33 101.605 Q141.964 101.605 143.769 98.0634 Q145.598 94.4986 145.598 87.3922 Q145.598 80.2626 143.769 76.7209 Q141.964 73.1561 138.33 73.1561 M138.33 69.4524 Q144.14 69.4524 147.195 74.0589 Q150.274 78.6422 150.274 87.3922 Q150.274 96.119 147.195 100.725 Q144.14 105.309 138.33 105.309 Q132.519 105.309 129.441 100.725 Q126.385 96.119 126.385 87.3922 Q126.385 78.6422 129.441 74.0589 Q132.519 69.4524 138.33 69.4524 Z\" fill=\"#000000\" fill-rule=\"evenodd\" fill-opacity=\"1\" /><polyline clip-path=\"url(#clip472)\" style=\"stroke:#009af9; stroke-linecap:round; stroke-linejoin:round; stroke-width:4; stroke-opacity:1; fill:none\" points=\"\n  247.59,1445.72 260.896,1428.03 383.935,1264.48 457.876,1166.2 520.392,1083.1 588.302,992.835 650.909,909.617 718.031,820.398 795.798,717.029 864.908,625.167 \n  925.511,544.613 991.585,456.787 1058.05,368.438 1094.79,319.598 1131.54,270.758 1166.5,224.288 1201.46,177.818 1219.63,153.659 1237.81,129.5 1246.9,117.42 \n  1255.99,105.341 1258.26,102.321 1260.53,99.3008 1262.8,96.281 1265.07,93.2611 1266.21,91.7511 1267.35,90.2412 1267.91,89.4862 1268.48,88.7312 1269.05,87.9763 \n  1269.62,1445.58 1270.19,1444.82 1270.75,1444.07 1271.32,1443.31 1271.89,1442.56 1273.03,1441.05 1274.16,1439.54 1277.99,1434.46 1281.81,1429.37 1285.64,1424.29 \n  1289.46,1419.2 1297.11,1409.03 1304.76,1398.87 1320.06,1378.53 1335.36,1358.19 1410.08,1258.88 1478.52,1167.9 1541.74,1083.87 1605.77,998.755 1677.54,903.363 \n  1742.57,816.923 1817.03,717.955 1885.97,626.319 1953.93,535.977 2019.92,448.263 2087.57,358.344 2161.69,259.828 2269.35,116.717 2291.44,1445.72 \n  \"/>\n<path clip-path=\"url(#clip470)\" d=\"\nM258.49 198.898 L527.569 198.898 L527.569 95.2176 L258.49 95.2176  Z\n  \" fill=\"#ffffff\" fill-rule=\"evenodd\" fill-opacity=\"1\"/>\n<polyline clip-path=\"url(#clip470)\" style=\"stroke:#000000; stroke-linecap:round; stroke-linejoin:round; stroke-width:4; stroke-opacity:1; fill:none\" points=\"\n  258.49,198.898 527.569,198.898 527.569,95.2176 258.49,95.2176 258.49,198.898 \n  \"/>\n<polyline clip-path=\"url(#clip470)\" style=\"stroke:#009af9; stroke-linecap:round; stroke-linejoin:round; stroke-width:4; stroke-opacity:1; fill:none\" points=\"\n  282.562,147.058 426.994,147.058 \n  \"/>\n<path clip-path=\"url(#clip470)\" d=\"M464.909 166.745 Q463.103 171.375 461.39 172.787 Q459.677 174.199 456.807 174.199 L453.404 174.199 L453.404 170.634 L455.904 170.634 Q457.663 170.634 458.636 169.8 Q459.608 168.967 460.788 165.865 L461.552 163.921 L451.066 138.412 L455.58 138.412 L463.682 158.689 L471.784 138.412 L476.298 138.412 L464.909 166.745 Z\" fill=\"#000000\" fill-rule=\"evenodd\" fill-opacity=\"1\" /><path clip-path=\"url(#clip470)\" d=\"M483.589 160.402 L491.228 160.402 L491.228 134.037 L482.918 135.703 L482.918 131.444 L491.182 129.778 L495.858 129.778 L495.858 160.402 L503.497 160.402 L503.497 164.338 L483.589 164.338 L483.589 160.402 Z\" fill=\"#000000\" fill-rule=\"evenodd\" fill-opacity=\"1\" /></svg>\n"
     },
     "execution_count": 16,
     "metadata": {},
     "output_type": "execute_result"
    }
   ],
   "source": [
    "plot(g, 0, 1)"
   ]
  },
  {
   "cell_type": "code",
   "execution_count": 26,
   "metadata": {},
   "outputs": [
    {
     "data": {
      "text/plain": [
       "orbit (generic function with 1 method)"
      ]
     },
     "execution_count": 26,
     "metadata": {},
     "output_type": "execute_result"
    }
   ],
   "source": [
    "function orbit(f, x, n)\n",
    "    v = Array{typeof(x), 1}(undef, n) #this declares an uninitialized vector\n",
    "    v[1] = x\n",
    "    for i in 2:n\n",
    "        x = f(x)\n",
    "        v[i] = x\n",
    "    end\n",
    "    return v\n",
    "end"
   ]
  },
  {
   "cell_type": "code",
   "execution_count": 27,
   "metadata": {},
   "outputs": [
    {
     "data": {
      "text/plain": [
       "20-element Vector{Float64}:\n",
       " 0.25\n",
       " 0.5\n",
       " 0.0\n",
       " 0.0\n",
       " 0.0\n",
       " 0.0\n",
       " 0.0\n",
       " 0.0\n",
       " 0.0\n",
       " 0.0\n",
       " 0.0\n",
       " 0.0\n",
       " 0.0\n",
       " 0.0\n",
       " 0.0\n",
       " 0.0\n",
       " 0.0\n",
       " 0.0\n",
       " 0.0\n",
       " 0.0"
      ]
     },
     "execution_count": 27,
     "metadata": {},
     "output_type": "execute_result"
    }
   ],
   "source": [
    "orbit(g,1/4,20)"
   ]
  },
  {
   "cell_type": "code",
   "execution_count": 28,
   "metadata": {},
   "outputs": [
    {
     "data": {
      "text/plain": [
       "20-element Vector{Float64}:\n",
       " 1.4142135623730951\n",
       " 0.8284271247461903\n",
       " 0.6568542494923806\n",
       " 0.31370849898476116\n",
       " 0.6274169979695223\n",
       " 0.25483399593904466\n",
       " 0.5096679918780893\n",
       " 0.01933598375617862\n",
       " 0.03867196751235724\n",
       " 0.07734393502471448\n",
       " 0.15468787004942897\n",
       " 0.30937574009885793\n",
       " 0.6187514801977159\n",
       " 0.23750296039543173\n",
       " 0.47500592079086346\n",
       " 0.9500118415817269\n",
       " 0.9000236831634538\n",
       " 0.8000473663269076\n",
       " 0.6000947326538153\n",
       " 0.2001894653076306"
      ]
     },
     "execution_count": 28,
     "metadata": {},
     "output_type": "execute_result"
    }
   ],
   "source": [
    "orbit(g,√2,20)"
   ]
  },
  {
   "cell_type": "code",
   "execution_count": 30,
   "metadata": {},
   "outputs": [
    {
     "ename": "LoadError",
     "evalue": "mod not defined for Interval{Float64}",
     "output_type": "error",
     "traceback": [
      "mod not defined for Interval{Float64}",
      "",
      "Stacktrace:",
      " [1] error(::String, ::String, ::Type)",
      "   @ Base ./error.jl:44",
      " [2] no_op_err(name::String, T::Type)",
      "   @ Base ./promotion.jl:462",
      " [3] mod(x::Interval{Float64}, y::Interval{Float64})",
      "   @ Base ./promotion.jl:482",
      " [4] mod(x::Interval{Float64}, y::Int64)",
      "   @ Base ./promotion.jl:432",
      " [5] g(x::Interval{Float64})",
      "   @ Main ./In[7]:1",
      " [6] Newton(f::typeof(g), fprime::Int64, I::Interval{Float64})",
      "   @ Main ./In[9]:1",
      " [7] top-level scope",
      "   @ In[30]:1",
      " [8] eval",
      "   @ ./boot.jl:368 [inlined]",
      " [9] include_string(mapexpr::typeof(REPL.softscope), mod::Module, code::String, filename::String)",
      "   @ Base ./loading.jl:1428"
     ]
    }
   ],
   "source": [
    "I2 = Newton(g, 2, @interval 0 1)"
   ]
  },
  {
   "cell_type": "code",
   "execution_count": 16,
   "metadata": {},
   "outputs": [
    {
     "name": "stderr",
     "output_type": "stream",
     "text": [
      "\u001b[32m\u001b[1m   Resolving\u001b[22m\u001b[39m package versions...\n",
      "\u001b[32m\u001b[1m    Updating\u001b[22m\u001b[39m `~/.julia/environments/v1.8/Project.toml`\n",
      " \u001b[90m [fa6b7ba4] \u001b[39m\u001b[92m+ DualNumbers v0.6.8\u001b[39m\n",
      "\u001b[32m\u001b[1m  No Changes\u001b[22m\u001b[39m to `~/.julia/environments/v1.8/Manifest.toml`\n"
     ]
    }
   ],
   "source": [
    "using Pkg\n",
    "Pkg.add(\"DualNumbers\")"
   ]
  },
  {
   "cell_type": "code",
   "execution_count": 31,
   "metadata": {},
   "outputs": [],
   "source": [
    "using DualNumbers"
   ]
  },
  {
   "cell_type": "code",
   "execution_count": 32,
   "metadata": {},
   "outputs": [
    {
     "data": {
      "text/plain": [
       "Newton (generic function with 2 methods)"
      ]
     },
     "execution_count": 32,
     "metadata": {},
     "output_type": "execute_result"
    }
   ],
   "source": [
    "Newton(f, I1) = Newton(f, x->(f(Dual(x, 1)).epsilon), I1)"
   ]
  },
  {
   "cell_type": "code",
   "execution_count": 33,
   "metadata": {},
   "outputs": [
    {
     "ename": "LoadError",
     "evalue": "mod not defined for Interval{Float64}",
     "output_type": "error",
     "traceback": [
      "mod not defined for Interval{Float64}",
      "",
      "Stacktrace:",
      "  [1] error(::String, ::String, ::Type)",
      "    @ Base ./error.jl:44",
      "  [2] no_op_err(name::String, T::Type)",
      "    @ Base ./promotion.jl:462",
      "  [3] mod(x::Interval{Float64}, y::Interval{Float64})",
      "    @ Base ./promotion.jl:482",
      "  [4] mod(x::Interval{Float64}, y::Int64)",
      "    @ Base ./promotion.jl:432",
      "  [5] g(x::Interval{Float64})",
      "    @ Main ./In[7]:1",
      "  [6] Newton(f::typeof(g), fprime::var\"#5#6\"{typeof(g)}, I::Interval{Float64})",
      "    @ Main ./In[9]:1",
      "  [7] Newton(f::typeof(g), I1::Interval{Float64})",
      "    @ Main ./In[32]:1",
      "  [8] (::var\"#7#8\")(x::Interval{Float64})",
      "    @ Main ./none:0",
      "  [9] iterate",
      "    @ ./generator.jl:47 [inlined]",
      " [10] collect(itr::Base.Generator{Interval{Float64}, var\"#7#8\"})",
      "    @ Base ./array.jl:787",
      " [11] top-level scope",
      "    @ In[33]:1",
      " [12] eval",
      "    @ ./boot.jl:368 [inlined]",
      " [13] include_string(mapexpr::typeof(REPL.softscope), mod::Module, code::String, filename::String)",
      "    @ Base ./loading.jl:1428"
     ]
    }
   ],
   "source": [
    "new_x = [Newton(g, x) for x in I1]"
   ]
  }
 ],
 "metadata": {
  "kernelspec": {
   "display_name": "Julia 1.8.3",
   "language": "julia",
   "name": "julia-1.8"
  },
  "language_info": {
   "file_extension": ".jl",
   "mimetype": "application/julia",
   "name": "julia",
   "version": "1.8.3"
  },
  "orig_nbformat": 4
 },
 "nbformat": 4,
 "nbformat_minor": 2
}
