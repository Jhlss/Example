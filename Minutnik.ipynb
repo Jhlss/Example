{
 "cells": [
  {
   "cell_type": "code",
   "execution_count": null,
   "metadata": {},
   "outputs": [],
   "source": [
    "using RigorousInvariantMeasures\n",
    "using Plots\n",
    "using IntervalArithmetic\n",
    "using LaTeXStrings\n",
    "using Pkg\n",
    "using StatsPlots\n",
    "using TaylorModels\n",
    "using LinearAlgebra"
   ]
  },
  {
   "cell_type": "markdown",
   "metadata": {},
   "source": [
    "## Example with a Markov pertubation of 4x mod 1."
   ]
  },
  {
   "cell_type": "markdown",
   "metadata": {},
   "source": [
    "$$\n",
    "\n",
    "T(x) = 4x + 0.001sin(8\\pi x) \\mod 1\n",
    "\n",
    "$$"
   ]
  },
  {
   "cell_type": "code",
   "execution_count": null,
   "metadata": {},
   "outputs": [],
   "source": [
    "D = mod1_dynamic(x -> 4*x+0.01*sin(8*pi*x))\n",
    "B = Ulam(4096)\n",
    "Q = DiscretizedOperator(B, D)\n",
    "A, BB = dfly(strong_norm(B), aux_norm(B), D)\n",
    "plot(D, title=\"Dynamic (dfly coeffs $(round(A, sigdigits=2)), $(round(BB, sigdigits=2)))\", label=L\"T(x)\", legend=:bottomright)"
   ]
  },
  {
   "cell_type": "code",
   "execution_count": null,
   "metadata": {},
   "outputs": [],
   "source": [
    "norms = powernormbounds(B, D; Q=Q)\n",
    "w = invariant_vector(B, Q)\n",
    "error = distance_from_invariant(B, D, Q, w, norms)\n",
    "plot(B, w)\n",
    "plot!(B, error)"
   ]
  }
 ],
 "metadata": {
  "kernelspec": {
   "display_name": "Julia 1.11.1",
   "language": "julia",
   "name": "julia-1.11"
  },
  "language_info": {
   "file_extension": ".jl",
   "mimetype": "application/julia",
   "name": "julia",
   "version": "1.11.1"
  }
 },
 "nbformat": 4,
 "nbformat_minor": 2
}
