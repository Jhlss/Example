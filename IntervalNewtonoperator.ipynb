{
 "cells": [
  {
   "cell_type": "code",
   "execution_count": 75,
   "metadata": {},
   "outputs": [],
   "source": [
    "using IntervalArithmetic, ForwardDiff, Plots"
   ]
  },
  {
   "cell_type": "markdown",
   "metadata": {},
   "source": [
    "We will assume that $T : I \\to \\mathbb{R}$ is a continuously differentiable function and that $a \\in I$ is zero of $T$. We will also assume that $T'$ exists and satisfies $0 \\not\\in T'(I)$. This implies $T'(x) \\ne 0$ in $I$. Then, for any $x \\in I$, an application of the Mean Value Theorem gives\n",
    "\n",
    "$$\n",
    "T(x) = T(a) -T'(c)(x-a)\n",
    "$$\n",
    "\n",
    "for some $c$ between $x$ and $a$. Since $T(a)$ and $T'(c)\\ne 0$ we can solve for the zero $a$: \n",
    "\n",
    "$$\n",
    "a = x-\\frac{T(x)}{T'(c)} \\in x - \\frac{T(x)}{T'(I)} = N(I,x)\n",
    "$$"
   ]
  },
  {
   "cell_type": "markdown",
   "metadata": {},
   "source": [
    "Since we are assuming that $a \\in I$, we also have $a \\in N(I,x)\\cap I$  for all $x \\in I$. The enclosure corresponding to the selection $x = m = mid(I)$ is called the interval $Newton operator$:\n",
    "$$\n",
    "N(I) = N(I,m) = m - \\frac{T(m)}{T'(I)}\n",
    "$$\n",
    "\n",
    "Taking $x0 = I$ as our initial enclosure of $a$, we define the sequence of intervals\n",
    "$$\n",
    "x_{k+1} = N(I_{k})\\cap I_k\n",
    "$$\n",
    "Now implement this part.\n"
   ]
  },
  {
   "cell_type": "code",
   "execution_count": 76,
   "metadata": {},
   "outputs": [
    {
     "data": {
      "text/plain": [
       "OPN (generic function with 2 methods)"
      ]
     },
     "metadata": {},
     "output_type": "display_data"
    }
   ],
   "source": [
    "function OPN(f, df, I::Interval)\n",
    "    m = @interval mid(I)\n",
    "    return (m - f(m)/df(I)) ∩ I\n",
    "end"
   ]
  },
  {
   "cell_type": "code",
   "execution_count": 90,
   "metadata": {},
   "outputs": [
    {
     "data": {
      "text/plain": [
       "TesteOPN (generic function with 4 methods)"
      ]
     },
     "metadata": {},
     "output_type": "display_data"
    }
   ],
   "source": [
    "function TesteOPN(f, I::Interval, tol = 2^-10)\n",
    "    xk = I\n",
    "    df(I) = ForwardDiff.derivative(f,I)\n",
    "    while diam(xk)>tol\n",
    "        if OPN(f, df, xk) == ∅\n",
    "            return \"Not Zeros in these interval!\"\n",
    "        else\n",
    "            zerobox = IntervalBox(xk, f(I))\n",
    "            global xk = OPN(f, df, xk)\n",
    "            @show xk\n",
    "        end\n",
    "    end  \n",
    "    @show xk  \n",
    "end"
   ]
  },
  {
   "cell_type": "code",
   "execution_count": 91,
   "metadata": {},
   "outputs": [
    {
     "data": {
      "text/plain": [
       "f (generic function with 1 method)"
      ]
     },
     "metadata": {},
     "output_type": "display_data"
    }
   ],
   "source": [
    "f(x) = 3*x^2-0.444"
   ]
  },
  {
   "cell_type": "code",
   "execution_count": 79,
   "metadata": {},
   "outputs": [
    {
     "data": {
      "text/plain": [
       "[0, 1]"
      ]
     },
     "metadata": {},
     "output_type": "display_data"
    }
   ],
   "source": [
    "I = interval(0,1)"
   ]
  },
  {
   "cell_type": "code",
   "execution_count": 70,
   "metadata": {},
   "outputs": [
    {
     "data": {
      "text/plain": [
       "0.0009765625"
      ]
     },
     "metadata": {},
     "output_type": "display_data"
    }
   ],
   "source": [
    "tol = 2^-10"
   ]
  },
  {
   "cell_type": "code",
   "execution_count": 87,
   "metadata": {},
   "outputs": [
    {
     "data": {
      "text/plain": [
       "[0.384707, 0.384708]"
      ]
     },
     "metadata": {},
     "output_type": "display_data"
    }
   ],
   "source": [
    "xk = I\n",
    "    df(I) = ForwardDiff.derivative(f,I)\n",
    "    while diam(xk)>tol\n",
    "        zerobox = IntervalBox(xk, f(I))\n",
    "        global xk = OPN(f, df, xk)\n",
    "        @show xk\n",
    "    end  \n",
    "    @show xk "
   ]
  },
  {
   "cell_type": "code",
   "execution_count": 92,
   "metadata": {},
   "outputs": [
    {
     "ename": "MethodError",
     "evalue": "MethodError: no method matching TesteOPN(::typeof(f), ::Interval{Float64}; tol::Float64)\n\nClosest candidates are:\n  TesteOPN(::Any, ::Interval) got unsupported keyword argument \"tol\"\n   @ Main ~/Downloads/IntervalArithmetic.jl-master/IntervalNewtonoperator.ipynb:1\n  TesteOPN(::Any, ::Interval, !Matched::Any) got unsupported keyword argument \"tol\"\n   @ Main ~/Downloads/IntervalArithmetic.jl-master/IntervalNewtonoperator.ipynb:1\n  TesteOPN(::Any, ::Any, !Matched::Any) got unsupported keyword argument \"tol\"\n   @ Main ~/Downloads/IntervalArithmetic.jl-master/IntervalNewtonoperator.ipynb:1\n  ...\n",
     "output_type": "error",
     "traceback": [
      "MethodError: no method matching TesteOPN(::typeof(f), ::Interval{Float64}; tol::Float64)\n",
      "\n",
      "Closest candidates are:\n",
      "  TesteOPN(::Any, ::Interval) got unsupported keyword argument \"tol\"\n",
      "   @ Main ~/Downloads/IntervalArithmetic.jl-master/IntervalNewtonoperator.ipynb:1\n",
      "  TesteOPN(::Any, ::Interval, !Matched::Any) got unsupported keyword argument \"tol\"\n",
      "   @ Main ~/Downloads/IntervalArithmetic.jl-master/IntervalNewtonoperator.ipynb:1\n",
      "  TesteOPN(::Any, ::Any, !Matched::Any) got unsupported keyword argument \"tol\"\n",
      "   @ Main ~/Downloads/IntervalArithmetic.jl-master/IntervalNewtonoperator.ipynb:1\n",
      "  ...\n",
      "\n",
      "\n",
      "Stacktrace:\n",
      " [1] top-level scope\n",
      "   @ ~/Downloads/IntervalArithmetic.jl-master/IntervalNewtonoperator.ipynb:1"
     ]
    }
   ],
   "source": [
    "TesteOPN(f,I,tol = 2^-10)"
   ]
  },
  {
   "cell_type": "code",
   "execution_count": null,
   "metadata": {},
   "outputs": [],
   "source": []
  }
 ],
 "metadata": {
  "kernelspec": {
   "display_name": "Julia 1.10.2",
   "language": "julia",
   "name": "julia-1.10"
  },
  "language_info": {
   "file_extension": ".jl",
   "mimetype": "application/julia",
   "name": "julia",
   "version": "1.10.2"
  }
 },
 "nbformat": 4,
 "nbformat_minor": 2
}
