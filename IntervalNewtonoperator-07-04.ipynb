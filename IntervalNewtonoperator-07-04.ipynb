{
 "cells": [
  {
   "cell_type": "code",
   "execution_count": 1,
   "metadata": {},
   "outputs": [],
   "source": [
    "using IntervalArithmetic, ForwardDiff, Plots, LinearAlgebra"
   ]
  },
  {
   "cell_type": "markdown",
   "metadata": {},
   "source": [
    "We will assume that $T : I \\to \\mathbb{R}$ is a continuously differentiable function and that $a \\in I$ is zero of $T$. We will also assume that $T'$ exists and satisfies $0 \\not\\in T'(I)$. This implies $T'(x) \\ne 0$ in $I$. Then, for any $x \\in I$, an application of the Mean Value Theorem gives\n",
    "\n",
    "$$\n",
    "T(x) = T(a) -T'(c)(x-a)\n",
    "$$\n",
    "\n",
    "for some $c$ between $x$ and $a$. Since $T(a)$ and $T'(c)\\ne 0$ we can solve for the zero $a$: \n",
    "\n",
    "$$\n",
    "a = x-\\frac{T(x)}{T'(c)} \\in x - \\frac{T(x)}{T'(I)} = N(I,x)\n",
    "$$"
   ]
  },
  {
   "cell_type": "markdown",
   "metadata": {},
   "source": [
    "Since we are assuming that $a \\in I$, we also have $a \\in N(I,x)\\cap I$  for all $x \\in I$. The enclosure corresponding to the selection $x = m = mid(I)$ is called the interval $Newton operator$:\n",
    "$$\n",
    "N(I) = N(I,m) = m - \\frac{T(m)}{T'(I)}\n",
    "$$\n",
    "\n",
    "Taking $x0 = I$ as our initial enclosure of $a$, we define the sequence of intervals\n",
    "$$\n",
    "x_{k+1} = N(I_{k})\\cap I_k\n",
    "$$\n",
    "Now implement this part.\n"
   ]
  },
  {
   "cell_type": "code",
   "execution_count": 10,
   "metadata": {},
   "outputs": [
    {
     "data": {
      "text/plain": [
       "[0, 1]"
      ]
     },
     "metadata": {},
     "output_type": "display_data"
    }
   ],
   "source": [
    "I = interval(0,1)"
   ]
  },
  {
   "cell_type": "code",
   "execution_count": 3,
   "metadata": {},
   "outputs": [
    {
     "data": {
      "text/plain": [
       "f (generic function with 1 method)"
      ]
     },
     "metadata": {},
     "output_type": "display_data"
    }
   ],
   "source": [
    "f(x) = 3*x^2-0.444"
   ]
  },
  {
   "cell_type": "code",
   "execution_count": 4,
   "metadata": {},
   "outputs": [
    {
     "data": {
      "text/plain": [
       "df (generic function with 1 method)"
      ]
     },
     "metadata": {},
     "output_type": "display_data"
    }
   ],
   "source": [
    "df(I) = ForwardDiff.derivative(f,I)"
   ]
  },
  {
   "cell_type": "code",
   "execution_count": 5,
   "metadata": {},
   "outputs": [
    {
     "data": {
      "text/plain": [
       "OPN (generic function with 1 method)"
      ]
     },
     "metadata": {},
     "output_type": "display_data"
    }
   ],
   "source": [
    "function OPN(f, df, I::Interval)\n",
    "    m = @interval mid(I)\n",
    "    return (hull(m) - hull(f(m))/hull(df(I))) ∩ I\n",
    "end"
   ]
  },
  {
   "cell_type": "code",
   "execution_count": 6,
   "metadata": {},
   "outputs": [
    {
     "data": {
      "text/plain": [
       "[0, 0.449001]"
      ]
     },
     "metadata": {},
     "output_type": "display_data"
    }
   ],
   "source": [
    "OPN(f,df,I)"
   ]
  },
  {
   "cell_type": "code",
   "execution_count": 19,
   "metadata": {},
   "outputs": [
    {
     "data": {
      "text/plain": [
       "[0, 1]"
      ]
     },
     "metadata": {},
     "output_type": "display_data"
    }
   ],
   "source": [
    "xk = I"
   ]
  },
  {
   "cell_type": "code",
   "execution_count": 26,
   "metadata": {},
   "outputs": [
    {
     "data": {
      "text/plain": [
       "TesteOPN (generic function with 2 methods)"
      ]
     },
     "metadata": {},
     "output_type": "display_data"
    }
   ],
   "source": [
    "function TesteOPN(f::Function, I::Interval; tol = 2^-10)\n",
    "    df(I) = ForwardDiff.derivative(f,I)\n",
    "    if OPN(f, df, xk) == ∅\n",
    "        return \"Not Zeros in these interval!\"\n",
    "    else\n",
    "        while diam(xk)>tol\n",
    "            zerobox = IntervalBox(xk, f(I))\n",
    "            global xk = OPN(f, df, xk)\n",
    "            if xk == ∅\n",
    "                return \"Not Zeros in these interval!\"\n",
    "            end\n",
    "            @show xk\n",
    "        end\n",
    "    end  \n",
    "    @show xk  \n",
    "end"
   ]
  },
  {
   "cell_type": "code",
   "execution_count": 28,
   "metadata": {},
   "outputs": [
    {
     "data": {
      "text/plain": [
       "[0.384707, 0.384708]"
      ]
     },
     "metadata": {},
     "output_type": "display_data"
    }
   ],
   "source": [
    "TesteOPN(f,I,tol = 2^-10)"
   ]
  },
  {
   "cell_type": "code",
   "execution_count": 22,
   "metadata": {},
   "outputs": [
    {
     "data": {
      "text/plain": [
       "g (generic function with 1 method)"
      ]
     },
     "metadata": {},
     "output_type": "display_data"
    }
   ],
   "source": [
    "g(x) = 2x"
   ]
  },
  {
   "cell_type": "code",
   "execution_count": 33,
   "metadata": {},
   "outputs": [
    {
     "data": {
      "text/plain": [
       "[-166, 1]"
      ]
     },
     "metadata": {},
     "output_type": "display_data"
    }
   ],
   "source": [
    "J = interval(-166,1)"
   ]
  },
  {
   "cell_type": "code",
   "execution_count": 34,
   "metadata": {},
   "outputs": [
    {
     "data": {
      "text/plain": [
       "[-166, 1]"
      ]
     },
     "metadata": {},
     "output_type": "display_data"
    }
   ],
   "source": [
    "xk = interval(-166,1)"
   ]
  },
  {
   "cell_type": "code",
   "execution_count": 35,
   "metadata": {},
   "outputs": [
    {
     "data": {
      "text/plain": [
       "[0, 0]"
      ]
     },
     "metadata": {},
     "output_type": "display_data"
    }
   ],
   "source": [
    "TesteOPN(g,J,tol = 2^-10)"
   ]
  },
  {
   "cell_type": "markdown",
   "metadata": {},
   "source": [
    "#### But how to adapt to find the preimages.\n",
    "\n",
    "- We have think about partition of Branches."
   ]
  },
  {
   "cell_type": "code",
   "execution_count": 36,
   "metadata": {},
   "outputs": [
    {
     "data": {
      "text/plain": [
       "g (generic function with 1 method)"
      ]
     },
     "metadata": {},
     "output_type": "display_data"
    }
   ],
   "source": [
    "f(x) = -2.7*x + 1\n",
    "g(x) = 1.59*x-0.90"
   ]
  },
  {
   "cell_type": "code",
   "execution_count": 42,
   "metadata": {},
   "outputs": [
    {
     "data": {
      "image/png": "[encoded data removed]",
      "image/svg+xml": [
       "<?xml version=\"1.0\" encoding=\"utf-8\"?>\n",
       "<svg xmlns=\"http://www.w3.org/2000/svg\" xmlns:xlink=\"http://www.w3.org/1999/xlink\" width=\"600\" height=\"400\" viewBox=\"0 0 2400 1600\">\n",
       "<defs>\n",
       "  <clipPath id=\"clip620\">\n",
       "    <rect x=\"0\" y=\"0\" width=\"2400\" height=\"1600\"/>\n",
       "  </clipPath>\n",
       "</defs>\n",
       "<path clip-path=\"url(#clip620)\" d=\"M0 1600 L2400 1600 L2400 0 L0 0  Z\" fill=\"#ffffff\" fill-rule=\"evenodd\" fill-opacity=\"1\"/>\n",
       "<defs>\n",
       "  <clipPath id=\"clip621\">\n",
       "    <rect x=\"480\" y=\"0\" width=\"1681\" height=\"1600\"/>\n",
       "  </clipPath>\n",
       "</defs>\n",
       "<path clip-path=\"url(#clip620)\" d=\"M178.867 1486.45 L2352.76 1486.45 L2352.76 47.2441 L178.867 47.2441  Z\" fill=\"#ffffff\" fill-rule=\"evenodd\" fill-opacity=\"1\"/>\n",
       "<defs>\n",
       "  <clipPath id=\"clip622\">\n",
       "    <rect x=\"178\" y=\"47\" width=\"2175\" height=\"1440\"/>\n",
       "  </clipPath>\n",
       "</defs>\n",
       "<polyline clip-path=\"url(#clip622)\" style=\"stroke:#000000; stroke-linecap:round; stroke-linejoin:round; stroke-width:2; stroke-opacity:0.1; fill:none\" points=\"445.476,1486.45 445.476,47.2441 \"/>\n",
       "<polyline clip-path=\"url(#clip622)\" style=\"stroke:#000000; stroke-linecap:round; stroke-linejoin:round; stroke-width:2; stroke-opacity:0.1; fill:none\" points=\"855.643,1486.45 855.643,47.2441 \"/>\n",
       "<polyline clip-path=\"url(#clip622)\" style=\"stroke:#000000; stroke-linecap:round; stroke-linejoin:round; stroke-width:2; stroke-opacity:0.1; fill:none\" points=\"1265.81,1486.45 1265.81,47.2441 \"/>\n",
       "<polyline clip-path=\"url(#clip622)\" style=\"stroke:#000000; stroke-linecap:round; stroke-linejoin:round; stroke-width:2; stroke-opacity:0.1; fill:none\" points=\"1675.98,1486.45 1675.98,47.2441 \"/>\n",
       "<polyline clip-path=\"url(#clip622)\" style=\"stroke:#000000; stroke-linecap:round; stroke-linejoin:round; stroke-width:2; stroke-opacity:0.1; fill:none\" points=\"2086.15,1486.45 2086.15,47.2441 \"/>\n",
       "<polyline clip-path=\"url(#clip620)\" style=\"stroke:#000000; stroke-linecap:round; stroke-linejoin:round; stroke-width:4; stroke-opacity:1; fill:none\" points=\"178.867,1486.45 2352.76,1486.45 \"/>\n",
       "<polyline clip-path=\"url(#clip620)\" style=\"stroke:#000000; stroke-linecap:round; stroke-linejoin:round; stroke-width:4; stroke-opacity:1; fill:none\" points=\"445.476,1486.45 445.476,1467.55 \"/>\n",
       "<polyline clip-path=\"url(#clip620)\" style=\"stroke:#000000; stroke-linecap:round; stroke-linejoin:round; stroke-width:4; stroke-opacity:1; fill:none\" points=\"855.643,1486.45 855.643,1467.55 \"/>\n",
       "<polyline clip-path=\"url(#clip620)\" style=\"stroke:#000000; stroke-linecap:round; stroke-linejoin:round; stroke-width:4; stroke-opacity:1; fill:none\" points=\"1265.81,1486.45 1265.81,1467.55 \"/>\n",
       "<polyline clip-path=\"url(#clip620)\" style=\"stroke:#000000; stroke-linecap:round; stroke-linejoin:round; stroke-width:4; stroke-opacity:1; fill:none\" points=\"1675.98,1486.45 1675.98,1467.55 \"/>\n",
       "<polyline clip-path=\"url(#clip620)\" style=\"stroke:#000000; stroke-linecap:round; stroke-linejoin:round; stroke-width:4; stroke-opacity:1; fill:none\" points=\"2086.15,1486.45 2086.15,1467.55 \"/>\n",
       "<path clip-path=\"url(#clip620)\" d=\"M414.376 1532.02 L444.052 1532.02 L444.052 1535.95 L414.376 1535.95 L414.376 1532.02 Z\" fill=\"#000000\" fill-rule=\"nonzero\" fill-opacity=\"1\" /><path clip-path=\"url(#clip620)\" d=\"M466.992 1518.36 L455.186 1536.81 L466.992 1536.81 L466.992 1518.36 M465.765 1514.29 L471.645 1514.29 L471.645 1536.81 L476.575 1536.81 L476.575 1540.7 L471.645 1540.7 L471.645 1548.85 L466.992 1548.85 L466.992 1540.7 L451.39 1540.7 L451.39 1536.19 L465.765 1514.29 Z\" fill=\"#000000\" fill-rule=\"nonzero\" fill-opacity=\"1\" /><path clip-path=\"url(#clip620)\" d=\"M825.586 1532.02 L855.262 1532.02 L855.262 1535.95 L825.586 1535.95 L825.586 1532.02 Z\" fill=\"#000000\" fill-rule=\"nonzero\" fill-opacity=\"1\" /><path clip-path=\"url(#clip620)\" d=\"M869.382 1544.91 L885.701 1544.91 L885.701 1548.85 L863.757 1548.85 L863.757 1544.91 Q866.419 1542.16 871.002 1537.53 Q875.609 1532.88 876.789 1531.53 Q879.035 1529.01 879.914 1527.27 Q880.817 1525.51 880.817 1523.82 Q880.817 1521.07 878.873 1519.33 Q876.951 1517.6 873.849 1517.6 Q871.65 1517.6 869.197 1518.36 Q866.766 1519.13 863.988 1520.68 L863.988 1515.95 Q866.812 1514.82 869.266 1514.24 Q871.72 1513.66 873.757 1513.66 Q879.127 1513.66 882.322 1516.35 Q885.516 1519.03 885.516 1523.52 Q885.516 1525.65 884.706 1527.57 Q883.919 1529.47 881.812 1532.07 Q881.234 1532.74 878.132 1535.95 Q875.03 1539.15 869.382 1544.91 Z\" fill=\"#000000\" fill-rule=\"nonzero\" fill-opacity=\"1\" /><path clip-path=\"url(#clip620)\" d=\"M1265.81 1517.37 Q1262.2 1517.37 1260.37 1520.93 Q1258.57 1524.47 1258.57 1531.6 Q1258.57 1538.71 1260.37 1542.27 Q1262.2 1545.82 1265.81 1545.82 Q1269.45 1545.82 1271.25 1542.27 Q1273.08 1538.71 1273.08 1531.6 Q1273.08 1524.47 1271.25 1520.93 Q1269.45 1517.37 1265.81 1517.37 M1265.81 1513.66 Q1271.62 1513.66 1274.68 1518.27 Q1277.76 1522.85 1277.76 1531.6 Q1277.76 1540.33 1274.68 1544.94 Q1271.62 1549.52 1265.81 1549.52 Q1260 1549.52 1256.92 1544.94 Q1253.87 1540.33 1253.87 1531.6 Q1253.87 1522.85 1256.92 1518.27 Q1260 1513.66 1265.81 1513.66 Z\" fill=\"#000000\" fill-rule=\"nonzero\" fill-opacity=\"1\" /><path clip-path=\"url(#clip620)\" d=\"M1670.63 1544.91 L1686.95 1544.91 L1686.95 1548.85 L1665.01 1548.85 L1665.01 1544.91 Q1667.67 1542.16 1672.25 1537.53 Q1676.86 1532.88 1678.04 1531.53 Q1680.28 1529.01 1681.16 1527.27 Q1682.07 1525.51 1682.07 1523.82 Q1682.07 1521.07 1680.12 1519.33 Q1678.2 1517.6 1675.1 1517.6 Q1672.9 1517.6 1670.45 1518.36 Q1668.02 1519.13 1665.24 1520.68 L1665.24 1515.95 Q1668.06 1514.82 1670.52 1514.24 Q1672.97 1513.66 1675.01 1513.66 Q1680.38 1513.66 1683.57 1516.35 Q1686.77 1519.03 1686.77 1523.52 Q1686.77 1525.65 1685.96 1527.57 Q1685.17 1529.47 1683.06 1532.07 Q1682.48 1532.74 1679.38 1535.95 Q1676.28 1539.15 1670.63 1544.91 Z\" fill=\"#000000\" fill-rule=\"nonzero\" fill-opacity=\"1\" /><path clip-path=\"url(#clip620)\" d=\"M2089.16 1518.36 L2077.35 1536.81 L2089.16 1536.81 L2089.16 1518.36 M2087.93 1514.29 L2093.81 1514.29 L2093.81 1536.81 L2098.74 1536.81 L2098.74 1540.7 L2093.81 1540.7 L2093.81 1548.85 L2089.16 1548.85 L2089.16 1540.7 L2073.55 1540.7 L2073.55 1536.19 L2087.93 1514.29 Z\" fill=\"#000000\" fill-rule=\"nonzero\" fill-opacity=\"1\" /><polyline clip-path=\"url(#clip622)\" style=\"stroke:#000000; stroke-linecap:round; stroke-linejoin:round; stroke-width:2; stroke-opacity:0.1; fill:none\" points=\"178.867,1320 2352.76,1320 \"/>\n",
       "<polyline clip-path=\"url(#clip622)\" style=\"stroke:#000000; stroke-linecap:round; stroke-linejoin:round; stroke-width:2; stroke-opacity:0.1; fill:none\" points=\"178.867,1068.57 2352.76,1068.57 \"/>\n",
       "<polyline clip-path=\"url(#clip622)\" style=\"stroke:#000000; stroke-linecap:round; stroke-linejoin:round; stroke-width:2; stroke-opacity:0.1; fill:none\" points=\"178.867,817.133 2352.76,817.133 \"/>\n",
       "<polyline clip-path=\"url(#clip622)\" style=\"stroke:#000000; stroke-linecap:round; stroke-linejoin:round; stroke-width:2; stroke-opacity:0.1; fill:none\" points=\"178.867,565.699 2352.76,565.699 \"/>\n",
       "<polyline clip-path=\"url(#clip622)\" style=\"stroke:#000000; stroke-linecap:round; stroke-linejoin:round; stroke-width:2; stroke-opacity:0.1; fill:none\" points=\"178.867,314.266 2352.76,314.266 \"/>\n",
       "<polyline clip-path=\"url(#clip622)\" style=\"stroke:#000000; stroke-linecap:round; stroke-linejoin:round; stroke-width:2; stroke-opacity:0.1; fill:none\" points=\"178.867,62.833 2352.76,62.833 \"/>\n",
       "<polyline clip-path=\"url(#clip620)\" style=\"stroke:#000000; stroke-linecap:round; stroke-linejoin:round; stroke-width:4; stroke-opacity:1; fill:none\" points=\"178.867,1486.45 178.867,47.2441 \"/>\n",
       "<polyline clip-path=\"url(#clip620)\" style=\"stroke:#000000; stroke-linecap:round; stroke-linejoin:round; stroke-width:4; stroke-opacity:1; fill:none\" points=\"178.867,1320 197.764,1320 \"/>\n",
       "<polyline clip-path=\"url(#clip620)\" style=\"stroke:#000000; stroke-linecap:round; stroke-linejoin:round; stroke-width:4; stroke-opacity:1; fill:none\" points=\"178.867,1068.57 197.764,1068.57 \"/>\n",
       "<polyline clip-path=\"url(#clip620)\" style=\"stroke:#000000; stroke-linecap:round; stroke-linejoin:round; stroke-width:4; stroke-opacity:1; fill:none\" points=\"178.867,817.133 197.764,817.133 \"/>\n",
       "<polyline clip-path=\"url(#clip620)\" style=\"stroke:#000000; stroke-linecap:round; stroke-linejoin:round; stroke-width:4; stroke-opacity:1; fill:none\" points=\"178.867,565.699 197.764,565.699 \"/>\n",
       "<polyline clip-path=\"url(#clip620)\" style=\"stroke:#000000; stroke-linecap:round; stroke-linejoin:round; stroke-width:4; stroke-opacity:1; fill:none\" points=\"178.867,314.266 197.764,314.266 \"/>\n",
       "<polyline clip-path=\"url(#clip620)\" style=\"stroke:#000000; stroke-linecap:round; stroke-linejoin:round; stroke-width:4; stroke-opacity:1; fill:none\" points=\"178.867,62.833 197.764,62.833 \"/>\n",
       "<path clip-path=\"url(#clip620)\" d=\"M50.9921 1320.45 L80.6679 1320.45 L80.6679 1324.39 L50.9921 1324.39 L50.9921 1320.45 Z\" fill=\"#000000\" fill-rule=\"nonzero\" fill-opacity=\"1\" /><path clip-path=\"url(#clip620)\" d=\"M91.5706 1333.34 L99.2095 1333.34 L99.2095 1306.98 L90.8993 1308.64 L90.8993 1304.39 L99.1632 1302.72 L103.839 1302.72 L103.839 1333.34 L111.478 1333.34 L111.478 1337.28 L91.5706 1337.28 L91.5706 1333.34 Z\" fill=\"#000000\" fill-rule=\"nonzero\" fill-opacity=\"1\" /><path clip-path=\"url(#clip620)\" d=\"M130.922 1305.8 Q127.311 1305.8 125.482 1309.36 Q123.677 1312.9 123.677 1320.03 Q123.677 1327.14 125.482 1330.71 Q127.311 1334.25 130.922 1334.25 Q134.556 1334.25 136.362 1330.71 Q138.191 1327.14 138.191 1320.03 Q138.191 1312.9 136.362 1309.36 Q134.556 1305.8 130.922 1305.8 M130.922 1302.09 Q136.732 1302.09 139.788 1306.7 Q142.867 1311.28 142.867 1320.03 Q142.867 1328.76 139.788 1333.37 Q136.732 1337.95 130.922 1337.95 Q125.112 1337.95 122.033 1333.37 Q118.978 1328.76 118.978 1320.03 Q118.978 1311.28 122.033 1306.7 Q125.112 1302.09 130.922 1302.09 Z\" fill=\"#000000\" fill-rule=\"nonzero\" fill-opacity=\"1\" /><path clip-path=\"url(#clip620)\" d=\"M82.1494 1069.02 L111.825 1069.02 L111.825 1072.95 L82.1494 1072.95 L82.1494 1069.02 Z\" fill=\"#000000\" fill-rule=\"nonzero\" fill-opacity=\"1\" /><path clip-path=\"url(#clip620)\" d=\"M121.964 1051.29 L140.32 1051.29 L140.32 1055.22 L126.246 1055.22 L126.246 1063.69 Q127.265 1063.35 128.283 1063.18 Q129.302 1063 130.32 1063 Q136.107 1063 139.487 1066.17 Q142.867 1069.34 142.867 1074.76 Q142.867 1080.34 139.394 1083.44 Q135.922 1086.52 129.603 1086.52 Q127.427 1086.52 125.158 1086.15 Q122.913 1085.78 120.506 1085.04 L120.506 1080.34 Q122.589 1081.47 124.811 1082.03 Q127.033 1082.58 129.51 1082.58 Q133.515 1082.58 135.853 1080.48 Q138.191 1078.37 138.191 1074.76 Q138.191 1071.15 135.853 1069.04 Q133.515 1066.93 129.51 1066.93 Q127.635 1066.93 125.76 1067.35 Q123.908 1067.77 121.964 1068.65 L121.964 1051.29 Z\" fill=\"#000000\" fill-rule=\"nonzero\" fill-opacity=\"1\" /><path clip-path=\"url(#clip620)\" d=\"M130.922 802.931 Q127.311 802.931 125.482 806.496 Q123.677 810.038 123.677 817.167 Q123.677 824.274 125.482 827.839 Q127.311 831.38 130.922 831.38 Q134.556 831.38 136.362 827.839 Q138.191 824.274 138.191 817.167 Q138.191 810.038 136.362 806.496 Q134.556 802.931 130.922 802.931 M130.922 799.228 Q136.732 799.228 139.788 803.834 Q142.867 808.417 142.867 817.167 Q142.867 825.894 139.788 830.501 Q136.732 835.084 130.922 835.084 Q125.112 835.084 122.033 830.501 Q118.978 825.894 118.978 817.167 Q118.978 808.417 122.033 803.834 Q125.112 799.228 130.922 799.228 Z\" fill=\"#000000\" fill-rule=\"nonzero\" fill-opacity=\"1\" /><path clip-path=\"url(#clip620)\" d=\"M121.964 548.419 L140.32 548.419 L140.32 552.355 L126.246 552.355 L126.246 560.827 Q127.265 560.48 128.283 560.317 Q129.302 560.132 130.32 560.132 Q136.107 560.132 139.487 563.304 Q142.867 566.475 142.867 571.892 Q142.867 577.47 139.394 580.572 Q135.922 583.651 129.603 583.651 Q127.427 583.651 125.158 583.28 Q122.913 582.91 120.506 582.169 L120.506 577.47 Q122.589 578.604 124.811 579.16 Q127.033 579.716 129.51 579.716 Q133.515 579.716 135.853 577.609 Q138.191 575.503 138.191 571.892 Q138.191 568.28 135.853 566.174 Q133.515 564.067 129.51 564.067 Q127.635 564.067 125.76 564.484 Q123.908 564.901 121.964 565.78 L121.964 548.419 Z\" fill=\"#000000\" fill-rule=\"nonzero\" fill-opacity=\"1\" /><path clip-path=\"url(#clip620)\" d=\"M91.5706 327.611 L99.2095 327.611 L99.2095 301.245 L90.8993 302.912 L90.8993 298.653 L99.1632 296.986 L103.839 296.986 L103.839 327.611 L111.478 327.611 L111.478 331.546 L91.5706 331.546 L91.5706 327.611 Z\" fill=\"#000000\" fill-rule=\"nonzero\" fill-opacity=\"1\" /><path clip-path=\"url(#clip620)\" d=\"M130.922 300.065 Q127.311 300.065 125.482 303.63 Q123.677 307.171 123.677 314.301 Q123.677 321.407 125.482 324.972 Q127.311 328.514 130.922 328.514 Q134.556 328.514 136.362 324.972 Q138.191 321.407 138.191 314.301 Q138.191 307.171 136.362 303.63 Q134.556 300.065 130.922 300.065 M130.922 296.361 Q136.732 296.361 139.788 300.968 Q142.867 305.551 142.867 314.301 Q142.867 323.028 139.788 327.634 Q136.732 332.217 130.922 332.217 Q125.112 332.217 122.033 327.634 Q118.978 323.028 118.978 314.301 Q118.978 305.551 122.033 300.968 Q125.112 296.361 130.922 296.361 Z\" fill=\"#000000\" fill-rule=\"nonzero\" fill-opacity=\"1\" /><path clip-path=\"url(#clip620)\" d=\"M92.566 76.1778 L100.205 76.1778 L100.205 49.8122 L91.8947 51.4788 L91.8947 47.2196 L100.159 45.553 L104.834 45.553 L104.834 76.1778 L112.473 76.1778 L112.473 80.113 L92.566 80.113 L92.566 76.1778 Z\" fill=\"#000000\" fill-rule=\"nonzero\" fill-opacity=\"1\" /><path clip-path=\"url(#clip620)\" d=\"M121.964 45.553 L140.32 45.553 L140.32 49.4881 L126.246 49.4881 L126.246 57.9603 Q127.265 57.6131 128.283 57.451 Q129.302 57.2659 130.32 57.2659 Q136.107 57.2659 139.487 60.4371 Q142.867 63.6084 142.867 69.0251 Q142.867 74.6037 139.394 77.7056 Q135.922 80.7842 129.603 80.7842 Q127.427 80.7842 125.158 80.4139 Q122.913 80.0435 120.506 79.3028 L120.506 74.6037 Q122.589 75.738 124.811 76.2935 Q127.033 76.8491 129.51 76.8491 Q133.515 76.8491 135.853 74.7426 Q138.191 72.6361 138.191 69.0251 Q138.191 65.414 135.853 63.3075 Q133.515 61.201 129.51 61.201 Q127.635 61.201 125.76 61.6177 Q123.908 62.0343 121.964 62.914 L121.964 45.553 Z\" fill=\"#000000\" fill-rule=\"nonzero\" fill-opacity=\"1\" /><polyline clip-path=\"url(#clip622)\" style=\"stroke:#009af9; stroke-linecap:round; stroke-linejoin:round; stroke-width:4; stroke-opacity:1; fill:none\" points=\"240.392,87.9763 253.744,96.8159 377.203,178.551 451.397,227.67 514.127,269.2 582.269,314.313 645.091,355.903 712.442,400.493 790.474,452.153 859.821,498.063 920.631,538.322 986.931,582.216 1053.62,626.37 1127.36,675.187 1197.52,721.636 1270.47,769.933 1331.88,810.588 1406.86,860.223 1475.54,905.692 1538.97,947.686 1603.22,990.225 1675.23,1037.9 1740.48,1081.1 1815.2,1130.56 1884.37,1176.36 1952.57,1221.51 2018.78,1265.35 2086.66,1310.28 2161.03,1359.52 2269.07,1431.04 2291.23,1445.72 \"/>\n",
       "<polyline clip-path=\"url(#clip622)\" style=\"stroke:#e26f46; stroke-linecap:round; stroke-linejoin:round; stroke-width:4; stroke-opacity:1; fill:none\" points=\"240.392,1262.17 253.744,1256.96 377.203,1208.83 451.397,1179.91 514.127,1155.45 582.269,1128.88 645.091,1104.39 712.442,1078.13 790.474,1047.71 859.821,1020.67 920.631,996.966 986.931,971.117 1053.62,945.116 1127.36,916.367 1197.52,889.014 1270.47,860.573 1331.88,836.632 1406.86,807.402 1475.54,780.626 1538.97,755.896 1603.22,730.845 1675.23,702.771 1740.48,677.33 1815.2,648.203 1884.37,621.234 1952.57,594.645 2018.78,568.83 2086.66,542.366 2161.03,513.372 2269.07,471.253 2291.23,462.612 \"/>\n",
       "<path clip-path=\"url(#clip620)\" d=\"M2010.47 250.738 L2280.29 250.738 L2280.29 95.2176 L2010.47 95.2176  Z\" fill=\"#ffffff\" fill-rule=\"evenodd\" fill-opacity=\"1\"/>\n",
       "<polyline clip-path=\"url(#clip620)\" style=\"stroke:#000000; stroke-linecap:round; stroke-linejoin:round; stroke-width:4; stroke-opacity:1; fill:none\" points=\"2010.47,250.738 2280.29,250.738 2280.29,95.2176 2010.47,95.2176 2010.47,250.738 \"/>\n",
       "<polyline clip-path=\"url(#clip620)\" style=\"stroke:#009af9; stroke-linecap:round; stroke-linejoin:round; stroke-width:4; stroke-opacity:1; fill:none\" points=\"2034.63,147.058 2179.55,147.058 \"/>\n",
       "<path clip-path=\"url(#clip620)\" d=\"M2217.55 166.745 Q2215.75 171.375 2214.03 172.787 Q2212.32 174.199 2209.45 174.199 L2206.05 174.199 L2206.05 170.634 L2208.55 170.634 Q2210.31 170.634 2211.28 169.8 Q2212.25 168.967 2213.43 165.865 L2214.19 163.921 L2203.71 138.412 L2208.22 138.412 L2216.32 158.689 L2224.43 138.412 L2228.94 138.412 L2217.55 166.745 Z\" fill=\"#000000\" fill-rule=\"nonzero\" fill-opacity=\"1\" /><path clip-path=\"url(#clip620)\" d=\"M2236.23 160.402 L2243.87 160.402 L2243.87 134.037 L2235.56 135.703 L2235.56 131.444 L2243.82 129.778 L2248.5 129.778 L2248.5 160.402 L2256.14 160.402 L2256.14 164.338 L2236.23 164.338 L2236.23 160.402 Z\" fill=\"#000000\" fill-rule=\"nonzero\" fill-opacity=\"1\" /><polyline clip-path=\"url(#clip620)\" style=\"stroke:#e26f46; stroke-linecap:round; stroke-linejoin:round; stroke-width:4; stroke-opacity:1; fill:none\" points=\"2034.63,198.898 2179.55,198.898 \"/>\n",
       "<path clip-path=\"url(#clip620)\" d=\"M2217.55 218.585 Q2215.75 223.215 2214.03 224.627 Q2212.32 226.039 2209.45 226.039 L2206.05 226.039 L2206.05 222.474 L2208.55 222.474 Q2210.31 222.474 2211.28 221.64 Q2212.25 220.807 2213.43 217.705 L2214.19 215.761 L2203.71 190.252 L2208.22 190.252 L2216.32 210.529 L2224.43 190.252 L2228.94 190.252 L2217.55 218.585 Z\" fill=\"#000000\" fill-rule=\"nonzero\" fill-opacity=\"1\" /><path clip-path=\"url(#clip620)\" d=\"M2239.45 212.242 L2255.77 212.242 L2255.77 216.178 L2233.82 216.178 L2233.82 212.242 Q2236.49 209.488 2241.07 204.858 Q2245.68 200.205 2246.86 198.863 Q2249.1 196.34 2249.98 194.604 Q2250.88 192.844 2250.88 191.155 Q2250.88 188.4 2248.94 186.664 Q2247.02 184.928 2243.92 184.928 Q2241.72 184.928 2239.26 185.692 Q2236.83 186.455 2234.06 188.006 L2234.06 183.284 Q2236.88 182.15 2239.33 181.571 Q2241.79 180.993 2243.82 180.993 Q2249.19 180.993 2252.39 183.678 Q2255.58 186.363 2255.58 190.854 Q2255.58 192.983 2254.77 194.905 Q2253.99 196.803 2251.88 199.395 Q2251.3 200.067 2248.2 203.284 Q2245.1 206.479 2239.45 212.242 Z\" fill=\"#000000\" fill-rule=\"nonzero\" fill-opacity=\"1\" /></svg>\n"
      ],
      "text/html": [
       "<?xml version=\"1.0\" encoding=\"utf-8\"?>\n",
       "<svg xmlns=\"http://www.w3.org/2000/svg\" xmlns:xlink=\"http://www.w3.org/1999/xlink\" width=\"600\" height=\"400\" viewBox=\"0 0 2400 1600\">\n",
       "<defs>\n",
       "  <clipPath id=\"clip670\">\n",
       "    <rect x=\"0\" y=\"0\" width=\"2400\" height=\"1600\"/>\n",
       "  </clipPath>\n",
       "</defs>\n",
       "<path clip-path=\"url(#clip670)\" d=\"M0 1600 L2400 1600 L2400 0 L0 0  Z\" fill=\"#ffffff\" fill-rule=\"evenodd\" fill-opacity=\"1\"/>\n",
       "<defs>\n",
       "  <clipPath id=\"clip671\">\n",
       "    <rect x=\"480\" y=\"0\" width=\"1681\" height=\"1600\"/>\n",
       "  </clipPath>\n",
       "</defs>\n",
       "<path clip-path=\"url(#clip670)\" d=\"M178.867 1486.45 L2352.76 1486.45 L2352.76 47.2441 L178.867 47.2441  Z\" fill=\"#ffffff\" fill-rule=\"evenodd\" fill-opacity=\"1\"/>\n",
       "<defs>\n",
       "  <clipPath id=\"clip672\">\n",
       "    <rect x=\"178\" y=\"47\" width=\"2175\" height=\"1440\"/>\n",
       "  </clipPath>\n",
       "</defs>\n",
       "<polyline clip-path=\"url(#clip672)\" style=\"stroke:#000000; stroke-linecap:round; stroke-linejoin:round; stroke-width:2; stroke-opacity:0.1; fill:none\" points=\"445.476,1486.45 445.476,47.2441 \"/>\n",
       "<polyline clip-path=\"url(#clip672)\" style=\"stroke:#000000; stroke-linecap:round; stroke-linejoin:round; stroke-width:2; stroke-opacity:0.1; fill:none\" points=\"855.643,1486.45 855.643,47.2441 \"/>\n",
       "<polyline clip-path=\"url(#clip672)\" style=\"stroke:#000000; stroke-linecap:round; stroke-linejoin:round; stroke-width:2; stroke-opacity:0.1; fill:none\" points=\"1265.81,1486.45 1265.81,47.2441 \"/>\n",
       "<polyline clip-path=\"url(#clip672)\" style=\"stroke:#000000; stroke-linecap:round; stroke-linejoin:round; stroke-width:2; stroke-opacity:0.1; fill:none\" points=\"1675.98,1486.45 1675.98,47.2441 \"/>\n",
       "<polyline clip-path=\"url(#clip672)\" style=\"stroke:#000000; stroke-linecap:round; stroke-linejoin:round; stroke-width:2; stroke-opacity:0.1; fill:none\" points=\"2086.15,1486.45 2086.15,47.2441 \"/>\n",
       "<polyline clip-path=\"url(#clip670)\" style=\"stroke:#000000; stroke-linecap:round; stroke-linejoin:round; stroke-width:4; stroke-opacity:1; fill:none\" points=\"178.867,1486.45 2352.76,1486.45 \"/>\n",
       "<polyline clip-path=\"url(#clip670)\" style=\"stroke:#000000; stroke-linecap:round; stroke-linejoin:round; stroke-width:4; stroke-opacity:1; fill:none\" points=\"445.476,1486.45 445.476,1467.55 \"/>\n",
       "<polyline clip-path=\"url(#clip670)\" style=\"stroke:#000000; stroke-linecap:round; stroke-linejoin:round; stroke-width:4; stroke-opacity:1; fill:none\" points=\"855.643,1486.45 855.643,1467.55 \"/>\n",
       "<polyline clip-path=\"url(#clip670)\" style=\"stroke:#000000; stroke-linecap:round; stroke-linejoin:round; stroke-width:4; stroke-opacity:1; fill:none\" points=\"1265.81,1486.45 1265.81,1467.55 \"/>\n",
       "<polyline clip-path=\"url(#clip670)\" style=\"stroke:#000000; stroke-linecap:round; stroke-linejoin:round; stroke-width:4; stroke-opacity:1; fill:none\" points=\"1675.98,1486.45 1675.98,1467.55 \"/>\n",
       "<polyline clip-path=\"url(#clip670)\" style=\"stroke:#000000; stroke-linecap:round; stroke-linejoin:round; stroke-width:4; stroke-opacity:1; fill:none\" points=\"2086.15,1486.45 2086.15,1467.55 \"/>\n",
       "<path clip-path=\"url(#clip670)\" d=\"M414.376 1532.02 L444.052 1532.02 L444.052 1535.95 L414.376 1535.95 L414.376 1532.02 Z\" fill=\"#000000\" fill-rule=\"nonzero\" fill-opacity=\"1\" /><path clip-path=\"url(#clip670)\" d=\"M466.992 1518.36 L455.186 1536.81 L466.992 1536.81 L466.992 1518.36 M465.765 1514.29 L471.645 1514.29 L471.645 1536.81 L476.575 1536.81 L476.575 1540.7 L471.645 1540.7 L471.645 1548.85 L466.992 1548.85 L466.992 1540.7 L451.39 1540.7 L451.39 1536.19 L465.765 1514.29 Z\" fill=\"#000000\" fill-rule=\"nonzero\" fill-opacity=\"1\" /><path clip-path=\"url(#clip670)\" d=\"M825.586 1532.02 L855.262 1532.02 L855.262 1535.95 L825.586 1535.95 L825.586 1532.02 Z\" fill=\"#000000\" fill-rule=\"nonzero\" fill-opacity=\"1\" /><path clip-path=\"url(#clip670)\" d=\"M869.382 1544.91 L885.701 1544.91 L885.701 1548.85 L863.757 1548.85 L863.757 1544.91 Q866.419 1542.16 871.002 1537.53 Q875.609 1532.88 876.789 1531.53 Q879.035 1529.01 879.914 1527.27 Q880.817 1525.51 880.817 1523.82 Q880.817 1521.07 878.873 1519.33 Q876.951 1517.6 873.849 1517.6 Q871.65 1517.6 869.197 1518.36 Q866.766 1519.13 863.988 1520.68 L863.988 1515.95 Q866.812 1514.82 869.266 1514.24 Q871.72 1513.66 873.757 1513.66 Q879.127 1513.66 882.322 1516.35 Q885.516 1519.03 885.516 1523.52 Q885.516 1525.65 884.706 1527.57 Q883.919 1529.47 881.812 1532.07 Q881.234 1532.74 878.132 1535.95 Q875.03 1539.15 869.382 1544.91 Z\" fill=\"#000000\" fill-rule=\"nonzero\" fill-opacity=\"1\" /><path clip-path=\"url(#clip670)\" d=\"M1265.81 1517.37 Q1262.2 1517.37 1260.37 1520.93 Q1258.57 1524.47 1258.57 1531.6 Q1258.57 1538.71 1260.37 1542.27 Q1262.2 1545.82 1265.81 1545.82 Q1269.45 1545.82 1271.25 1542.27 Q1273.08 1538.71 1273.08 1531.6 Q1273.08 1524.47 1271.25 1520.93 Q1269.45 1517.37 1265.81 1517.37 M1265.81 1513.66 Q1271.62 1513.66 1274.68 1518.27 Q1277.76 1522.85 1277.76 1531.6 Q1277.76 1540.33 1274.68 1544.94 Q1271.62 1549.52 1265.81 1549.52 Q1260 1549.52 1256.92 1544.94 Q1253.87 1540.33 1253.87 1531.6 Q1253.87 1522.85 1256.92 1518.27 Q1260 1513.66 1265.81 1513.66 Z\" fill=\"#000000\" fill-rule=\"nonzero\" fill-opacity=\"1\" /><path clip-path=\"url(#clip670)\" d=\"M1670.63 1544.91 L1686.95 1544.91 L1686.95 1548.85 L1665.01 1548.85 L1665.01 1544.91 Q1667.67 1542.16 1672.25 1537.53 Q1676.86 1532.88 1678.04 1531.53 Q1680.28 1529.01 1681.16 1527.27 Q1682.07 1525.51 1682.07 1523.82 Q1682.07 1521.07 1680.12 1519.33 Q1678.2 1517.6 1675.1 1517.6 Q1672.9 1517.6 1670.45 1518.36 Q1668.02 1519.13 1665.24 1520.68 L1665.24 1515.95 Q1668.06 1514.82 1670.52 1514.24 Q1672.97 1513.66 1675.01 1513.66 Q1680.38 1513.66 1683.57 1516.35 Q1686.77 1519.03 1686.77 1523.52 Q1686.77 1525.65 1685.96 1527.57 Q1685.17 1529.47 1683.06 1532.07 Q1682.48 1532.74 1679.38 1535.95 Q1676.28 1539.15 1670.63 1544.91 Z\" fill=\"#000000\" fill-rule=\"nonzero\" fill-opacity=\"1\" /><path clip-path=\"url(#clip670)\" d=\"M2089.16 1518.36 L2077.35 1536.81 L2089.16 1536.81 L2089.16 1518.36 M2087.93 1514.29 L2093.81 1514.29 L2093.81 1536.81 L2098.74 1536.81 L2098.74 1540.7 L2093.81 1540.7 L2093.81 1548.85 L2089.16 1548.85 L2089.16 1540.7 L2073.55 1540.7 L2073.55 1536.19 L2087.93 1514.29 Z\" fill=\"#000000\" fill-rule=\"nonzero\" fill-opacity=\"1\" /><polyline clip-path=\"url(#clip672)\" style=\"stroke:#000000; stroke-linecap:round; stroke-linejoin:round; stroke-width:2; stroke-opacity:0.1; fill:none\" points=\"178.867,1320 2352.76,1320 \"/>\n",
       "<polyline clip-path=\"url(#clip672)\" style=\"stroke:#000000; stroke-linecap:round; stroke-linejoin:round; stroke-width:2; stroke-opacity:0.1; fill:none\" points=\"178.867,1068.57 2352.76,1068.57 \"/>\n",
       "<polyline clip-path=\"url(#clip672)\" style=\"stroke:#000000; stroke-linecap:round; stroke-linejoin:round; stroke-width:2; stroke-opacity:0.1; fill:none\" points=\"178.867,817.133 2352.76,817.133 \"/>\n",
       "<polyline clip-path=\"url(#clip672)\" style=\"stroke:#000000; stroke-linecap:round; stroke-linejoin:round; stroke-width:2; stroke-opacity:0.1; fill:none\" points=\"178.867,565.699 2352.76,565.699 \"/>\n",
       "<polyline clip-path=\"url(#clip672)\" style=\"stroke:#000000; stroke-linecap:round; stroke-linejoin:round; stroke-width:2; stroke-opacity:0.1; fill:none\" points=\"178.867,314.266 2352.76,314.266 \"/>\n",
       "<polyline clip-path=\"url(#clip672)\" style=\"stroke:#000000; stroke-linecap:round; stroke-linejoin:round; stroke-width:2; stroke-opacity:0.1; fill:none\" points=\"178.867,62.833 2352.76,62.833 \"/>\n",
       "<polyline clip-path=\"url(#clip670)\" style=\"stroke:#000000; stroke-linecap:round; stroke-linejoin:round; stroke-width:4; stroke-opacity:1; fill:none\" points=\"178.867,1486.45 178.867,47.2441 \"/>\n",
       "<polyline clip-path=\"url(#clip670)\" style=\"stroke:#000000; stroke-linecap:round; stroke-linejoin:round; stroke-width:4; stroke-opacity:1; fill:none\" points=\"178.867,1320 197.764,1320 \"/>\n",
       "<polyline clip-path=\"url(#clip670)\" style=\"stroke:#000000; stroke-linecap:round; stroke-linejoin:round; stroke-width:4; stroke-opacity:1; fill:none\" points=\"178.867,1068.57 197.764,1068.57 \"/>\n",
       "<polyline clip-path=\"url(#clip670)\" style=\"stroke:#000000; stroke-linecap:round; stroke-linejoin:round; stroke-width:4; stroke-opacity:1; fill:none\" points=\"178.867,817.133 197.764,817.133 \"/>\n",
       "<polyline clip-path=\"url(#clip670)\" style=\"stroke:#000000; stroke-linecap:round; stroke-linejoin:round; stroke-width:4; stroke-opacity:1; fill:none\" points=\"178.867,565.699 197.764,565.699 \"/>\n",
       "<polyline clip-path=\"url(#clip670)\" style=\"stroke:#000000; stroke-linecap:round; stroke-linejoin:round; stroke-width:4; stroke-opacity:1; fill:none\" points=\"178.867,314.266 197.764,314.266 \"/>\n",
       "<polyline clip-path=\"url(#clip670)\" style=\"stroke:#000000; stroke-linecap:round; stroke-linejoin:round; stroke-width:4; stroke-opacity:1; fill:none\" points=\"178.867,62.833 197.764,62.833 \"/>\n",
       "<path clip-path=\"url(#clip670)\" d=\"M50.9921 1320.45 L80.6679 1320.45 L80.6679 1324.39 L50.9921 1324.39 L50.9921 1320.45 Z\" fill=\"#000000\" fill-rule=\"nonzero\" fill-opacity=\"1\" /><path clip-path=\"url(#clip670)\" d=\"M91.5706 1333.34 L99.2095 1333.34 L99.2095 1306.98 L90.8993 1308.64 L90.8993 1304.39 L99.1632 1302.72 L103.839 1302.72 L103.839 1333.34 L111.478 1333.34 L111.478 1337.28 L91.5706 1337.28 L91.5706 1333.34 Z\" fill=\"#000000\" fill-rule=\"nonzero\" fill-opacity=\"1\" /><path clip-path=\"url(#clip670)\" d=\"M130.922 1305.8 Q127.311 1305.8 125.482 1309.36 Q123.677 1312.9 123.677 1320.03 Q123.677 1327.14 125.482 1330.71 Q127.311 1334.25 130.922 1334.25 Q134.556 1334.25 136.362 1330.71 Q138.191 1327.14 138.191 1320.03 Q138.191 1312.9 136.362 1309.36 Q134.556 1305.8 130.922 1305.8 M130.922 1302.09 Q136.732 1302.09 139.788 1306.7 Q142.867 1311.28 142.867 1320.03 Q142.867 1328.76 139.788 1333.37 Q136.732 1337.95 130.922 1337.95 Q125.112 1337.95 122.033 1333.37 Q118.978 1328.76 118.978 1320.03 Q118.978 1311.28 122.033 1306.7 Q125.112 1302.09 130.922 1302.09 Z\" fill=\"#000000\" fill-rule=\"nonzero\" fill-opacity=\"1\" /><path clip-path=\"url(#clip670)\" d=\"M82.1494 1069.02 L111.825 1069.02 L111.825 1072.95 L82.1494 1072.95 L82.1494 1069.02 Z\" fill=\"#000000\" fill-rule=\"nonzero\" fill-opacity=\"1\" /><path clip-path=\"url(#clip670)\" d=\"M121.964 1051.29 L140.32 1051.29 L140.32 1055.22 L126.246 1055.22 L126.246 1063.69 Q127.265 1063.35 128.283 1063.18 Q129.302 1063 130.32 1063 Q136.107 1063 139.487 1066.17 Q142.867 1069.34 142.867 1074.76 Q142.867 1080.34 139.394 1083.44 Q135.922 1086.52 129.603 1086.52 Q127.427 1086.52 125.158 1086.15 Q122.913 1085.78 120.506 1085.04 L120.506 1080.34 Q122.589 1081.47 124.811 1082.03 Q127.033 1082.58 129.51 1082.58 Q133.515 1082.58 135.853 1080.48 Q138.191 1078.37 138.191 1074.76 Q138.191 1071.15 135.853 1069.04 Q133.515 1066.93 129.51 1066.93 Q127.635 1066.93 125.76 1067.35 Q123.908 1067.77 121.964 1068.65 L121.964 1051.29 Z\" fill=\"#000000\" fill-rule=\"nonzero\" fill-opacity=\"1\" /><path clip-path=\"url(#clip670)\" d=\"M130.922 802.931 Q127.311 802.931 125.482 806.496 Q123.677 810.038 123.677 817.167 Q123.677 824.274 125.482 827.839 Q127.311 831.38 130.922 831.38 Q134.556 831.38 136.362 827.839 Q138.191 824.274 138.191 817.167 Q138.191 810.038 136.362 806.496 Q134.556 802.931 130.922 802.931 M130.922 799.228 Q136.732 799.228 139.788 803.834 Q142.867 808.417 142.867 817.167 Q142.867 825.894 139.788 830.501 Q136.732 835.084 130.922 835.084 Q125.112 835.084 122.033 830.501 Q118.978 825.894 118.978 817.167 Q118.978 808.417 122.033 803.834 Q125.112 799.228 130.922 799.228 Z\" fill=\"#000000\" fill-rule=\"nonzero\" fill-opacity=\"1\" /><path clip-path=\"url(#clip670)\" d=\"M121.964 548.419 L140.32 548.419 L140.32 552.355 L126.246 552.355 L126.246 560.827 Q127.265 560.48 128.283 560.317 Q129.302 560.132 130.32 560.132 Q136.107 560.132 139.487 563.304 Q142.867 566.475 142.867 571.892 Q142.867 577.47 139.394 580.572 Q135.922 583.651 129.603 583.651 Q127.427 583.651 125.158 583.28 Q122.913 582.91 120.506 582.169 L120.506 577.47 Q122.589 578.604 124.811 579.16 Q127.033 579.716 129.51 579.716 Q133.515 579.716 135.853 577.609 Q138.191 575.503 138.191 571.892 Q138.191 568.28 135.853 566.174 Q133.515 564.067 129.51 564.067 Q127.635 564.067 125.76 564.484 Q123.908 564.901 121.964 565.78 L121.964 548.419 Z\" fill=\"#000000\" fill-rule=\"nonzero\" fill-opacity=\"1\" /><path clip-path=\"url(#clip670)\" d=\"M91.5706 327.611 L99.2095 327.611 L99.2095 301.245 L90.8993 302.912 L90.8993 298.653 L99.1632 296.986 L103.839 296.986 L103.839 327.611 L111.478 327.611 L111.478 331.546 L91.5706 331.546 L91.5706 327.611 Z\" fill=\"#000000\" fill-rule=\"nonzero\" fill-opacity=\"1\" /><path clip-path=\"url(#clip670)\" d=\"M130.922 300.065 Q127.311 300.065 125.482 303.63 Q123.677 307.171 123.677 314.301 Q123.677 321.407 125.482 324.972 Q127.311 328.514 130.922 328.514 Q134.556 328.514 136.362 324.972 Q138.191 321.407 138.191 314.301 Q138.191 307.171 136.362 303.63 Q134.556 300.065 130.922 300.065 M130.922 296.361 Q136.732 296.361 139.788 300.968 Q142.867 305.551 142.867 314.301 Q142.867 323.028 139.788 327.634 Q136.732 332.217 130.922 332.217 Q125.112 332.217 122.033 327.634 Q118.978 323.028 118.978 314.301 Q118.978 305.551 122.033 300.968 Q125.112 296.361 130.922 296.361 Z\" fill=\"#000000\" fill-rule=\"nonzero\" fill-opacity=\"1\" /><path clip-path=\"url(#clip670)\" d=\"M92.566 76.1778 L100.205 76.1778 L100.205 49.8122 L91.8947 51.4788 L91.8947 47.2196 L100.159 45.553 L104.834 45.553 L104.834 76.1778 L112.473 76.1778 L112.473 80.113 L92.566 80.113 L92.566 76.1778 Z\" fill=\"#000000\" fill-rule=\"nonzero\" fill-opacity=\"1\" /><path clip-path=\"url(#clip670)\" d=\"M121.964 45.553 L140.32 45.553 L140.32 49.4881 L126.246 49.4881 L126.246 57.9603 Q127.265 57.6131 128.283 57.451 Q129.302 57.2659 130.32 57.2659 Q136.107 57.2659 139.487 60.4371 Q142.867 63.6084 142.867 69.0251 Q142.867 74.6037 139.394 77.7056 Q135.922 80.7842 129.603 80.7842 Q127.427 80.7842 125.158 80.4139 Q122.913 80.0435 120.506 79.3028 L120.506 74.6037 Q122.589 75.738 124.811 76.2935 Q127.033 76.8491 129.51 76.8491 Q133.515 76.8491 135.853 74.7426 Q138.191 72.6361 138.191 69.0251 Q138.191 65.414 135.853 63.3075 Q133.515 61.201 129.51 61.201 Q127.635 61.201 125.76 61.6177 Q123.908 62.0343 121.964 62.914 L121.964 45.553 Z\" fill=\"#000000\" fill-rule=\"nonzero\" fill-opacity=\"1\" /><polyline clip-path=\"url(#clip672)\" style=\"stroke:#009af9; stroke-linecap:round; stroke-linejoin:round; stroke-width:4; stroke-opacity:1; fill:none\" points=\"240.392,87.9763 253.744,96.8159 377.203,178.551 451.397,227.67 514.127,269.2 582.269,314.313 645.091,355.903 712.442,400.493 790.474,452.153 859.821,498.063 920.631,538.322 986.931,582.216 1053.62,626.37 1127.36,675.187 1197.52,721.636 1270.47,769.933 1331.88,810.588 1406.86,860.223 1475.54,905.692 1538.97,947.686 1603.22,990.225 1675.23,1037.9 1740.48,1081.1 1815.2,1130.56 1884.37,1176.36 1952.57,1221.51 2018.78,1265.35 2086.66,1310.28 2161.03,1359.52 2269.07,1431.04 2291.23,1445.72 \"/>\n",
       "<polyline clip-path=\"url(#clip672)\" style=\"stroke:#e26f46; stroke-linecap:round; stroke-linejoin:round; stroke-width:4; stroke-opacity:1; fill:none\" points=\"240.392,1262.17 253.744,1256.96 377.203,1208.83 451.397,1179.91 514.127,1155.45 582.269,1128.88 645.091,1104.39 712.442,1078.13 790.474,1047.71 859.821,1020.67 920.631,996.966 986.931,971.117 1053.62,945.116 1127.36,916.367 1197.52,889.014 1270.47,860.573 1331.88,836.632 1406.86,807.402 1475.54,780.626 1538.97,755.896 1603.22,730.845 1675.23,702.771 1740.48,677.33 1815.2,648.203 1884.37,621.234 1952.57,594.645 2018.78,568.83 2086.66,542.366 2161.03,513.372 2269.07,471.253 2291.23,462.612 \"/>\n",
       "<path clip-path=\"url(#clip670)\" d=\"M2010.47 250.738 L2280.29 250.738 L2280.29 95.2176 L2010.47 95.2176  Z\" fill=\"#ffffff\" fill-rule=\"evenodd\" fill-opacity=\"1\"/>\n",
       "<polyline clip-path=\"url(#clip670)\" style=\"stroke:#000000; stroke-linecap:round; stroke-linejoin:round; stroke-width:4; stroke-opacity:1; fill:none\" points=\"2010.47,250.738 2280.29,250.738 2280.29,95.2176 2010.47,95.2176 2010.47,250.738 \"/>\n",
       "<polyline clip-path=\"url(#clip670)\" style=\"stroke:#009af9; stroke-linecap:round; stroke-linejoin:round; stroke-width:4; stroke-opacity:1; fill:none\" points=\"2034.63,147.058 2179.55,147.058 \"/>\n",
       "<path clip-path=\"url(#clip670)\" d=\"M2217.55 166.745 Q2215.75 171.375 2214.03 172.787 Q2212.32 174.199 2209.45 174.199 L2206.05 174.199 L2206.05 170.634 L2208.55 170.634 Q2210.31 170.634 2211.28 169.8 Q2212.25 168.967 2213.43 165.865 L2214.19 163.921 L2203.71 138.412 L2208.22 138.412 L2216.32 158.689 L2224.43 138.412 L2228.94 138.412 L2217.55 166.745 Z\" fill=\"#000000\" fill-rule=\"nonzero\" fill-opacity=\"1\" /><path clip-path=\"url(#clip670)\" d=\"M2236.23 160.402 L2243.87 160.402 L2243.87 134.037 L2235.56 135.703 L2235.56 131.444 L2243.82 129.778 L2248.5 129.778 L2248.5 160.402 L2256.14 160.402 L2256.14 164.338 L2236.23 164.338 L2236.23 160.402 Z\" fill=\"#000000\" fill-rule=\"nonzero\" fill-opacity=\"1\" /><polyline clip-path=\"url(#clip670)\" style=\"stroke:#e26f46; stroke-linecap:round; stroke-linejoin:round; stroke-width:4; stroke-opacity:1; fill:none\" points=\"2034.63,198.898 2179.55,198.898 \"/>\n",
       "<path clip-path=\"url(#clip670)\" d=\"M2217.55 218.585 Q2215.75 223.215 2214.03 224.627 Q2212.32 226.039 2209.45 226.039 L2206.05 226.039 L2206.05 222.474 L2208.55 222.474 Q2210.31 222.474 2211.28 221.64 Q2212.25 220.807 2213.43 217.705 L2214.19 215.761 L2203.71 190.252 L2208.22 190.252 L2216.32 210.529 L2224.43 190.252 L2228.94 190.252 L2217.55 218.585 Z\" fill=\"#000000\" fill-rule=\"nonzero\" fill-opacity=\"1\" /><path clip-path=\"url(#clip670)\" d=\"M2239.45 212.242 L2255.77 212.242 L2255.77 216.178 L2233.82 216.178 L2233.82 212.242 Q2236.49 209.488 2241.07 204.858 Q2245.68 200.205 2246.86 198.863 Q2249.1 196.34 2249.98 194.604 Q2250.88 192.844 2250.88 191.155 Q2250.88 188.4 2248.94 186.664 Q2247.02 184.928 2243.92 184.928 Q2241.72 184.928 2239.26 185.692 Q2236.83 186.455 2234.06 188.006 L2234.06 183.284 Q2236.88 182.15 2239.33 181.571 Q2241.79 180.993 2243.82 180.993 Q2249.19 180.993 2252.39 183.678 Q2255.58 186.363 2255.58 190.854 Q2255.58 192.983 2254.77 194.905 Q2253.99 196.803 2251.88 199.395 Q2251.3 200.067 2248.2 203.284 Q2245.1 206.479 2239.45 212.242 Z\" fill=\"#000000\" fill-rule=\"nonzero\" fill-opacity=\"1\" /></svg>\n"
      ]
     },
     "metadata": {},
     "output_type": "display_data"
    }
   ],
   "source": [
    "plot(f)\n",
    "plot!(g)"
   ]
  },
  {
   "cell_type": "code",
   "execution_count": 43,
   "metadata": {},
   "outputs": [
    {
     "data": {
      "text/plain": [
       "[0.37037, 0.370371]"
      ]
     },
     "metadata": {},
     "output_type": "display_data"
    }
   ],
   "source": [
    "I = interval(0,1)\n",
    "xk = interval(0,1)\n",
    "TesteOPN(f,I,tol = 2^-10)"
   ]
  },
  {
   "cell_type": "code",
   "execution_count": 44,
   "metadata": {},
   "outputs": [
    {
     "data": {
      "text/plain": [
       "[0.566037, 0.566038]"
      ]
     },
     "metadata": {},
     "output_type": "display_data"
    }
   ],
   "source": [
    "I = interval(0,1)\n",
    "xk = interval(0,1)\n",
    "TesteOPN(g,I,tol = 2^-10)"
   ]
  },
  {
   "cell_type": "code",
   "execution_count": 45,
   "metadata": {},
   "outputs": [
    {
     "data": {
      "text/plain": [
       "10-element Vector{Interval{Float64}}:\n",
       " [0, 0.100001]\n",
       "    [0.0999999, 0.200001]\n",
       "    [0.199999, 0.300001]\n",
       "    [0.299999, 0.400001]\n",
       "    [0.399999, 0.5]\n",
       "    [0.5, 0.600001]\n",
       "    [0.599999, 0.700001]\n",
       "    [0.699999, 0.800001]\n",
       "    [0.799999, 0.900001]\n",
       "    [0.899999, 1]"
      ]
     },
     "metadata": {},
     "output_type": "display_data"
    }
   ],
   "source": [
    "I10 = [I.lo + ((interval(i, i+1))/10)*(I.hi-I.lo) for i in 0:9]\n"
   ]
  },
  {
   "cell_type": "code",
   "execution_count": 46,
   "metadata": {},
   "outputs": [
    {
     "data": {
      "text/plain": [
       "[0, 0.100001]"
      ]
     },
     "metadata": {},
     "output_type": "display_data"
    }
   ],
   "source": [
    "I10[1]"
   ]
  },
  {
   "cell_type": "code",
   "execution_count": 57,
   "metadata": {},
   "outputs": [
    {
     "data": {
      "text/plain": [
       "0.1"
      ]
     },
     "metadata": {},
     "output_type": "display_data"
    }
   ],
   "source": [
    "I10[1].hi"
   ]
  },
  {
   "cell_type": "code",
   "execution_count": 52,
   "metadata": {},
   "outputs": [
    {
     "data": {
      "text/plain": [
       "h (generic function with 1 method)"
      ]
     },
     "metadata": {},
     "output_type": "display_data"
    }
   ],
   "source": [
    "h(x) = f(x) - I10[1].hi"
   ]
  },
  {
   "cell_type": "code",
   "execution_count": 53,
   "metadata": {},
   "outputs": [
    {
     "data": {
      "image/png": "[encoded data removed]",
      "image/svg+xml": [
       "<?xml version=\"1.0\" encoding=\"utf-8\"?>\n",
       "<svg xmlns=\"http://www.w3.org/2000/svg\" xmlns:xlink=\"http://www.w3.org/1999/xlink\" width=\"600\" height=\"400\" viewBox=\"0 0 2400 1600\">\n",
       "<defs>\n",
       "  <clipPath id=\"clip710\">\n",
       "    <rect x=\"0\" y=\"0\" width=\"2400\" height=\"1600\"/>\n",
       "  </clipPath>\n",
       "</defs>\n",
       "<path clip-path=\"url(#clip710)\" d=\"M0 1600 L2400 1600 L2400 0 L0 0  Z\" fill=\"#ffffff\" fill-rule=\"evenodd\" fill-opacity=\"1\"/>\n",
       "<defs>\n",
       "  <clipPath id=\"clip711\">\n",
       "    <rect x=\"480\" y=\"0\" width=\"1681\" height=\"1600\"/>\n",
       "  </clipPath>\n",
       "</defs>\n",
       "<path clip-path=\"url(#clip710)\" d=\"M178.867 1486.45 L2352.76 1486.45 L2352.76 47.2441 L178.867 47.2441  Z\" fill=\"#ffffff\" fill-rule=\"evenodd\" fill-opacity=\"1\"/>\n",
       "<defs>\n",
       "  <clipPath id=\"clip712\">\n",
       "    <rect x=\"178\" y=\"47\" width=\"2175\" height=\"1440\"/>\n",
       "  </clipPath>\n",
       "</defs>\n",
       "<polyline clip-path=\"url(#clip712)\" style=\"stroke:#000000; stroke-linecap:round; stroke-linejoin:round; stroke-width:2; stroke-opacity:0.1; fill:none\" points=\"445.476,1486.45 445.476,47.2441 \"/>\n",
       "<polyline clip-path=\"url(#clip712)\" style=\"stroke:#000000; stroke-linecap:round; stroke-linejoin:round; stroke-width:2; stroke-opacity:0.1; fill:none\" points=\"855.643,1486.45 855.643,47.2441 \"/>\n",
       "<polyline clip-path=\"url(#clip712)\" style=\"stroke:#000000; stroke-linecap:round; stroke-linejoin:round; stroke-width:2; stroke-opacity:0.1; fill:none\" points=\"1265.81,1486.45 1265.81,47.2441 \"/>\n",
       "<polyline clip-path=\"url(#clip712)\" style=\"stroke:#000000; stroke-linecap:round; stroke-linejoin:round; stroke-width:2; stroke-opacity:0.1; fill:none\" points=\"1675.98,1486.45 1675.98,47.2441 \"/>\n",
       "<polyline clip-path=\"url(#clip712)\" style=\"stroke:#000000; stroke-linecap:round; stroke-linejoin:round; stroke-width:2; stroke-opacity:0.1; fill:none\" points=\"2086.15,1486.45 2086.15,47.2441 \"/>\n",
       "<polyline clip-path=\"url(#clip710)\" style=\"stroke:#000000; stroke-linecap:round; stroke-linejoin:round; stroke-width:4; stroke-opacity:1; fill:none\" points=\"178.867,1486.45 2352.76,1486.45 \"/>\n",
       "<polyline clip-path=\"url(#clip710)\" style=\"stroke:#000000; stroke-linecap:round; stroke-linejoin:round; stroke-width:4; stroke-opacity:1; fill:none\" points=\"445.476,1486.45 445.476,1467.55 \"/>\n",
       "<polyline clip-path=\"url(#clip710)\" style=\"stroke:#000000; stroke-linecap:round; stroke-linejoin:round; stroke-width:4; stroke-opacity:1; fill:none\" points=\"855.643,1486.45 855.643,1467.55 \"/>\n",
       "<polyline clip-path=\"url(#clip710)\" style=\"stroke:#000000; stroke-linecap:round; stroke-linejoin:round; stroke-width:4; stroke-opacity:1; fill:none\" points=\"1265.81,1486.45 1265.81,1467.55 \"/>\n",
       "<polyline clip-path=\"url(#clip710)\" style=\"stroke:#000000; stroke-linecap:round; stroke-linejoin:round; stroke-width:4; stroke-opacity:1; fill:none\" points=\"1675.98,1486.45 1675.98,1467.55 \"/>\n",
       "<polyline clip-path=\"url(#clip710)\" style=\"stroke:#000000; stroke-linecap:round; stroke-linejoin:round; stroke-width:4; stroke-opacity:1; fill:none\" points=\"2086.15,1486.45 2086.15,1467.55 \"/>\n",
       "<path clip-path=\"url(#clip710)\" d=\"M414.376 1532.02 L444.052 1532.02 L444.052 1535.95 L414.376 1535.95 L414.376 1532.02 Z\" fill=\"#000000\" fill-rule=\"nonzero\" fill-opacity=\"1\" /><path clip-path=\"url(#clip710)\" d=\"M466.992 1518.36 L455.186 1536.81 L466.992 1536.81 L466.992 1518.36 M465.765 1514.29 L471.645 1514.29 L471.645 1536.81 L476.575 1536.81 L476.575 1540.7 L471.645 1540.7 L471.645 1548.85 L466.992 1548.85 L466.992 1540.7 L451.39 1540.7 L451.39 1536.19 L465.765 1514.29 Z\" fill=\"#000000\" fill-rule=\"nonzero\" fill-opacity=\"1\" /><path clip-path=\"url(#clip710)\" d=\"M825.586 1532.02 L855.262 1532.02 L855.262 1535.95 L825.586 1535.95 L825.586 1532.02 Z\" fill=\"#000000\" fill-rule=\"nonzero\" fill-opacity=\"1\" /><path clip-path=\"url(#clip710)\" d=\"M869.382 1544.91 L885.701 1544.91 L885.701 1548.85 L863.757 1548.85 L863.757 1544.91 Q866.419 1542.16 871.002 1537.53 Q875.609 1532.88 876.789 1531.53 Q879.035 1529.01 879.914 1527.27 Q880.817 1525.51 880.817 1523.82 Q880.817 1521.07 878.873 1519.33 Q876.951 1517.6 873.849 1517.6 Q871.65 1517.6 869.197 1518.36 Q866.766 1519.13 863.988 1520.68 L863.988 1515.95 Q866.812 1514.82 869.266 1514.24 Q871.72 1513.66 873.757 1513.66 Q879.127 1513.66 882.322 1516.35 Q885.516 1519.03 885.516 1523.52 Q885.516 1525.65 884.706 1527.57 Q883.919 1529.47 881.812 1532.07 Q881.234 1532.74 878.132 1535.95 Q875.03 1539.15 869.382 1544.91 Z\" fill=\"#000000\" fill-rule=\"nonzero\" fill-opacity=\"1\" /><path clip-path=\"url(#clip710)\" d=\"M1265.81 1517.37 Q1262.2 1517.37 1260.37 1520.93 Q1258.57 1524.47 1258.57 1531.6 Q1258.57 1538.71 1260.37 1542.27 Q1262.2 1545.82 1265.81 1545.82 Q1269.45 1545.82 1271.25 1542.27 Q1273.08 1538.71 1273.08 1531.6 Q1273.08 1524.47 1271.25 1520.93 Q1269.45 1517.37 1265.81 1517.37 M1265.81 1513.66 Q1271.62 1513.66 1274.68 1518.27 Q1277.76 1522.85 1277.76 1531.6 Q1277.76 1540.33 1274.68 1544.94 Q1271.62 1549.52 1265.81 1549.52 Q1260 1549.52 1256.92 1544.94 Q1253.87 1540.33 1253.87 1531.6 Q1253.87 1522.85 1256.92 1518.27 Q1260 1513.66 1265.81 1513.66 Z\" fill=\"#000000\" fill-rule=\"nonzero\" fill-opacity=\"1\" /><path clip-path=\"url(#clip710)\" d=\"M1670.63 1544.91 L1686.95 1544.91 L1686.95 1548.85 L1665.01 1548.85 L1665.01 1544.91 Q1667.67 1542.16 1672.25 1537.53 Q1676.86 1532.88 1678.04 1531.53 Q1680.28 1529.01 1681.16 1527.27 Q1682.07 1525.51 1682.07 1523.82 Q1682.07 1521.07 1680.12 1519.33 Q1678.2 1517.6 1675.1 1517.6 Q1672.9 1517.6 1670.45 1518.36 Q1668.02 1519.13 1665.24 1520.68 L1665.24 1515.95 Q1668.06 1514.82 1670.52 1514.24 Q1672.97 1513.66 1675.01 1513.66 Q1680.38 1513.66 1683.57 1516.35 Q1686.77 1519.03 1686.77 1523.52 Q1686.77 1525.65 1685.96 1527.57 Q1685.17 1529.47 1683.06 1532.07 Q1682.48 1532.74 1679.38 1535.95 Q1676.28 1539.15 1670.63 1544.91 Z\" fill=\"#000000\" fill-rule=\"nonzero\" fill-opacity=\"1\" /><path clip-path=\"url(#clip710)\" d=\"M2089.16 1518.36 L2077.35 1536.81 L2089.16 1536.81 L2089.16 1518.36 M2087.93 1514.29 L2093.81 1514.29 L2093.81 1536.81 L2098.74 1536.81 L2098.74 1540.7 L2093.81 1540.7 L2093.81 1548.85 L2089.16 1548.85 L2089.16 1540.7 L2073.55 1540.7 L2073.55 1536.19 L2087.93 1514.29 Z\" fill=\"#000000\" fill-rule=\"nonzero\" fill-opacity=\"1\" /><polyline clip-path=\"url(#clip712)\" style=\"stroke:#000000; stroke-linecap:round; stroke-linejoin:round; stroke-width:2; stroke-opacity:0.1; fill:none\" points=\"178.867,1314.97 2352.76,1314.97 \"/>\n",
       "<polyline clip-path=\"url(#clip712)\" style=\"stroke:#000000; stroke-linecap:round; stroke-linejoin:round; stroke-width:2; stroke-opacity:0.1; fill:none\" points=\"178.867,1063.54 2352.76,1063.54 \"/>\n",
       "<polyline clip-path=\"url(#clip712)\" style=\"stroke:#000000; stroke-linecap:round; stroke-linejoin:round; stroke-width:2; stroke-opacity:0.1; fill:none\" points=\"178.867,812.104 2352.76,812.104 \"/>\n",
       "<polyline clip-path=\"url(#clip712)\" style=\"stroke:#000000; stroke-linecap:round; stroke-linejoin:round; stroke-width:2; stroke-opacity:0.1; fill:none\" points=\"178.867,560.671 2352.76,560.671 \"/>\n",
       "<polyline clip-path=\"url(#clip712)\" style=\"stroke:#000000; stroke-linecap:round; stroke-linejoin:round; stroke-width:2; stroke-opacity:0.1; fill:none\" points=\"178.867,309.238 2352.76,309.238 \"/>\n",
       "<polyline clip-path=\"url(#clip712)\" style=\"stroke:#000000; stroke-linecap:round; stroke-linejoin:round; stroke-width:2; stroke-opacity:0.1; fill:none\" points=\"178.867,57.8043 2352.76,57.8043 \"/>\n",
       "<polyline clip-path=\"url(#clip710)\" style=\"stroke:#000000; stroke-linecap:round; stroke-linejoin:round; stroke-width:4; stroke-opacity:1; fill:none\" points=\"178.867,1486.45 178.867,47.2441 \"/>\n",
       "<polyline clip-path=\"url(#clip710)\" style=\"stroke:#000000; stroke-linecap:round; stroke-linejoin:round; stroke-width:4; stroke-opacity:1; fill:none\" points=\"178.867,1314.97 197.764,1314.97 \"/>\n",
       "<polyline clip-path=\"url(#clip710)\" style=\"stroke:#000000; stroke-linecap:round; stroke-linejoin:round; stroke-width:4; stroke-opacity:1; fill:none\" points=\"178.867,1063.54 197.764,1063.54 \"/>\n",
       "<polyline clip-path=\"url(#clip710)\" style=\"stroke:#000000; stroke-linecap:round; stroke-linejoin:round; stroke-width:4; stroke-opacity:1; fill:none\" points=\"178.867,812.104 197.764,812.104 \"/>\n",
       "<polyline clip-path=\"url(#clip710)\" style=\"stroke:#000000; stroke-linecap:round; stroke-linejoin:round; stroke-width:4; stroke-opacity:1; fill:none\" points=\"178.867,560.671 197.764,560.671 \"/>\n",
       "<polyline clip-path=\"url(#clip710)\" style=\"stroke:#000000; stroke-linecap:round; stroke-linejoin:round; stroke-width:4; stroke-opacity:1; fill:none\" points=\"178.867,309.238 197.764,309.238 \"/>\n",
       "<polyline clip-path=\"url(#clip710)\" style=\"stroke:#000000; stroke-linecap:round; stroke-linejoin:round; stroke-width:4; stroke-opacity:1; fill:none\" points=\"178.867,57.8043 197.764,57.8043 \"/>\n",
       "<path clip-path=\"url(#clip710)\" d=\"M50.9921 1315.42 L80.6679 1315.42 L80.6679 1319.36 L50.9921 1319.36 L50.9921 1315.42 Z\" fill=\"#000000\" fill-rule=\"nonzero\" fill-opacity=\"1\" /><path clip-path=\"url(#clip710)\" d=\"M91.5706 1328.32 L99.2095 1328.32 L99.2095 1301.95 L90.8993 1303.62 L90.8993 1299.36 L99.1632 1297.69 L103.839 1297.69 L103.839 1328.32 L111.478 1328.32 L111.478 1332.25 L91.5706 1332.25 L91.5706 1328.32 Z\" fill=\"#000000\" fill-rule=\"nonzero\" fill-opacity=\"1\" /><path clip-path=\"url(#clip710)\" d=\"M130.922 1300.77 Q127.311 1300.77 125.482 1304.33 Q123.677 1307.88 123.677 1315.01 Q123.677 1322.11 125.482 1325.68 Q127.311 1329.22 130.922 1329.22 Q134.556 1329.22 136.362 1325.68 Q138.191 1322.11 138.191 1315.01 Q138.191 1307.88 136.362 1304.33 Q134.556 1300.77 130.922 1300.77 M130.922 1297.07 Q136.732 1297.07 139.788 1301.67 Q142.867 1306.26 142.867 1315.01 Q142.867 1323.73 139.788 1328.34 Q136.732 1332.92 130.922 1332.92 Q125.112 1332.92 122.033 1328.34 Q118.978 1323.73 118.978 1315.01 Q118.978 1306.26 122.033 1301.67 Q125.112 1297.07 130.922 1297.07 Z\" fill=\"#000000\" fill-rule=\"nonzero\" fill-opacity=\"1\" /><path clip-path=\"url(#clip710)\" d=\"M82.1494 1063.99 L111.825 1063.99 L111.825 1067.92 L82.1494 1067.92 L82.1494 1063.99 Z\" fill=\"#000000\" fill-rule=\"nonzero\" fill-opacity=\"1\" /><path clip-path=\"url(#clip710)\" d=\"M121.964 1046.26 L140.32 1046.26 L140.32 1050.19 L126.246 1050.19 L126.246 1058.66 Q127.265 1058.32 128.283 1058.16 Q129.302 1057.97 130.32 1057.97 Q136.107 1057.97 139.487 1061.14 Q142.867 1064.31 142.867 1069.73 Q142.867 1075.31 139.394 1078.41 Q135.922 1081.49 129.603 1081.49 Q127.427 1081.49 125.158 1081.12 Q122.913 1080.75 120.506 1080.01 L120.506 1075.31 Q122.589 1076.44 124.811 1077 Q127.033 1077.55 129.51 1077.55 Q133.515 1077.55 135.853 1075.45 Q138.191 1073.34 138.191 1069.73 Q138.191 1066.12 135.853 1064.01 Q133.515 1061.91 129.51 1061.91 Q127.635 1061.91 125.76 1062.32 Q123.908 1062.74 121.964 1063.62 L121.964 1046.26 Z\" fill=\"#000000\" fill-rule=\"nonzero\" fill-opacity=\"1\" /><path clip-path=\"url(#clip710)\" d=\"M130.922 797.903 Q127.311 797.903 125.482 801.467 Q123.677 805.009 123.677 812.139 Q123.677 819.245 125.482 822.81 Q127.311 826.352 130.922 826.352 Q134.556 826.352 136.362 822.81 Q138.191 819.245 138.191 812.139 Q138.191 805.009 136.362 801.467 Q134.556 797.903 130.922 797.903 M130.922 794.199 Q136.732 794.199 139.788 798.805 Q142.867 803.389 142.867 812.139 Q142.867 820.865 139.788 825.472 Q136.732 830.055 130.922 830.055 Q125.112 830.055 122.033 825.472 Q118.978 820.865 118.978 812.139 Q118.978 803.389 122.033 798.805 Q125.112 794.199 130.922 794.199 Z\" fill=\"#000000\" fill-rule=\"nonzero\" fill-opacity=\"1\" /><path clip-path=\"url(#clip710)\" d=\"M121.964 543.391 L140.32 543.391 L140.32 547.326 L126.246 547.326 L126.246 555.798 Q127.265 555.451 128.283 555.289 Q129.302 555.104 130.32 555.104 Q136.107 555.104 139.487 558.275 Q142.867 561.446 142.867 566.863 Q142.867 572.442 139.394 575.543 Q135.922 578.622 129.603 578.622 Q127.427 578.622 125.158 578.252 Q122.913 577.881 120.506 577.141 L120.506 572.442 Q122.589 573.576 124.811 574.131 Q127.033 574.687 129.51 574.687 Q133.515 574.687 135.853 572.58 Q138.191 570.474 138.191 566.863 Q138.191 563.252 135.853 561.145 Q133.515 559.039 129.51 559.039 Q127.635 559.039 125.76 559.455 Q123.908 559.872 121.964 560.752 L121.964 543.391 Z\" fill=\"#000000\" fill-rule=\"nonzero\" fill-opacity=\"1\" /><path clip-path=\"url(#clip710)\" d=\"M91.5706 322.582 L99.2095 322.582 L99.2095 296.217 L90.8993 297.883 L90.8993 293.624 L99.1632 291.958 L103.839 291.958 L103.839 322.582 L111.478 322.582 L111.478 326.518 L91.5706 326.518 L91.5706 322.582 Z\" fill=\"#000000\" fill-rule=\"nonzero\" fill-opacity=\"1\" /><path clip-path=\"url(#clip710)\" d=\"M130.922 295.036 Q127.311 295.036 125.482 298.601 Q123.677 302.143 123.677 309.272 Q123.677 316.379 125.482 319.943 Q127.311 323.485 130.922 323.485 Q134.556 323.485 136.362 319.943 Q138.191 316.379 138.191 309.272 Q138.191 302.143 136.362 298.601 Q134.556 295.036 130.922 295.036 M130.922 291.333 Q136.732 291.333 139.788 295.939 Q142.867 300.522 142.867 309.272 Q142.867 317.999 139.788 322.605 Q136.732 327.189 130.922 327.189 Q125.112 327.189 122.033 322.605 Q118.978 317.999 118.978 309.272 Q118.978 300.522 122.033 295.939 Q125.112 291.333 130.922 291.333 Z\" fill=\"#000000\" fill-rule=\"nonzero\" fill-opacity=\"1\" /><path clip-path=\"url(#clip710)\" d=\"M92.566 71.1491 L100.205 71.1491 L100.205 44.7835 L91.8947 46.4502 L91.8947 42.1909 L100.159 40.5243 L104.834 40.5243 L104.834 71.1491 L112.473 71.1491 L112.473 75.0843 L92.566 75.0843 L92.566 71.1491 Z\" fill=\"#000000\" fill-rule=\"nonzero\" fill-opacity=\"1\" /><path clip-path=\"url(#clip710)\" d=\"M121.964 40.5243 L140.32 40.5243 L140.32 44.4595 L126.246 44.4595 L126.246 52.9316 Q127.265 52.5844 128.283 52.4224 Q129.302 52.2372 130.32 52.2372 Q136.107 52.2372 139.487 55.4085 Q142.867 58.5797 142.867 63.9964 Q142.867 69.5751 139.394 72.6769 Q135.922 75.7556 129.603 75.7556 Q127.427 75.7556 125.158 75.3852 Q122.913 75.0148 120.506 74.2741 L120.506 69.5751 Q122.589 70.7093 124.811 71.2649 Q127.033 71.8204 129.51 71.8204 Q133.515 71.8204 135.853 69.7139 Q138.191 67.6075 138.191 63.9964 Q138.191 60.3853 135.853 58.2788 Q133.515 56.1724 129.51 56.1724 Q127.635 56.1724 125.76 56.589 Q123.908 57.0057 121.964 57.8853 L121.964 40.5243 Z\" fill=\"#000000\" fill-rule=\"nonzero\" fill-opacity=\"1\" /><polyline clip-path=\"url(#clip712)\" style=\"stroke:#009af9; stroke-linecap:round; stroke-linejoin:round; stroke-width:4; stroke-opacity:1; fill:none\" points=\"240.392,87.9763 253.744,96.8159 377.203,178.551 451.397,227.67 514.127,269.2 582.269,314.313 645.091,355.903 712.442,400.493 790.474,452.153 859.821,498.063 920.631,538.322 986.931,582.216 1053.62,626.37 1127.36,675.187 1197.52,721.636 1270.47,769.933 1331.88,810.588 1406.86,860.223 1475.54,905.692 1538.97,947.686 1603.22,990.225 1675.23,1037.9 1740.48,1081.1 1815.2,1130.56 1884.37,1176.36 1952.57,1221.51 2018.78,1265.35 2086.66,1310.28 2161.03,1359.52 2269.07,1431.04 2291.23,1445.72 \"/>\n",
       "<path clip-path=\"url(#clip710)\" d=\"M2010.47 198.898 L2280.29 198.898 L2280.29 95.2176 L2010.47 95.2176  Z\" fill=\"#ffffff\" fill-rule=\"evenodd\" fill-opacity=\"1\"/>\n",
       "<polyline clip-path=\"url(#clip710)\" style=\"stroke:#000000; stroke-linecap:round; stroke-linejoin:round; stroke-width:4; stroke-opacity:1; fill:none\" points=\"2010.47,198.898 2280.29,198.898 2280.29,95.2176 2010.47,95.2176 2010.47,198.898 \"/>\n",
       "<polyline clip-path=\"url(#clip710)\" style=\"stroke:#009af9; stroke-linecap:round; stroke-linejoin:round; stroke-width:4; stroke-opacity:1; fill:none\" points=\"2034.63,147.058 2179.55,147.058 \"/>\n",
       "<path clip-path=\"url(#clip710)\" d=\"M2217.55 166.745 Q2215.75 171.375 2214.03 172.787 Q2212.32 174.199 2209.45 174.199 L2206.05 174.199 L2206.05 170.634 L2208.55 170.634 Q2210.31 170.634 2211.28 169.8 Q2212.25 168.967 2213.43 165.865 L2214.19 163.921 L2203.71 138.412 L2208.22 138.412 L2216.32 158.689 L2224.43 138.412 L2228.94 138.412 L2217.55 166.745 Z\" fill=\"#000000\" fill-rule=\"nonzero\" fill-opacity=\"1\" /><path clip-path=\"url(#clip710)\" d=\"M2236.23 160.402 L2243.87 160.402 L2243.87 134.037 L2235.56 135.703 L2235.56 131.444 L2243.82 129.778 L2248.5 129.778 L2248.5 160.402 L2256.14 160.402 L2256.14 164.338 L2236.23 164.338 L2236.23 160.402 Z\" fill=\"#000000\" fill-rule=\"nonzero\" fill-opacity=\"1\" /></svg>\n"
      ],
      "text/html": [
       "<?xml version=\"1.0\" encoding=\"utf-8\"?>\n",
       "<svg xmlns=\"http://www.w3.org/2000/svg\" xmlns:xlink=\"http://www.w3.org/1999/xlink\" width=\"600\" height=\"400\" viewBox=\"0 0 2400 1600\">\n",
       "<defs>\n",
       "  <clipPath id=\"clip760\">\n",
       "    <rect x=\"0\" y=\"0\" width=\"2400\" height=\"1600\"/>\n",
       "  </clipPath>\n",
       "</defs>\n",
       "<path clip-path=\"url(#clip760)\" d=\"M0 1600 L2400 1600 L2400 0 L0 0  Z\" fill=\"#ffffff\" fill-rule=\"evenodd\" fill-opacity=\"1\"/>\n",
       "<defs>\n",
       "  <clipPath id=\"clip761\">\n",
       "    <rect x=\"480\" y=\"0\" width=\"1681\" height=\"1600\"/>\n",
       "  </clipPath>\n",
       "</defs>\n",
       "<path clip-path=\"url(#clip760)\" d=\"M178.867 1486.45 L2352.76 1486.45 L2352.76 47.2441 L178.867 47.2441  Z\" fill=\"#ffffff\" fill-rule=\"evenodd\" fill-opacity=\"1\"/>\n",
       "<defs>\n",
       "  <clipPath id=\"clip762\">\n",
       "    <rect x=\"178\" y=\"47\" width=\"2175\" height=\"1440\"/>\n",
       "  </clipPath>\n",
       "</defs>\n",
       "<polyline clip-path=\"url(#clip762)\" style=\"stroke:#000000; stroke-linecap:round; stroke-linejoin:round; stroke-width:2; stroke-opacity:0.1; fill:none\" points=\"445.476,1486.45 445.476,47.2441 \"/>\n",
       "<polyline clip-path=\"url(#clip762)\" style=\"stroke:#000000; stroke-linecap:round; stroke-linejoin:round; stroke-width:2; stroke-opacity:0.1; fill:none\" points=\"855.643,1486.45 855.643,47.2441 \"/>\n",
       "<polyline clip-path=\"url(#clip762)\" style=\"stroke:#000000; stroke-linecap:round; stroke-linejoin:round; stroke-width:2; stroke-opacity:0.1; fill:none\" points=\"1265.81,1486.45 1265.81,47.2441 \"/>\n",
       "<polyline clip-path=\"url(#clip762)\" style=\"stroke:#000000; stroke-linecap:round; stroke-linejoin:round; stroke-width:2; stroke-opacity:0.1; fill:none\" points=\"1675.98,1486.45 1675.98,47.2441 \"/>\n",
       "<polyline clip-path=\"url(#clip762)\" style=\"stroke:#000000; stroke-linecap:round; stroke-linejoin:round; stroke-width:2; stroke-opacity:0.1; fill:none\" points=\"2086.15,1486.45 2086.15,47.2441 \"/>\n",
       "<polyline clip-path=\"url(#clip760)\" style=\"stroke:#000000; stroke-linecap:round; stroke-linejoin:round; stroke-width:4; stroke-opacity:1; fill:none\" points=\"178.867,1486.45 2352.76,1486.45 \"/>\n",
       "<polyline clip-path=\"url(#clip760)\" style=\"stroke:#000000; stroke-linecap:round; stroke-linejoin:round; stroke-width:4; stroke-opacity:1; fill:none\" points=\"445.476,1486.45 445.476,1467.55 \"/>\n",
       "<polyline clip-path=\"url(#clip760)\" style=\"stroke:#000000; stroke-linecap:round; stroke-linejoin:round; stroke-width:4; stroke-opacity:1; fill:none\" points=\"855.643,1486.45 855.643,1467.55 \"/>\n",
       "<polyline clip-path=\"url(#clip760)\" style=\"stroke:#000000; stroke-linecap:round; stroke-linejoin:round; stroke-width:4; stroke-opacity:1; fill:none\" points=\"1265.81,1486.45 1265.81,1467.55 \"/>\n",
       "<polyline clip-path=\"url(#clip760)\" style=\"stroke:#000000; stroke-linecap:round; stroke-linejoin:round; stroke-width:4; stroke-opacity:1; fill:none\" points=\"1675.98,1486.45 1675.98,1467.55 \"/>\n",
       "<polyline clip-path=\"url(#clip760)\" style=\"stroke:#000000; stroke-linecap:round; stroke-linejoin:round; stroke-width:4; stroke-opacity:1; fill:none\" points=\"2086.15,1486.45 2086.15,1467.55 \"/>\n",
       "<path clip-path=\"url(#clip760)\" d=\"M414.376 1532.02 L444.052 1532.02 L444.052 1535.95 L414.376 1535.95 L414.376 1532.02 Z\" fill=\"#000000\" fill-rule=\"nonzero\" fill-opacity=\"1\" /><path clip-path=\"url(#clip760)\" d=\"M466.992 1518.36 L455.186 1536.81 L466.992 1536.81 L466.992 1518.36 M465.765 1514.29 L471.645 1514.29 L471.645 1536.81 L476.575 1536.81 L476.575 1540.7 L471.645 1540.7 L471.645 1548.85 L466.992 1548.85 L466.992 1540.7 L451.39 1540.7 L451.39 1536.19 L465.765 1514.29 Z\" fill=\"#000000\" fill-rule=\"nonzero\" fill-opacity=\"1\" /><path clip-path=\"url(#clip760)\" d=\"M825.586 1532.02 L855.262 1532.02 L855.262 1535.95 L825.586 1535.95 L825.586 1532.02 Z\" fill=\"#000000\" fill-rule=\"nonzero\" fill-opacity=\"1\" /><path clip-path=\"url(#clip760)\" d=\"M869.382 1544.91 L885.701 1544.91 L885.701 1548.85 L863.757 1548.85 L863.757 1544.91 Q866.419 1542.16 871.002 1537.53 Q875.609 1532.88 876.789 1531.53 Q879.035 1529.01 879.914 1527.27 Q880.817 1525.51 880.817 1523.82 Q880.817 1521.07 878.873 1519.33 Q876.951 1517.6 873.849 1517.6 Q871.65 1517.6 869.197 1518.36 Q866.766 1519.13 863.988 1520.68 L863.988 1515.95 Q866.812 1514.82 869.266 1514.24 Q871.72 1513.66 873.757 1513.66 Q879.127 1513.66 882.322 1516.35 Q885.516 1519.03 885.516 1523.52 Q885.516 1525.65 884.706 1527.57 Q883.919 1529.47 881.812 1532.07 Q881.234 1532.74 878.132 1535.95 Q875.03 1539.15 869.382 1544.91 Z\" fill=\"#000000\" fill-rule=\"nonzero\" fill-opacity=\"1\" /><path clip-path=\"url(#clip760)\" d=\"M1265.81 1517.37 Q1262.2 1517.37 1260.37 1520.93 Q1258.57 1524.47 1258.57 1531.6 Q1258.57 1538.71 1260.37 1542.27 Q1262.2 1545.82 1265.81 1545.82 Q1269.45 1545.82 1271.25 1542.27 Q1273.08 1538.71 1273.08 1531.6 Q1273.08 1524.47 1271.25 1520.93 Q1269.45 1517.37 1265.81 1517.37 M1265.81 1513.66 Q1271.62 1513.66 1274.68 1518.27 Q1277.76 1522.85 1277.76 1531.6 Q1277.76 1540.33 1274.68 1544.94 Q1271.62 1549.52 1265.81 1549.52 Q1260 1549.52 1256.92 1544.94 Q1253.87 1540.33 1253.87 1531.6 Q1253.87 1522.85 1256.92 1518.27 Q1260 1513.66 1265.81 1513.66 Z\" fill=\"#000000\" fill-rule=\"nonzero\" fill-opacity=\"1\" /><path clip-path=\"url(#clip760)\" d=\"M1670.63 1544.91 L1686.95 1544.91 L1686.95 1548.85 L1665.01 1548.85 L1665.01 1544.91 Q1667.67 1542.16 1672.25 1537.53 Q1676.86 1532.88 1678.04 1531.53 Q1680.28 1529.01 1681.16 1527.27 Q1682.07 1525.51 1682.07 1523.82 Q1682.07 1521.07 1680.12 1519.33 Q1678.2 1517.6 1675.1 1517.6 Q1672.9 1517.6 1670.45 1518.36 Q1668.02 1519.13 1665.24 1520.68 L1665.24 1515.95 Q1668.06 1514.82 1670.52 1514.24 Q1672.97 1513.66 1675.01 1513.66 Q1680.38 1513.66 1683.57 1516.35 Q1686.77 1519.03 1686.77 1523.52 Q1686.77 1525.65 1685.96 1527.57 Q1685.17 1529.47 1683.06 1532.07 Q1682.48 1532.74 1679.38 1535.95 Q1676.28 1539.15 1670.63 1544.91 Z\" fill=\"#000000\" fill-rule=\"nonzero\" fill-opacity=\"1\" /><path clip-path=\"url(#clip760)\" d=\"M2089.16 1518.36 L2077.35 1536.81 L2089.16 1536.81 L2089.16 1518.36 M2087.93 1514.29 L2093.81 1514.29 L2093.81 1536.81 L2098.74 1536.81 L2098.74 1540.7 L2093.81 1540.7 L2093.81 1548.85 L2089.16 1548.85 L2089.16 1540.7 L2073.55 1540.7 L2073.55 1536.19 L2087.93 1514.29 Z\" fill=\"#000000\" fill-rule=\"nonzero\" fill-opacity=\"1\" /><polyline clip-path=\"url(#clip762)\" style=\"stroke:#000000; stroke-linecap:round; stroke-linejoin:round; stroke-width:2; stroke-opacity:0.1; fill:none\" points=\"178.867,1314.97 2352.76,1314.97 \"/>\n",
       "<polyline clip-path=\"url(#clip762)\" style=\"stroke:#000000; stroke-linecap:round; stroke-linejoin:round; stroke-width:2; stroke-opacity:0.1; fill:none\" points=\"178.867,1063.54 2352.76,1063.54 \"/>\n",
       "<polyline clip-path=\"url(#clip762)\" style=\"stroke:#000000; stroke-linecap:round; stroke-linejoin:round; stroke-width:2; stroke-opacity:0.1; fill:none\" points=\"178.867,812.104 2352.76,812.104 \"/>\n",
       "<polyline clip-path=\"url(#clip762)\" style=\"stroke:#000000; stroke-linecap:round; stroke-linejoin:round; stroke-width:2; stroke-opacity:0.1; fill:none\" points=\"178.867,560.671 2352.76,560.671 \"/>\n",
       "<polyline clip-path=\"url(#clip762)\" style=\"stroke:#000000; stroke-linecap:round; stroke-linejoin:round; stroke-width:2; stroke-opacity:0.1; fill:none\" points=\"178.867,309.238 2352.76,309.238 \"/>\n",
       "<polyline clip-path=\"url(#clip762)\" style=\"stroke:#000000; stroke-linecap:round; stroke-linejoin:round; stroke-width:2; stroke-opacity:0.1; fill:none\" points=\"178.867,57.8043 2352.76,57.8043 \"/>\n",
       "<polyline clip-path=\"url(#clip760)\" style=\"stroke:#000000; stroke-linecap:round; stroke-linejoin:round; stroke-width:4; stroke-opacity:1; fill:none\" points=\"178.867,1486.45 178.867,47.2441 \"/>\n",
       "<polyline clip-path=\"url(#clip760)\" style=\"stroke:#000000; stroke-linecap:round; stroke-linejoin:round; stroke-width:4; stroke-opacity:1; fill:none\" points=\"178.867,1314.97 197.764,1314.97 \"/>\n",
       "<polyline clip-path=\"url(#clip760)\" style=\"stroke:#000000; stroke-linecap:round; stroke-linejoin:round; stroke-width:4; stroke-opacity:1; fill:none\" points=\"178.867,1063.54 197.764,1063.54 \"/>\n",
       "<polyline clip-path=\"url(#clip760)\" style=\"stroke:#000000; stroke-linecap:round; stroke-linejoin:round; stroke-width:4; stroke-opacity:1; fill:none\" points=\"178.867,812.104 197.764,812.104 \"/>\n",
       "<polyline clip-path=\"url(#clip760)\" style=\"stroke:#000000; stroke-linecap:round; stroke-linejoin:round; stroke-width:4; stroke-opacity:1; fill:none\" points=\"178.867,560.671 197.764,560.671 \"/>\n",
       "<polyline clip-path=\"url(#clip760)\" style=\"stroke:#000000; stroke-linecap:round; stroke-linejoin:round; stroke-width:4; stroke-opacity:1; fill:none\" points=\"178.867,309.238 197.764,309.238 \"/>\n",
       "<polyline clip-path=\"url(#clip760)\" style=\"stroke:#000000; stroke-linecap:round; stroke-linejoin:round; stroke-width:4; stroke-opacity:1; fill:none\" points=\"178.867,57.8043 197.764,57.8043 \"/>\n",
       "<path clip-path=\"url(#clip760)\" d=\"M50.9921 1315.42 L80.6679 1315.42 L80.6679 1319.36 L50.9921 1319.36 L50.9921 1315.42 Z\" fill=\"#000000\" fill-rule=\"nonzero\" fill-opacity=\"1\" /><path clip-path=\"url(#clip760)\" d=\"M91.5706 1328.32 L99.2095 1328.32 L99.2095 1301.95 L90.8993 1303.62 L90.8993 1299.36 L99.1632 1297.69 L103.839 1297.69 L103.839 1328.32 L111.478 1328.32 L111.478 1332.25 L91.5706 1332.25 L91.5706 1328.32 Z\" fill=\"#000000\" fill-rule=\"nonzero\" fill-opacity=\"1\" /><path clip-path=\"url(#clip760)\" d=\"M130.922 1300.77 Q127.311 1300.77 125.482 1304.33 Q123.677 1307.88 123.677 1315.01 Q123.677 1322.11 125.482 1325.68 Q127.311 1329.22 130.922 1329.22 Q134.556 1329.22 136.362 1325.68 Q138.191 1322.11 138.191 1315.01 Q138.191 1307.88 136.362 1304.33 Q134.556 1300.77 130.922 1300.77 M130.922 1297.07 Q136.732 1297.07 139.788 1301.67 Q142.867 1306.26 142.867 1315.01 Q142.867 1323.73 139.788 1328.34 Q136.732 1332.92 130.922 1332.92 Q125.112 1332.92 122.033 1328.34 Q118.978 1323.73 118.978 1315.01 Q118.978 1306.26 122.033 1301.67 Q125.112 1297.07 130.922 1297.07 Z\" fill=\"#000000\" fill-rule=\"nonzero\" fill-opacity=\"1\" /><path clip-path=\"url(#clip760)\" d=\"M82.1494 1063.99 L111.825 1063.99 L111.825 1067.92 L82.1494 1067.92 L82.1494 1063.99 Z\" fill=\"#000000\" fill-rule=\"nonzero\" fill-opacity=\"1\" /><path clip-path=\"url(#clip760)\" d=\"M121.964 1046.26 L140.32 1046.26 L140.32 1050.19 L126.246 1050.19 L126.246 1058.66 Q127.265 1058.32 128.283 1058.16 Q129.302 1057.97 130.32 1057.97 Q136.107 1057.97 139.487 1061.14 Q142.867 1064.31 142.867 1069.73 Q142.867 1075.31 139.394 1078.41 Q135.922 1081.49 129.603 1081.49 Q127.427 1081.49 125.158 1081.12 Q122.913 1080.75 120.506 1080.01 L120.506 1075.31 Q122.589 1076.44 124.811 1077 Q127.033 1077.55 129.51 1077.55 Q133.515 1077.55 135.853 1075.45 Q138.191 1073.34 138.191 1069.73 Q138.191 1066.12 135.853 1064.01 Q133.515 1061.91 129.51 1061.91 Q127.635 1061.91 125.76 1062.32 Q123.908 1062.74 121.964 1063.62 L121.964 1046.26 Z\" fill=\"#000000\" fill-rule=\"nonzero\" fill-opacity=\"1\" /><path clip-path=\"url(#clip760)\" d=\"M130.922 797.903 Q127.311 797.903 125.482 801.467 Q123.677 805.009 123.677 812.139 Q123.677 819.245 125.482 822.81 Q127.311 826.352 130.922 826.352 Q134.556 826.352 136.362 822.81 Q138.191 819.245 138.191 812.139 Q138.191 805.009 136.362 801.467 Q134.556 797.903 130.922 797.903 M130.922 794.199 Q136.732 794.199 139.788 798.805 Q142.867 803.389 142.867 812.139 Q142.867 820.865 139.788 825.472 Q136.732 830.055 130.922 830.055 Q125.112 830.055 122.033 825.472 Q118.978 820.865 118.978 812.139 Q118.978 803.389 122.033 798.805 Q125.112 794.199 130.922 794.199 Z\" fill=\"#000000\" fill-rule=\"nonzero\" fill-opacity=\"1\" /><path clip-path=\"url(#clip760)\" d=\"M121.964 543.391 L140.32 543.391 L140.32 547.326 L126.246 547.326 L126.246 555.798 Q127.265 555.451 128.283 555.289 Q129.302 555.104 130.32 555.104 Q136.107 555.104 139.487 558.275 Q142.867 561.446 142.867 566.863 Q142.867 572.442 139.394 575.543 Q135.922 578.622 129.603 578.622 Q127.427 578.622 125.158 578.252 Q122.913 577.881 120.506 577.141 L120.506 572.442 Q122.589 573.576 124.811 574.131 Q127.033 574.687 129.51 574.687 Q133.515 574.687 135.853 572.58 Q138.191 570.474 138.191 566.863 Q138.191 563.252 135.853 561.145 Q133.515 559.039 129.51 559.039 Q127.635 559.039 125.76 559.455 Q123.908 559.872 121.964 560.752 L121.964 543.391 Z\" fill=\"#000000\" fill-rule=\"nonzero\" fill-opacity=\"1\" /><path clip-path=\"url(#clip760)\" d=\"M91.5706 322.582 L99.2095 322.582 L99.2095 296.217 L90.8993 297.883 L90.8993 293.624 L99.1632 291.958 L103.839 291.958 L103.839 322.582 L111.478 322.582 L111.478 326.518 L91.5706 326.518 L91.5706 322.582 Z\" fill=\"#000000\" fill-rule=\"nonzero\" fill-opacity=\"1\" /><path clip-path=\"url(#clip760)\" d=\"M130.922 295.036 Q127.311 295.036 125.482 298.601 Q123.677 302.143 123.677 309.272 Q123.677 316.379 125.482 319.943 Q127.311 323.485 130.922 323.485 Q134.556 323.485 136.362 319.943 Q138.191 316.379 138.191 309.272 Q138.191 302.143 136.362 298.601 Q134.556 295.036 130.922 295.036 M130.922 291.333 Q136.732 291.333 139.788 295.939 Q142.867 300.522 142.867 309.272 Q142.867 317.999 139.788 322.605 Q136.732 327.189 130.922 327.189 Q125.112 327.189 122.033 322.605 Q118.978 317.999 118.978 309.272 Q118.978 300.522 122.033 295.939 Q125.112 291.333 130.922 291.333 Z\" fill=\"#000000\" fill-rule=\"nonzero\" fill-opacity=\"1\" /><path clip-path=\"url(#clip760)\" d=\"M92.566 71.1491 L100.205 71.1491 L100.205 44.7835 L91.8947 46.4502 L91.8947 42.1909 L100.159 40.5243 L104.834 40.5243 L104.834 71.1491 L112.473 71.1491 L112.473 75.0843 L92.566 75.0843 L92.566 71.1491 Z\" fill=\"#000000\" fill-rule=\"nonzero\" fill-opacity=\"1\" /><path clip-path=\"url(#clip760)\" d=\"M121.964 40.5243 L140.32 40.5243 L140.32 44.4595 L126.246 44.4595 L126.246 52.9316 Q127.265 52.5844 128.283 52.4224 Q129.302 52.2372 130.32 52.2372 Q136.107 52.2372 139.487 55.4085 Q142.867 58.5797 142.867 63.9964 Q142.867 69.5751 139.394 72.6769 Q135.922 75.7556 129.603 75.7556 Q127.427 75.7556 125.158 75.3852 Q122.913 75.0148 120.506 74.2741 L120.506 69.5751 Q122.589 70.7093 124.811 71.2649 Q127.033 71.8204 129.51 71.8204 Q133.515 71.8204 135.853 69.7139 Q138.191 67.6075 138.191 63.9964 Q138.191 60.3853 135.853 58.2788 Q133.515 56.1724 129.51 56.1724 Q127.635 56.1724 125.76 56.589 Q123.908 57.0057 121.964 57.8853 L121.964 40.5243 Z\" fill=\"#000000\" fill-rule=\"nonzero\" fill-opacity=\"1\" /><polyline clip-path=\"url(#clip762)\" style=\"stroke:#009af9; stroke-linecap:round; stroke-linejoin:round; stroke-width:4; stroke-opacity:1; fill:none\" points=\"240.392,87.9763 253.744,96.8159 377.203,178.551 451.397,227.67 514.127,269.2 582.269,314.313 645.091,355.903 712.442,400.493 790.474,452.153 859.821,498.063 920.631,538.322 986.931,582.216 1053.62,626.37 1127.36,675.187 1197.52,721.636 1270.47,769.933 1331.88,810.588 1406.86,860.223 1475.54,905.692 1538.97,947.686 1603.22,990.225 1675.23,1037.9 1740.48,1081.1 1815.2,1130.56 1884.37,1176.36 1952.57,1221.51 2018.78,1265.35 2086.66,1310.28 2161.03,1359.52 2269.07,1431.04 2291.23,1445.72 \"/>\n",
       "<path clip-path=\"url(#clip760)\" d=\"M2010.47 198.898 L2280.29 198.898 L2280.29 95.2176 L2010.47 95.2176  Z\" fill=\"#ffffff\" fill-rule=\"evenodd\" fill-opacity=\"1\"/>\n",
       "<polyline clip-path=\"url(#clip760)\" style=\"stroke:#000000; stroke-linecap:round; stroke-linejoin:round; stroke-width:4; stroke-opacity:1; fill:none\" points=\"2010.47,198.898 2280.29,198.898 2280.29,95.2176 2010.47,95.2176 2010.47,198.898 \"/>\n",
       "<polyline clip-path=\"url(#clip760)\" style=\"stroke:#009af9; stroke-linecap:round; stroke-linejoin:round; stroke-width:4; stroke-opacity:1; fill:none\" points=\"2034.63,147.058 2179.55,147.058 \"/>\n",
       "<path clip-path=\"url(#clip760)\" d=\"M2217.55 166.745 Q2215.75 171.375 2214.03 172.787 Q2212.32 174.199 2209.45 174.199 L2206.05 174.199 L2206.05 170.634 L2208.55 170.634 Q2210.31 170.634 2211.28 169.8 Q2212.25 168.967 2213.43 165.865 L2214.19 163.921 L2203.71 138.412 L2208.22 138.412 L2216.32 158.689 L2224.43 138.412 L2228.94 138.412 L2217.55 166.745 Z\" fill=\"#000000\" fill-rule=\"nonzero\" fill-opacity=\"1\" /><path clip-path=\"url(#clip760)\" d=\"M2236.23 160.402 L2243.87 160.402 L2243.87 134.037 L2235.56 135.703 L2235.56 131.444 L2243.82 129.778 L2248.5 129.778 L2248.5 160.402 L2256.14 160.402 L2256.14 164.338 L2236.23 164.338 L2236.23 160.402 Z\" fill=\"#000000\" fill-rule=\"nonzero\" fill-opacity=\"1\" /></svg>\n"
      ]
     },
     "metadata": {},
     "output_type": "display_data"
    }
   ],
   "source": [
    "plot(h)"
   ]
  },
  {
   "cell_type": "code",
   "execution_count": 54,
   "metadata": {},
   "outputs": [
    {
     "data": {
      "text/plain": [
       "\"Not Zeros in these interval!\""
      ]
     },
     "metadata": {},
     "output_type": "display_data"
    }
   ],
   "source": [
    "I = interval(-1,0.2)\n",
    "xk = interval(-1,0.2)\n",
    "TesteOPN(h,I,tol = 2^-10)"
   ]
  },
  {
   "cell_type": "code",
   "execution_count": 61,
   "metadata": {},
   "outputs": [
    {
     "data": {
      "text/plain": [
       "[0.37037, 0.370371]"
      ]
     },
     "metadata": {},
     "output_type": "display_data"
    }
   ],
   "source": [
    "I = interval(0,1)\n",
    "xk = interval(0,1)\n",
    "TesteOPN(f,I,tol = 2^-10)"
   ]
  },
  {
   "cell_type": "code",
   "execution_count": 56,
   "metadata": {},
   "outputs": [
    {
     "data": {
      "text/plain": [
       "[0.333333, 0.333334]"
      ]
     },
     "metadata": {},
     "output_type": "display_data"
    }
   ],
   "source": [
    "I = interval(0,1)\n",
    "xk = interval(0,1)\n",
    "TesteOPN(h,I,tol = 2^-10)"
   ]
  },
  {
   "cell_type": "code",
   "execution_count": 58,
   "metadata": {},
   "outputs": [
    {
     "data": {
      "text/plain": [
       "PREIMA (generic function with 1 method)"
      ]
     },
     "metadata": {},
     "output_type": "display_data"
    }
   ],
   "source": [
    "function PREIMA(f, df, I::Interval)\n",
    "    m = @interval mid(I)\n",
    "    return (hull(m) - hull(f(m)-I10[1].hi)/hull(df(I))) ∩ I\n",
    "end"
   ]
  },
  {
   "cell_type": "code",
   "execution_count": 59,
   "metadata": {},
   "outputs": [
    {
     "data": {
      "text/plain": [
       "TestePREIMA (generic function with 1 method)"
      ]
     },
     "metadata": {},
     "output_type": "display_data"
    }
   ],
   "source": [
    "function TestePREIMA(f::Function, I::Interval; tol = 2^-10)\n",
    "    df(I) = ForwardDiff.derivative(f,I)\n",
    "    if PREIMA(f, df, xk) == ∅\n",
    "        return \"Not Zeros in these interval!\"\n",
    "    else\n",
    "        while diam(xk)>tol\n",
    "            zerobox = IntervalBox(xk, f(I))\n",
    "            global xk = PREIMA(f, df, xk)\n",
    "            if xk == ∅\n",
    "                return \"Not Zeros in these interval!\"\n",
    "            end\n",
    "            @show xk\n",
    "        end\n",
    "    end  \n",
    "    @show xk  \n",
    "end"
   ]
  },
  {
   "cell_type": "code",
   "execution_count": 60,
   "metadata": {},
   "outputs": [
    {
     "data": {
      "text/plain": [
       "[0.333333, 0.333334]"
      ]
     },
     "metadata": {},
     "output_type": "display_data"
    }
   ],
   "source": [
    "I = interval(0,1)\n",
    "xk = interval(0,1)\n",
    "TestePREIMA(f,I,tol = 2^-10)"
   ]
  },
  {
   "cell_type": "markdown",
   "metadata": {},
   "source": []
  }
 ],
 "metadata": {
  "kernelspec": {
   "display_name": "Julia 1.10.2",
   "language": "julia",
   "name": "julia-1.10"
  },
  "language_info": {
   "file_extension": ".jl",
   "mimetype": "application/julia",
   "name": "julia",
   "version": "1.10.2"
  }
 },
 "nbformat": 4,
 "nbformat_minor": 2
}
