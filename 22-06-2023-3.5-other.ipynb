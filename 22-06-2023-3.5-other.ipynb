{
 "cells": [
  {
   "attachments": {},
   "cell_type": "markdown",
   "metadata": {},
   "source": [
    "#### Again try plot the density of the Drill for $\\Lambda = 3.5$."
   ]
  },
  {
   "cell_type": "code",
   "execution_count": 1,
   "metadata": {},
   "outputs": [],
   "source": [
    "using IntervalArithmetic"
   ]
  },
  {
   "cell_type": "code",
   "execution_count": 2,
   "metadata": {},
   "outputs": [
    {
     "data": {
      "text/plain": [
       "[1.39999, 1.40001]"
      ]
     },
     "execution_count": 2,
     "metadata": {},
     "output_type": "execute_result"
    }
   ],
   "source": [
    "Λ = Interval(3.5)\n",
    "α = Λ/(Λ-1)"
   ]
  },
  {
   "cell_type": "code",
   "execution_count": 3,
   "metadata": {},
   "outputs": [
    {
     "data": {
      "text/plain": [
       "3"
      ]
     },
     "execution_count": 3,
     "metadata": {},
     "output_type": "execute_result"
    }
   ],
   "source": [
    "K = Int64(floor(mid(Λ)))"
   ]
  },
  {
   "cell_type": "code",
   "execution_count": 4,
   "metadata": {},
   "outputs": [
    {
     "data": {
      "text/plain": [
       "F (generic function with 1 method)"
      ]
     },
     "execution_count": 4,
     "metadata": {},
     "output_type": "execute_result"
    }
   ],
   "source": [
    "q_K_k(k) = max(0, 0.5*((Λ-1-k)/(Λ-1)))\n",
    "F(k) = x -> x + α*(k-(k^2-(k/α)*(k+1-2*x))^(0.5))"
   ]
  },
  {
   "cell_type": "code",
   "execution_count": 5,
   "metadata": {},
   "outputs": [
    {
     "data": {
      "text/plain": [
       "3-element Vector{Interval{Float64}}:\n",
       "     [0.299999, 0.300001]\n",
       "     [0.0999999, 0.100001]\n",
       " [0, 0]"
      ]
     },
     "execution_count": 5,
     "metadata": {},
     "output_type": "execute_result"
    }
   ],
   "source": [
    "[q_K_k(i) for i in 1:K]"
   ]
  },
  {
   "cell_type": "code",
   "execution_count": 8,
   "metadata": {},
   "outputs": [
    {
     "data": {
      "text/plain": [
       "#1 (generic function with 1 method)"
      ]
     },
     "execution_count": 8,
     "metadata": {},
     "output_type": "execute_result"
    }
   ],
   "source": [
    "f1=F(1)\n",
    "f2=F(2)\n",
    "f3=F(3)"
   ]
  },
  {
   "cell_type": "code",
   "execution_count": 6,
   "metadata": {},
   "outputs": [],
   "source": [
    "using RigorousInvariantMeasures"
   ]
  },
  {
   "cell_type": "code",
   "execution_count": 9,
   "metadata": {},
   "outputs": [
    {
     "data": {
      "text/plain": [
       "Piecewise-defined dynamic with 3 branches"
      ]
     },
     "execution_count": 9,
     "metadata": {},
     "output_type": "execute_result"
    }
   ],
   "source": [
    "D = PwMap([x->f3(x)-3.0;x->f2(x)-2.0; x->f1(x)-1.0], [Interval(0), Interval(0.100001), Interval(0.300001), Interval(1)])"
   ]
  },
  {
   "cell_type": "code",
   "execution_count": 10,
   "metadata": {},
   "outputs": [
    {
     "data": {
      "text/plain": [
       "Ulam{LinRange{Float64, Int64}}(LinRange{Float64}(0.0, 1.0, 1025))"
      ]
     },
     "execution_count": 10,
     "metadata": {},
     "output_type": "execute_result"
    }
   ],
   "source": [
    "B = Ulam(1024)"
   ]
  },
  {
   "cell_type": "code",
   "execution_count": 11,
   "metadata": {},
   "outputs": [
    {
     "data": {
      "text/plain": [
       "RigorousInvariantMeasures.ComposedDynamic((Piecewise-defined dynamic with 3 branches, Piecewise-defined dynamic with 3 branches), Piecewise-defined dynamic with 8 branches)"
      ]
     },
     "execution_count": 11,
     "metadata": {},
     "output_type": "execute_result"
    }
   ],
   "source": [
    "E = D ∘ D"
   ]
  },
  {
   "cell_type": "code",
   "execution_count": 12,
   "metadata": {},
   "outputs": [
    {
     "data": {
      "text/plain": [
       "Piecewise-defined dynamic with 1 branches"
      ]
     },
     "execution_count": 12,
     "metadata": {},
     "output_type": "execute_result"
    }
   ],
   "source": [
    "alpha = PwMap([x->0.897635*x], [Interval(0), Interval(1)])"
   ]
  },
  {
   "cell_type": "code",
   "execution_count": 13,
   "metadata": {},
   "outputs": [
    {
     "data": {
      "text/plain": [
       "Piecewise-defined dynamic with 1 branches"
      ]
     },
     "execution_count": 13,
     "metadata": {},
     "output_type": "execute_result"
    }
   ],
   "source": [
    "beta = PwMap([x->(x/0.897635)], [Interval(0), Interval(0.897635)])"
   ]
  },
  {
   "cell_type": "code",
   "execution_count": 14,
   "metadata": {},
   "outputs": [
    {
     "data": {
      "text/plain": [
       "RigorousInvariantMeasures.ComposedDynamic((RigorousInvariantMeasures.ComposedDynamic((Piecewise-defined dynamic with 1 branches, RigorousInvariantMeasures.ComposedDynamic((Piecewise-defined dynamic with 3 branches, Piecewise-defined dynamic with 3 branches), Piecewise-defined dynamic with 8 branches)), Piecewise-defined dynamic with 8 branches), Piecewise-defined dynamic with 1 branches), Piecewise-defined dynamic with 8 branches)"
      ]
     },
     "execution_count": 14,
     "metadata": {},
     "output_type": "execute_result"
    }
   ],
   "source": [
    "D1 = beta ∘ E ∘ alpha"
   ]
  },
  {
   "cell_type": "code",
   "execution_count": 15,
   "metadata": {},
   "outputs": [
    {
     "name": "stderr",
     "output_type": "stream",
     "text": [
      "┌ Info: Assembling operator, the Newton stopping options are \n",
      "│ \t\t\tϵ = 1.0e-14, max_iter = 100\n",
      "└ @ RigorousInvariantMeasures /home/mutare/.julia/packages/RigorousInvariantMeasures/YDNtu/src/GenericAssembler.jl:102\n",
      "\u001b[32mComputing preimages... 100%|█████████████████████████████| Time: 0:00:02\u001b[39m\n"
     ]
    },
    {
     "data": {
      "text/plain": [
       "IntegralPreservingDiscretizedOperator{SparseArrays.SparseMatrixCSC{Interval{Float64}, Int64}}(sparse([80, 81, 82, 83, 84, 85, 86, 86, 87, 88  …  305, 306, 306, 306, 306, 307, 307, 307, 307, 308], [1, 1, 1, 1, 1, 1, 1, 2, 2, 2  …  1018, 1018, 1019, 1020, 1021, 1021, 1022, 1023, 1024, 1024], Interval{Float64}[[0.0554832, 0.0554833], [0.158226, 0.158227], [0.15803, 0.158031], [0.157834, 0.157835], [0.157638, 0.157639], [0.157442, 0.157443], [0.155344, 0.155345], [0.00190129, 0.0019013], [0.15705, 0.157051], [0.156854, 0.156855]  …  [0.00295097, 0.00295098], [0.997049, 0.99705], [1, 1], [1, 1], [0.320238, 0.320239], [0.679761, 0.679762], [1, 1], [1, 1], [0.738862, 0.738863], [0.261137, 0.261138]], 1024, 1024))"
      ]
     },
     "execution_count": 15,
     "metadata": {},
     "output_type": "execute_result"
    }
   ],
   "source": [
    "Q = DiscretizedOperator(B, D1)"
   ]
  },
  {
   "cell_type": "code",
   "execution_count": 16,
   "metadata": {},
   "outputs": [
    {
     "data": {
      "text/plain": [
       "1024×1024 SparseArrays.SparseMatrixCSC{Interval{Float64}, Int64} with 6240 stored entries:\n",
       "⠀⠀⠸⡄⢸⠀⠀⠀⠀⠀⠀⠈⡇⠀⠀⠀⠀⠀⠀⠀⠀⠀⠀⠀⠀⠳⣄⠀⠀⠀⠀⠀⠀⠀⠀⠀⠀⠀⠀⠀\n",
       "⡄⠀⠀⡇⠈⡇⠀⠀⢧⠀⠀⠀⢳⢧⠀⠀⠀⢧⠀⠀⠀⠀⠀⠀⠀⠀⠈⢧⡀⠀⠀⠀⠀⠀⠀⠀⠀⠀⠀⠀\n",
       "⢧⠀⠀⢹⠀⢹⠀⠀⢸⡀⠀⠀⠘⣾⠀⠀⠀⠘⡆⠀⠀⠀⠀⠀⠀⠀⠀⠀⠙⢦⡀⠀⠀⠀⠀⠀⠀⠀⠀⠀\n",
       "⢸⠀⠀⢸⡀⠈⡇⠀⠀⡇⠀⠀⠀⠋⡇⠀⠀⠀⢹⡀⠀⠀⠀⠀⠀⠀⠀⠀⠀⠀⠙⢦⡀⠀⠀⠀⠀⠀⠀⠀\n",
       "⠘⡆⠀⠀⡇⠀⢳⠀⠀⢳⠀⠀⠀⠀⢹⠀⠀⠀⠀⢧⠀⠀⠀⠀⠀⠀⠀⠀⠀⠀⠀⠀⠙⠲⣄⡀⠀⠀⠀⠀\n",
       "⠀⡇⠀⠀⢧⠀⢸⡀⠀⢸⡀⠀⠀⠀⠘⡆⠀⠀⠀⠘⡆⠀⠀⠀⠀⠀⠀⠀⠀⠀⠀⠀⠀⠀⠀⠉⠳⠤⣄⣀\n",
       "⠀⢳⠀⠀⠈⠀⠀⡇⠀⠀⡇⠀⠀⠀⠀⢧⠀⠀⠀⠀⢳⠀⠀⠀⠀⠀⠀⠀⠀⠀⠀⠀⠀⠀⠀⠀⠀⠀⠀⠈\n",
       "⠀⢸⠀⠀⠀⠀⠀⢧⠀⠀⢧⠀⠀⠀⠀⢸⠀⠀⠀⠀⠈⣇⠀⠀⠀⠀⠀⠀⠀⠀⠀⠀⠀⠀⠀⠀⠀⠀⠀⠀\n",
       "⠀⢸⡀⠀⠀⠀⠀⢸⠀⠀⢸⠀⠀⠀⠀⠈⡇⠀⠀⠀⠀⢸⡀⠀⠀⠀⠀⠀⠀⠀⠀⠀⠀⠀⠀⠀⠀⠀⠀⠀\n",
       "⠀⠀⡇⠀⠀⠀⠀⢸⠀⠀⢸⡀⠀⠀⠀⠀⣇⠀⠀⠀⠀⠀⢧⠀⠀⠀⠀⠀⠀⠀⠀⠀⠀⠀⠀⠀⠀⠀⠀⠀\n",
       "⠀⠀⡇⠀⠀⠀⠀⠘⡆⠀⠀⡇⠀⠀⠀⠀⢸⠀⠀⠀⠀⠀⠸⡄⠀⠀⠀⠀⠀⠀⠀⠀⠀⠀⠀⠀⠀⠀⠀⠀\n",
       "⠀⠀⡇⠀⠀⠀⠀⠀⡇⠀⠀⡇⠀⠀⠀⠀⢸⠀⠀⠀⠀⠀⠀⣇⠀⠀⠀⠀⠀⠀⠀⠀⠀⠀⠀⠀⠀⠀⠀⠀\n",
       "⠀⠀⢧⠀⠀⠀⠀⠀⡇⠀⠀⣇⠀⠀⠀⠀⢸⡀⠀⠀⠀⠀⠀⢸⡀⠀⠀⠀⠀⠀⠀⠀⠀⠀⠀⠀⠀⠀⠀⠀\n",
       "⠀⠀⢸⠀⠀⠀⠀⠀⡇⠀⠀⢸⠀⠀⠀⠀⠀⡇⠀⠀⠀⠀⠀⠀⡇⠀⠀⠀⠀⠀⠀⠀⠀⠀⠀⠀⠀⠀⠀⠀\n",
       "⠀⠀⢸⠀⠀⠀⠀⠀⡇⠀⠀⢸⠀⠀⠀⠀⠀⡇⠀⠀⠀⠀⠀⠀⢳⠀⠀⠀⠀⠀⠀⠀⠀⠀⠀⠀⠀⠀⠀⠀\n",
       "⠀⠀⢸⠀⠀⠀⠀⠀⠃⠀⠀⢸⠀⠀⠀⠀⠀⠃⠀⠀⠀⠀⠀⠀⢸⠀⠀⠀⠀⠀⠀⠀⠀⠀⠀⠀⠀⠀⠀⠀\n",
       "⠀⠀⢸⠀⠀⠀⠀⠀⠀⠀⠀⢸⠀⠀⠀⠀⠀⠀⠀⠀⠀⠀⠀⠀⠈⡇⠀⠀⠀⠀⠀⠀⠀⠀⠀⠀⠀⠀⠀⠀\n",
       "⠀⠀⢸⠀⠀⠀⠀⠀⠀⠀⠀⢸⠀⠀⠀⠀⠀⠀⠀⠀⠀⠀⠀⠀⠀⡇⠀⠀⠀⠀⠀⠀⠀⠀⠀⠀⠀⠀⠀⠀\n",
       "⠀⠀⢸⠀⠀⠀⠀⠀⠀⠀⠀⢸⠀⠀⠀⠀⠀⠀⠀⠀⠀⠀⠀⠀⠀⡇⠀⠀⠀⠀⠀⠀⠀⠀⠀⠀⠀⠀⠀⠀\n",
       "⠀⠀⢸⠀⠀⠀⠀⠀⠀⠀⠀⢸⠀⠀⠀⠀⠀⠀⠀⠀⠀⠀⠀⠀⠀⡇⠀⠀⠀⠀⠀⠀⠀⠀⠀⠀⠀⠀⠀⠀"
      ]
     },
     "execution_count": 16,
     "metadata": {},
     "output_type": "execute_result"
    }
   ],
   "source": [
    "Q.L"
   ]
  },
  {
   "cell_type": "code",
   "execution_count": 17,
   "metadata": {},
   "outputs": [
    {
     "data": {
      "text/plain": [
       "32-element Vector{Float64}:\n",
       " 1.0000000004207834\n",
       " 1.000000000841567\n",
       " 1.0000000012623507\n",
       " 1.0000000016831343\n",
       " 0.7733171905010344\n",
       " 0.13881952672221465\n",
       " 0.02393486985274742\n",
       " 0.004678518844420005\n",
       " 0.004678518846388648\n",
       " 0.004678518848357291\n",
       " 0.004678518850325934\n",
       " 0.004678518852294577\n",
       " 0.0033226273051162004\n",
       " ⋮\n",
       " 1.3711760248667462e-5\n",
       " 2.680220494543285e-6\n",
       " 5.238993221215319e-7\n",
       " 1.0240594021208357e-7\n",
       " 1.0240594025517428e-7\n",
       " 1.02405940298265e-7\n",
       " 1.0240594034135572e-7\n",
       " 1.0240594038444645e-7\n",
       " 6.415072871355986e-8\n",
       " 1.2539462090921464e-8\n",
       " 2.4510728511244536e-9\n",
       " 4.791081210627813e-10"
      ]
     },
     "execution_count": 17,
     "metadata": {},
     "output_type": "execute_result"
    }
   ],
   "source": [
    "norms = powernormbounds(B, D1; Q=Q)"
   ]
  },
  {
   "cell_type": "code",
   "execution_count": 18,
   "metadata": {},
   "outputs": [
    {
     "data": {
      "text/plain": [
       "1024-element Vector{Float64}:\n",
       " -4.2661165245578483e-16\n",
       " -4.2661165245578483e-16\n",
       " -4.2661165245578483e-16\n",
       " -4.2661165245578483e-16\n",
       "  0.7297273199145208\n",
       "  1.2847582391508332\n",
       "  1.3610503799032034\n",
       "  1.4205066689317036\n",
       "  1.468720532782819\n",
       "  1.5083612954091543\n",
       "  1.5401772649456635\n",
       "  1.5663905179859792\n",
       "  1.5903907221964941\n",
       "  ⋮\n",
       "  0.011710421762654763\n",
       "  0.010880634925374524\n",
       "  0.010051598530520225\n",
       "  0.009223314057124439\n",
       "  0.008395782987737311\n",
       "  0.007569006785986577\n",
       "  0.006742986924794804\n",
       "  0.0059177248613322036\n",
       "  0.005093222053964882\n",
       "  0.00426947995084941\n",
       "  0.003446499995662586\n",
       "  0.0026231929379645145"
      ]
     },
     "execution_count": 18,
     "metadata": {},
     "output_type": "execute_result"
    }
   ],
   "source": [
    "w = invariant_vector(B, Q)"
   ]
  },
  {
   "cell_type": "code",
   "execution_count": 19,
   "metadata": {},
   "outputs": [
    {
     "data": {
      "text/plain": [
       "TotalVariation"
      ]
     },
     "execution_count": 19,
     "metadata": {},
     "output_type": "execute_result"
    }
   ],
   "source": [
    "strong_norm(B)"
   ]
  },
  {
   "cell_type": "code",
   "execution_count": 20,
   "metadata": {},
   "outputs": [
    {
     "data": {
      "text/plain": [
       "L1"
      ]
     },
     "execution_count": 20,
     "metadata": {},
     "output_type": "execute_result"
    }
   ],
   "source": [
    "aux_norm(B)"
   ]
  },
  {
   "cell_type": "code",
   "execution_count": 21,
   "metadata": {},
   "outputs": [],
   "source": [
    "using Plots, LaTeXStrings"
   ]
  },
  {
   "cell_type": "code",
   "execution_count": 22,
   "metadata": {},
   "outputs": [
    {
     "name": "stderr",
     "output_type": "stream",
     "text": [
      "┌ Error: Expansivity is insufficient to prove a DFLY. Try with an iterate.\n",
      "└ @ RigorousInvariantMeasures /home/mutare/.julia/packages/RigorousInvariantMeasures/YDNtu/src/Norms.jl:224\n"
     ]
    },
    {
     "data": {
      "text/plain": [
       "(Inf, Inf)"
      ]
     },
     "execution_count": 22,
     "metadata": {},
     "output_type": "execute_result"
    }
   ],
   "source": [
    "dfly_coefficients = dfly(strong_norm(B), aux_norm(B), D1)"
   ]
  },
  {
   "cell_type": "code",
   "execution_count": 25,
   "metadata": {},
   "outputs": [
    {
     "data": {
      "text/plain": [
       "RigorousInvariantMeasures.ComposedDynamic((RigorousInvariantMeasures.ComposedDynamic((Piecewise-defined dynamic with 3 branches, Piecewise-defined dynamic with 3 branches), Piecewise-defined dynamic with 8 branches), Piecewise-defined dynamic with 3 branches), Piecewise-defined dynamic with 21 branches)"
      ]
     },
     "execution_count": 25,
     "metadata": {},
     "output_type": "execute_result"
    }
   ],
   "source": [
    "E3 = D ∘ D ∘ D"
   ]
  },
  {
   "cell_type": "code",
   "execution_count": 26,
   "metadata": {},
   "outputs": [
    {
     "data": {
      "text/plain": [
       "RigorousInvariantMeasures.ComposedDynamic((RigorousInvariantMeasures.ComposedDynamic((Piecewise-defined dynamic with 1 branches, RigorousInvariantMeasures.ComposedDynamic((RigorousInvariantMeasures.ComposedDynamic((Piecewise-defined dynamic with 3 branches, Piecewise-defined dynamic with 3 branches), Piecewise-defined dynamic with 8 branches), Piecewise-defined dynamic with 3 branches), Piecewise-defined dynamic with 21 branches)), Piecewise-defined dynamic with 21 branches), Piecewise-defined dynamic with 1 branches), Piecewise-defined dynamic with 21 branches)"
      ]
     },
     "execution_count": 26,
     "metadata": {},
     "output_type": "execute_result"
    }
   ],
   "source": [
    "D3 = beta ∘ E3 ∘ alpha"
   ]
  },
  {
   "cell_type": "code",
   "execution_count": 27,
   "metadata": {},
   "outputs": [
    {
     "name": "stderr",
     "output_type": "stream",
     "text": [
      "┌ Info: Assembling operator, the Newton stopping options are \n",
      "│ \t\t\tϵ = 1.0e-14, max_iter = 100\n",
      "└ @ RigorousInvariantMeasures /home/mutare/.julia/packages/RigorousInvariantMeasures/YDNtu/src/GenericAssembler.jl:102\n",
      "\u001b[32mComputing preimages... 100%|█████████████████████████████| Time: 0:00:02\u001b[39m\n"
     ]
    },
    {
     "data": {
      "text/plain": [
       "IntegralPreservingDiscretizedOperator{SparseArrays.SparseMatrixCSC{Interval{Float64}, Int64}}(sparse([71, 72, 73, 74, 75, 76, 77, 78, 79, 80  …  114, 113, 112, 113, 111, 112, 111, 110, 111, 110], [1, 1, 1, 1, 1, 1, 1, 1, 1, 1  …  1018, 1019, 1020, 1020, 1021, 1021, 1022, 1023, 1023, 1024], Interval{Float64}[[0.0438122, 0.0438123], [0.0638026, 0.0638027], [0.0637437, 0.0637438], [0.0636848, 0.0636849], [0.0636258, 0.0636259], [0.0635669, 0.063567], [0.0635079, 0.063508], [0.0634488, 0.0634489], [0.0633898, 0.0633899], [0.0633307, 0.0633308]  …  [0.401192, 0.401193], [1, 1], [0.848946, 0.848947], [0.151053, 0.151054], [0.0677658, 0.0677659], [0.932234, 0.932235], [1, 1], [0.253775, 0.253776], [0.746224, 0.746225], [1, 1]], 1024, 1024))"
      ]
     },
     "execution_count": 27,
     "metadata": {},
     "output_type": "execute_result"
    }
   ],
   "source": [
    "Q = DiscretizedOperator(B, D3)"
   ]
  },
  {
   "cell_type": "code",
   "execution_count": 28,
   "metadata": {},
   "outputs": [
    {
     "data": {
      "text/plain": [
       "1024×1024 SparseArrays.SparseMatrixCSC{Interval{Float64}, Int64} with 13967 stored entries:\n",
       "⡇⠀⢸⡼⠀⣸⠀⠀⢸⠀⠀⢸⢸⢸⠀⠀⠀⢸⠀⠀⠀⠀⠀⠀⢀⡇⠀⠀⡼⠀⠀⠀⠀⠀⠀⠀⠀⠀⠀⠀\n",
       "⡇⡼⢸⡇⠀⡇⠀⡇⣿⠀⡇⢸⢸⣸⠀⡏⠀⣿⠀⠀⣸⠀⠀⠀⡞⠀⠀⢰⠃⠀⠀⠀⠀⠀⠀⠀⠀⠀⠀⠀\n",
       "⠀⡇⡞⡇⢸⡇⢠⠇⡏⢰⠃⡞⡼⡇⠀⡇⢸⡇⠀⠀⡇⠀⠀⣸⠁⠀⢀⡏⠀⠀⠀⠀⠀⠀⠀⠀⠀⢀⡴⠚\n",
       "⠀⡇⡇⡇⣿⠁⢸⠀⡇⢸⠀⡇⡇⠃⢰⠃⢸⠃⠀⢰⠃⠀⢀⡇⠀⠀⡼⠀⠀⠀⠀⠀⠀⠀⠀⢀⡴⠋⠀⠀\n",
       "⠀⡇⣇⡇⣿⠀⢸⢸⠁⢸⢠⠇⡇⠀⢸⠀⣸⠀⠀⢸⠀⠀⣸⠀⠀⢠⠇⠀⠀⠀⠀⠀⠀⠀⣠⠏⠀⠀⠀⠀\n",
       "⠀⡇⣿⠀⣿⠀⢸⢸⠀⢸⢸⢀⡇⠀⢸⠀⡇⠀⠀⡏⠀⠀⡇⠀⠀⣸⠀⠀⠀⠀⠀⠀⠀⣰⠃⠀⠀⠀⠀⠀\n",
       "⢸⢹⠉⠀⡏⠀⡏⢸⠀⡞⢸⠈⠀⠀⡞⠀⡇⠀⠀⡇⠀⢰⠃⠀⠀⠁⠀⠀⠀⠀⠀⠀⢰⠃⠀⠀⠀⠀⠀⠀\n",
       "⢸⢸⠀⢀⡇⠀⡇⢸⠀⡇⢸⠀⠀⠀⡇⢀⡇⠀⢠⠇⠀⢸⠀⠀⠀⠀⠀⠀⠀⠀⠀⢠⠏⠀⠀⠀⠀⠀⠀⠀\n",
       "⢸⢸⠀⢸⠀⠀⡇⡼⠀⡇⡼⠀⠀⠀⡇⢸⠀⠀⢸⠀⠀⡏⠀⠀⠀⠀⠀⠀⠀⠀⠀⡼⠀⠀⠀⠀⠀⠀⠀⠀\n",
       "⢸⢸⠀⢸⠀⠀⡇⡇⠀⡇⡇⠀⠀⡆⡇⢸⠀⠀⢸⠀⠀⡇⠀⠀⠀⠀⠀⠀⠀⠀⢰⠃⠀⠀⠀⠀⠀⠀⠀⠀\n",
       "⢸⢸⠀⢸⠀⢠⠇⡇⠀⡇⡇⠀⠀⡇⡇⢸⠀⠀⡼⠀⠀⡇⠀⠀⠀⠀⠀⠀⠀⠀⡼⠀⠀⠀⠀⠀⠀⠀⠀⠀\n",
       "⢸⢸⠀⢸⠀⢸⠀⡇⠀⡇⡇⠀⠀⣿⠁⢸⠀⠀⡇⠀⢰⠃⠀⠀⠀⠀⠀⠀⠀⢀⡇⠀⠀⠀⠀⠀⠀⠀⠀⠀\n",
       "⢸⢸⠀⢸⠀⢸⠀⡇⢰⠃⡇⠀⠀⣿⠀⢸⠀⠀⡇⠀⢸⠀⠀⠀⠀⠀⠀⠀⠀⢸⠀⠀⠀⠀⠀⠀⠀⠀⠀⠀\n",
       "⢸⢸⠀⢸⠀⢸⠀⡇⢸⠀⡇⠀⠀⣿⠀⢸⠀⠀⡇⠀⢸⠀⠀⠀⠀⠀⠀⠀⠀⡼⠀⠀⠀⠀⠀⠀⠀⠀⠀⠀\n",
       "⢸⢸⠀⢸⠀⢸⠀⡇⢸⠀⡇⠀⠀⣿⠀⢸⠀⠀⡇⠀⢸⠀⠀⠀⠀⠀⠀⠀⠀⡇⠀⠀⠀⠀⠀⠀⠀⠀⠀⠀\n",
       "⡏⠘⠀⢸⠀⢸⠀⠃⢸⠀⠃⠀⠀⣿⠀⠘⠀⠀⡇⠀⠘⠀⠀⠀⠀⠀⠀⠀⠀⡇⠀⠀⠀⠀⠀⠀⠀⠀⠀⠀\n",
       "⡇⠀⠀⢸⠀⢸⠀⠀⢸⠀⠀⠀⢸⢹⠀⠀⠀⠀⡇⠀⠀⠀⠀⠀⠀⠀⠀⠀⢀⡇⠀⠀⠀⠀⠀⠀⠀⠀⠀⠀\n",
       "⡇⠀⠀⢸⠀⢸⠀⠀⢸⠀⠀⠀⢸⢸⠀⠀⠀⢰⠃⠀⠀⠀⠀⠀⠀⠀⠀⠀⢸⠀⠀⠀⠀⠀⠀⠀⠀⠀⠀⠀\n",
       "⡇⠀⠀⢸⠀⢸⠀⠀⢸⠀⠀⠀⢸⢸⠀⠀⠀⢸⠀⠀⠀⠀⠀⠀⠀⠀⠀⠀⢸⠀⠀⠀⠀⠀⠀⠀⠀⠀⠀⠀\n",
       "⡇⠀⠀⢸⠀⢸⠀⠀⢸⠀⠀⠀⢸⢸⠀⠀⠀⢸⠀⠀⠀⠀⠀⠀⠀⠀⠀⠀⢸⠀⠀⠀⠀⠀⠀⠀⠀⠀⠀⠀"
      ]
     },
     "execution_count": 28,
     "metadata": {},
     "output_type": "execute_result"
    }
   ],
   "source": [
    "Q.L"
   ]
  },
  {
   "cell_type": "code",
   "execution_count": 29,
   "metadata": {},
   "outputs": [
    {
     "data": {
      "text/plain": [
       "16-element Vector{Float64}:\n",
       " 1.0000000007188419\n",
       " 1.000000001437684\n",
       " 1.000000002156526\n",
       " 0.2458680591937267\n",
       " 0.024029318749878414\n",
       " 0.0028736657565449075\n",
       " 0.0002890378882787349\n",
       " 3.1535872767966854e-5\n",
       " 3.1535872790636166e-5\n",
       " 3.153587281330548e-5\n",
       " 3.153587283597479e-5\n",
       " 6.945383548241467e-6\n",
       " 7.577855387970861e-7\n",
       " 8.354290086063042e-8\n",
       " 9.115062069880002e-9\n",
       " 9.945112712373935e-10"
      ]
     },
     "execution_count": 29,
     "metadata": {},
     "output_type": "execute_result"
    }
   ],
   "source": [
    "norms = powernormbounds(B, D3; Q=Q)"
   ]
  },
  {
   "cell_type": "code",
   "execution_count": 30,
   "metadata": {},
   "outputs": [
    {
     "data": {
      "text/plain": [
       "1024-element Vector{Float64}:\n",
       " -6.740057347222538e-16\n",
       " -6.740057347222538e-16\n",
       " -6.740057347222538e-16\n",
       " -6.740057347222538e-16\n",
       "  0.730584478538802\n",
       "  1.2855259866863313\n",
       "  1.3631012313694921\n",
       "  1.4236109547042395\n",
       "  1.4711625552148784\n",
       "  1.487486253150185\n",
       "  1.5054858940359264\n",
       "  1.5334821782531554\n",
       "  1.5575196687776118\n",
       "  ⋮\n",
       "  0.011728873795607282\n",
       "  0.010897622407584462\n",
       "  0.01006715722881946\n",
       "  0.009237477070690909\n",
       "  0.008408580748758323\n",
       "  0.007580467072914554\n",
       "  0.006753134859802471\n",
       "  0.0059265829346385225\n",
       "  0.0051008101149378855\n",
       "  0.004275815230112459\n",
       "  0.0034515970993545734\n",
       "  0.0026270622603914977"
      ]
     },
     "execution_count": 30,
     "metadata": {},
     "output_type": "execute_result"
    }
   ],
   "source": [
    "w = invariant_vector(B, Q)"
   ]
  },
  {
   "cell_type": "code",
   "execution_count": 31,
   "metadata": {},
   "outputs": [
    {
     "data": {
      "text/plain": [
       "TotalVariation"
      ]
     },
     "execution_count": 31,
     "metadata": {},
     "output_type": "execute_result"
    }
   ],
   "source": [
    "strong_norm(B)"
   ]
  },
  {
   "cell_type": "code",
   "execution_count": 32,
   "metadata": {},
   "outputs": [
    {
     "data": {
      "text/plain": [
       "L1"
      ]
     },
     "execution_count": 32,
     "metadata": {},
     "output_type": "execute_result"
    }
   ],
   "source": [
    "aux_norm(B)"
   ]
  },
  {
   "cell_type": "code",
   "execution_count": 33,
   "metadata": {},
   "outputs": [
    {
     "name": "stderr",
     "output_type": "stream",
     "text": [
      "┌ Error: Expansivity is insufficient to prove a DFLY. Try with an iterate.\n",
      "└ @ RigorousInvariantMeasures /home/mutare/.julia/packages/RigorousInvariantMeasures/YDNtu/src/Norms.jl:224\n"
     ]
    },
    {
     "data": {
      "text/plain": [
       "(Inf, Inf)"
      ]
     },
     "execution_count": 33,
     "metadata": {},
     "output_type": "execute_result"
    }
   ],
   "source": [
    "dfly_coefficients = dfly(strong_norm(B), aux_norm(B), D3)"
   ]
  },
  {
   "cell_type": "code",
   "execution_count": 34,
   "metadata": {},
   "outputs": [
    {
     "data": {
      "text/plain": [
       "RigorousInvariantMeasures.ComposedDynamic((RigorousInvariantMeasures.ComposedDynamic((RigorousInvariantMeasures.ComposedDynamic((Piecewise-defined dynamic with 3 branches, Piecewise-defined dynamic with 3 branches), Piecewise-defined dynamic with 8 branches), Piecewise-defined dynamic with 3 branches), Piecewise-defined dynamic with 21 branches), Piecewise-defined dynamic with 3 branches), Piecewise-defined dynamic with 52 branches)"
      ]
     },
     "execution_count": 34,
     "metadata": {},
     "output_type": "execute_result"
    }
   ],
   "source": [
    "E4 = D ∘ D ∘ D ∘ D"
   ]
  },
  {
   "cell_type": "code",
   "execution_count": 35,
   "metadata": {},
   "outputs": [
    {
     "data": {
      "text/plain": [
       "RigorousInvariantMeasures.ComposedDynamic((RigorousInvariantMeasures.ComposedDynamic((Piecewise-defined dynamic with 1 branches, RigorousInvariantMeasures.ComposedDynamic((RigorousInvariantMeasures.ComposedDynamic((RigorousInvariantMeasures.ComposedDynamic((Piecewise-defined dynamic with 3 branches, Piecewise-defined dynamic with 3 branches), Piecewise-defined dynamic with 8 branches), Piecewise-defined dynamic with 3 branches), Piecewise-defined dynamic with 21 branches), Piecewise-defined dynamic with 3 branches), Piecewise-defined dynamic with 52 branches)), Piecewise-defined dynamic with 52 branches), Piecewise-defined dynamic with 1 branches), Piecewise-defined dynamic with 52 branches)"
      ]
     },
     "execution_count": 35,
     "metadata": {},
     "output_type": "execute_result"
    }
   ],
   "source": [
    "D4 = beta ∘ E4 ∘ alpha"
   ]
  },
  {
   "cell_type": "code",
   "execution_count": 36,
   "metadata": {},
   "outputs": [
    {
     "name": "stderr",
     "output_type": "stream",
     "text": [
      "┌ Info: Assembling operator, the Newton stopping options are \n",
      "│ \t\t\tϵ = 1.0e-14, max_iter = 100\n",
      "└ @ RigorousInvariantMeasures /home/mutare/.julia/packages/RigorousInvariantMeasures/YDNtu/src/GenericAssembler.jl:102\n",
      "\u001b[32mComputing preimages... 100%|█████████████████████████████| Time: 0:00:02\u001b[39m\n",
      "\u001b[32mComputing preimages... 100%|█████████████████████████████| Time: 0:00:04\u001b[39m\n"
     ]
    },
    {
     "data": {
      "text/plain": [
       "IntegralPreservingDiscretizedOperator{SparseArrays.SparseMatrixCSC{Interval{Float64}, Int64}}(sparse([71, 72, 73, 74, 75, 76, 77, 78, 79, 80  …  11, 11, 12, 12, 13, 13, 14, 14, 15, 16], [1, 1, 1, 1, 1, 1, 1, 1, 1, 1  …  1020, 1021, 1021, 1022, 1022, 1023, 1023, 1024, 1024, 1024], Interval{Float64}[[0.0236542, 0.0236543], [0.0255524, 0.0255525], [0.0255256, 0.0255257], [0.0254989, 0.025499], [0.0254721, 0.0254722], [0.0254453, 0.0254454], [0.0254186, 0.0254187], [0.0253919, 0.025392], [0.0253651, 0.0253652], [0.0253384, 0.0253385]  …  [0.11405, 0.114051], [0.67606, 0.676061], [0.323939, 0.32394], [0.471419, 0.47142], [0.52858, 0.528581], [0.272136, 0.272137], [0.727863, 0.727864], [0.0783224, 0.0783225], [0.811771, 0.811772], [0.109905, 0.109906]], 1024, 1024))"
      ]
     },
     "execution_count": 36,
     "metadata": {},
     "output_type": "execute_result"
    }
   ],
   "source": [
    "Q = DiscretizedOperator(B, D4)"
   ]
  },
  {
   "cell_type": "code",
   "execution_count": 37,
   "metadata": {},
   "outputs": [
    {
     "data": {
      "text/plain": [
       "1024×1024 SparseArrays.SparseMatrixCSC{Interval{Float64}, Int64} with 32098 stored entries:\n",
       "⡇⡇⢸⣿⠘⣿⠀⡇⣿⠀⡇⢳⢸⣿⠀⡇⠘⡿⡄⠀⡇⠀⠀⠸⡄⠀⠀⣇⠸⡄⠀⠀⠀⠀⠀⠀⠀⠀⠀⠙\n",
       "⣿⣿⢸⣿⡇⣿⡇⣿⣿⣇⣿⢸⢸⣿⢳⣿⡇⣿⡇⡇⢻⠸⡄⠀⡇⠀⠀⢸⠀⣇⠀⠀⠸⡄⠀⠀⠀⠀⠀⠀\n",
       "⣿⣿⣿⣿⣿⣿⢹⣿⣿⣼⣿⢸⣾⣿⢸⣿⡇⣿⡇⡇⢸⠀⡇⠀⢳⢧⠀⠸⡄⢸⡀⠀⠀⢧⠀⠀⠀⠀⠀⠀\n",
       "⣿⣿⣿⣿⣿⣿⣸⣿⢻⣿⣿⢸⣿⣿⣾⢸⡇⢻⣇⣇⠘⡆⡇⠀⢸⣸⠀⠀⡇⠀⡇⠀⠀⠸⡄⠀⠀⠀⠀⠀\n",
       "⣿⣿⣿⣿⣿⢹⣿⣿⢸⣿⣿⢸⣿⣿⣿⢸⡇⢸⢸⢸⠀⡇⢧⠀⠀⣿⠀⠀⢧⠀⢹⠀⠀⠀⢧⠀⠀⠀⠀⠀\n",
       "⣿⣿⣿⣿⣿⢸⣿⣿⢸⣿⡏⣿⣿⢻⣿⢸⢹⢸⢸⢸⠀⡇⢸⠀⠀⡏⡇⠀⢸⠀⠘⡆⠀⠀⠸⡄⠀⠀⠀⠀\n",
       "⢹⣿⡏⣿⣿⠈⣿⢻⡈⣿⢳⡏⡏⠈⣿⢸⢸⠈⢸⢸⠀⡇⢸⠀⠀⠁⡇⠀⠈⠀⠀⣇⠀⠀⠀⢧⠀⠀⠀⠀\n",
       "⢸⣿⡇⣿⣿⠀⣿⢸⡇⣿⢸⡇⡇⠀⣿⢸⢸⠀⢸⢸⠀⢧⠸⡄⠀⠀⡇⠀⠀⠀⠀⢸⠀⠀⠀⠸⡄⠀⠀⠀\n",
       "⢸⣿⡇⡏⣿⠀⣿⢸⡇⣿⢸⡇⡇⠀⣿⠘⣾⠀⢸⢸⠀⢸⠀⡇⠀⠀⢹⠀⠀⠀⠀⠸⡄⠀⠀⠀⣇⠀⠀⠀\n",
       "⢸⣿⡇⡇⣿⠀⣿⢸⡇⣿⢸⡇⡇⡆⡏⡇⣿⡆⠘⡾⡄⢸⠀⡇⠀⠀⢸⠀⠀⠀⠀⠀⡇⠀⠀⠀⢸⡀⠀⠀\n",
       "⢸⣿⡇⡇⣟⡆⣿⢸⡇⣿⢸⡇⡇⡇⡇⡇⣿⡇⠀⡇⡇⢸⠀⡇⠀⠀⢸⠀⠀⠀⠀⠀⡇⠀⠀⠀⠀⡇⠀⠀\n",
       "⢸⣿⡇⡇⣿⡇⣿⢸⡇⣿⢸⡇⡇⡇⡇⡇⣿⡇⠀⡇⡇⢸⠀⣇⠀⠀⢸⠀⠀⠀⠀⠀⢧⠀⠀⠀⠀⢹⠀⠀\n",
       "⢸⣿⡇⡇⣿⡇⣿⢸⡇⣿⢸⡇⡇⡇⡇⡇⣿⡇⠀⡇⡇⢸⠀⢸⠀⠀⠘⡆⠀⠀⠀⠀⢸⠀⠀⠀⠀⠸⡄⠀\n",
       "⢸⣿⡇⡇⣿⡇⣿⢸⡇⣿⢸⡇⣇⡇⡇⡇⣿⡇⠀⡇⡇⢸⠀⢸⠀⠀⠀⡇⠀⠀⠀⠀⢸⠀⠀⠀⠀⠀⡇⠀\n",
       "⢸⣿⡇⡇⣿⡇⡟⣾⡇⣿⢸⡇⢸⡇⡇⡇⣿⡇⠀⡇⡇⢸⠀⢸⠀⠀⠀⡇⠀⠀⠀⠀⢸⠀⠀⠀⠀⠀⢹⠀\n",
       "⠘⡟⡇⡇⢻⡇⠃⡟⡇⠛⡞⡇⢸⡇⠃⡇⢻⡇⠀⠃⡇⠘⠀⢸⠀⠀⠀⡇⠀⠀⠀⠀⠘⠀⠀⠀⠀⠀⢸⡀\n",
       "⠀⡇⣇⡇⢸⡇⠀⡇⡇⠀⡇⡇⢸⡇⠀⡇⢸⡇⠀⠀⡇⠀⠀⢸⠀⠀⠀⡇⠀⠀⠀⠀⠀⠀⠀⠀⠀⠀⠀⡇\n",
       "⠀⡇⢸⡇⢸⡇⠀⡇⡇⠀⡇⡇⢸⡇⠀⡇⢸⡇⠀⠀⡇⠀⠀⢸⠀⠀⠀⡇⠀⠀⠀⠀⠀⠀⠀⠀⠀⠀⠀⡇\n",
       "⠀⡇⢸⡇⢸⡇⠀⡇⡇⠀⡇⡇⢸⡇⠀⡇⢸⡇⠀⠀⡇⠀⠀⢸⠀⠀⠀⡇⠀⠀⠀⠀⠀⠀⠀⠀⠀⠀⠀⡇\n",
       "⠀⡇⢸⡇⢸⡇⠀⡇⡇⠀⡇⡇⢸⡇⠀⡇⢸⡇⠀⠀⡇⠀⠀⢸⠀⠀⠀⡇⠀⠀⠀⠀⠀⠀⠀⠀⠀⠀⠀⡇"
      ]
     },
     "execution_count": 37,
     "metadata": {},
     "output_type": "execute_result"
    }
   ],
   "source": [
    "Q.L"
   ]
  },
  {
   "cell_type": "code",
   "execution_count": 38,
   "metadata": {},
   "outputs": [
    {
     "data": {
      "text/plain": [
       "16-element Vector{Float64}:\n",
       " 1.0000000020376092\n",
       " 1.0000000040752186\n",
       " 0.3579187904896422\n",
       " 0.01894426076536736\n",
       " 0.0007098033378380353\n",
       " 3.799497535508657e-5\n",
       " 2.236110665197008e-6\n",
       " 1.307901066364378e-7\n",
       " 1.3079010690293695e-7\n",
       " 1.307901071694361e-7\n",
       " 2.6968960328114337e-8\n",
       " 1.4436181522336359e-9\n",
       " 8.496096961540656e-11\n",
       " 4.969366878340599e-12\n",
       " 2.924611523519926e-13\n",
       " 1.7106051993970774e-14"
      ]
     },
     "execution_count": 38,
     "metadata": {},
     "output_type": "execute_result"
    }
   ],
   "source": [
    "norms = powernormbounds(B, D4; Q=Q)"
   ]
  },
  {
   "cell_type": "code",
   "execution_count": 39,
   "metadata": {},
   "outputs": [
    {
     "data": {
      "text/plain": [
       "1024-element Vector{Float64}:\n",
       " -6.627219060833329e-16\n",
       " -6.627219060833329e-16\n",
       " -6.627219060833329e-16\n",
       " -6.627219060833329e-16\n",
       "  0.7298875355987295\n",
       "  1.2842919525104626\n",
       "  1.3615036438727415\n",
       "  1.4212507533354766\n",
       "  1.4689482638007862\n",
       "  1.5077216033428518\n",
       "  1.539767068114428\n",
       "  1.5668499125919997\n",
       "  1.59012911912509\n",
       "  ⋮\n",
       "  0.011717110921937224\n",
       "  0.01088675400805806\n",
       "  0.010057169119439149\n",
       "  0.009228356105760158\n",
       "  0.008400314822781458\n",
       "  0.007573045102398925\n",
       "  0.006746546797474375\n",
       "  0.005920819754276137\n",
       "  0.0050958638101397695\n",
       "  0.004271678821939082\n",
       "  0.0034482646147843345\n",
       "  0.002624529795510638"
      ]
     },
     "execution_count": 39,
     "metadata": {},
     "output_type": "execute_result"
    }
   ],
   "source": [
    "w = invariant_vector(B, Q)"
   ]
  },
  {
   "cell_type": "code",
   "execution_count": 40,
   "metadata": {},
   "outputs": [
    {
     "data": {
      "text/plain": [
       "TotalVariation"
      ]
     },
     "execution_count": 40,
     "metadata": {},
     "output_type": "execute_result"
    }
   ],
   "source": [
    "strong_norm(B)"
   ]
  },
  {
   "cell_type": "code",
   "execution_count": 41,
   "metadata": {},
   "outputs": [
    {
     "data": {
      "text/plain": [
       "L1"
      ]
     },
     "execution_count": 41,
     "metadata": {},
     "output_type": "execute_result"
    }
   ],
   "source": [
    "aux_norm(B)"
   ]
  },
  {
   "cell_type": "code",
   "execution_count": 42,
   "metadata": {},
   "outputs": [
    {
     "name": "stderr",
     "output_type": "stream",
     "text": [
      "┌ Error: Expansivity is insufficient to prove a DFLY. Try with an iterate.\n",
      "└ @ RigorousInvariantMeasures /home/mutare/.julia/packages/RigorousInvariantMeasures/YDNtu/src/Norms.jl:224\n"
     ]
    },
    {
     "data": {
      "text/plain": [
       "(Inf, Inf)"
      ]
     },
     "execution_count": 42,
     "metadata": {},
     "output_type": "execute_result"
    }
   ],
   "source": [
    "dfly_coefficients = dfly(strong_norm(B), aux_norm(B), D4)"
   ]
  },
  {
   "cell_type": "code",
   "execution_count": 43,
   "metadata": {},
   "outputs": [
    {
     "name": "stderr",
     "output_type": "stream",
     "text": [
      "┌ Info: Assembling operator, the Newton stopping options are \n",
      "│ \t\t\tϵ = 1.0e-14, max_iter = 100\n",
      "└ @ RigorousInvariantMeasures /home/mutare/.julia/packages/RigorousInvariantMeasures/YDNtu/src/GenericAssembler.jl:102\n",
      "\u001b[32mComputing preimages... 100%|█████████████████████████████| Time: 0:00:01\u001b[39m\n",
      "\u001b[32mComputing preimages... 100%|█████████████████████████████| Time: 0:00:01\u001b[39m\n",
      "\u001b[32mComputing preimages... 100%|█████████████████████████████| Time: 0:00:04\u001b[39m\n"
     ]
    },
    {
     "data": {
      "text/plain": [
       "IntegralPreservingDiscretizedOperator{SparseArrays.SparseMatrixCSC{Interval{Float64}, Int64}}(sparse([63, 64, 65, 66, 67, 68, 69, 70, 71, 72  …  77, 77, 78, 78, 78, 78, 78, 78, 78, 78], [1, 1, 1, 1, 1, 1, 1, 1, 1, 1  …  1016, 1017, 1017, 1018, 1019, 1020, 1021, 1022, 1023, 1024], Interval{Float64}[[0.00250852, 0.00250853], [0.0255727, 0.0255728], [0.0255429, 0.025543], [0.025513, 0.0255131], [0.0254832, 0.0254833], [0.0254534, 0.0254535], [0.0254236, 0.0254237], [0.0253938, 0.0253939], [0.025364, 0.0253641], [0.0253343, 0.0253344]  …  [1, 1], [0.999882, 0.999883], [0.000117952, 0.000117955], [1, 1], [1, 1], [1, 1], [1, 1], [1, 1], [1, 1], [1, 1]], 1024, 1024))"
      ]
     },
     "execution_count": 43,
     "metadata": {},
     "output_type": "execute_result"
    }
   ],
   "source": [
    "Q = DiscretizedOperator(B, E4)"
   ]
  },
  {
   "cell_type": "code",
   "execution_count": 44,
   "metadata": {},
   "outputs": [
    {
     "data": {
      "text/plain": [
       "1024×1024 SparseArrays.SparseMatrixCSC{Interval{Float64}, Int64} with 29021 stored entries:\n",
       "⣇⣇⡿⣇⢻⣇⣇⣿⢀⣇⡇⣿⡇⣸⣀⣿⡇⡀⣇⢀⠀⢳⠀⠀⢸⠘⡆⠀⠀⡀⠀⠀⠀⠀⠀⠹⣄⠀⠀⠀\n",
       "⣿⣿⣇⣿⢸⣿⣿⣿⣿⣿⣇⣿⡇⣿⢸⣿⡇⡇⢿⢸⠀⢸⣀⠀⢸⡀⢧⠀⠀⢹⠀⠀⠀⠀⠀⠀⠈⠙⠲⠤\n",
       "⣿⣿⣿⣿⣿⣿⢻⣿⣿⣿⢸⣿⣿⣿⣿⣿⢳⡇⢸⢸⡀⠀⣿⡀⠀⡇⠸⡄⠀⠈⡇⠀⠀⠀⠀⠀⠀⠀⠀⠀\n",
       "⣿⣿⢻⣿⣿⣿⢸⣿⣿⣿⢸⢹⣿⡏⣿⠹⣼⢹⢸⡀⡇⠀⣇⡇⠀⢧⠀⣇⠀⠀⢹⠀⠀⠀⠀⠀⠀⠀⠀⠀\n",
       "⣿⣿⢸⣿⣿⣯⣿⣿⣿⣿⢸⢸⣿⡇⣿⠀⣿⢸⠀⡇⡇⠀⢸⡇⠀⢸⠀⢸⠀⠀⠈⡇⠀⠀⠀⠀⠀⠀⠀⠀\n",
       "⢻⣿⣼⢻⡇⢻⣿⡟⣿⣿⠘⡞⢻⡇⣿⠀⢻⢸⠀⡇⢧⠀⠘⢧⠀⠘⠀⠈⡇⠀⠀⢹⠀⠀⠀⠀⠀⠀⠀⠀\n",
       "⢸⣿⣿⢸⡇⢸⣿⡇⣿⣏⡇⡇⢸⡇⣿⠀⢸⢸⠀⡇⢸⠀⠀⢸⠀⠀⠀⠀⣇⠀⠀⠈⡇⠀⠀⠀⠀⠀⠀⠀\n",
       "⢸⣿⣿⢸⡇⢸⣿⡇⣿⢸⡇⡇⢸⡇⡿⡄⠈⣿⠀⡇⢸⠀⠀⢸⠀⠀⠀⠀⢸⠀⠀⠀⢳⠀⠀⠀⠀⠀⠀⠀\n",
       "⢸⣿⣿⢸⡇⢸⣿⣧⣿⢸⡇⡇⣼⢳⡇⡇⠀⣿⡀⣇⢸⠀⠀⢸⡀⠀⠀⠀⢸⠀⠀⠀⠘⡆⠀⠀⠀⠀⠀⠀\n",
       "⢸⣿⣿⢸⣿⢸⣿⣿⣿⢸⡇⡇⣿⢸⡇⡇⠀⡇⡇⢸⠘⡆⠀⠀⡇⠀⠀⠀⠈⡇⠀⠀⠀⢧⠀⠀⠀⠀⠀⠀\n",
       "⢸⣿⣿⢸⣿⢸⣿⣿⣿⢸⡇⡇⣿⢸⡇⣷⠀⡇⡇⢸⠀⡇⠀⠀⡇⠀⠀⠀⠀⡇⠀⠀⠀⢸⡀⠀⠀⠀⠀⠀\n",
       "⢸⣿⣿⢸⣿⢸⣿⣿⣿⢸⡇⡇⣿⣸⡇⣿⠀⡇⡇⢸⠀⡇⠀⠀⡇⠀⠀⠀⠀⡇⠀⠀⠀⠀⡇⠀⠀⠀⠀⠀\n",
       "⢸⣿⣿⢸⣿⢸⣿⣿⢸⢸⡇⡇⡇⣿⡇⣿⠀⡇⡇⢸⠀⡇⠀⠀⡇⠀⠀⠀⠀⡇⠀⠀⠀⠀⢳⠀⠀⠀⠀⠀\n",
       "⢸⣿⣿⢸⣿⢸⣿⣿⢸⣼⡇⡇⡇⣿⡇⣿⠀⡇⡇⢸⠀⡇⠀⠀⡇⠀⠀⠀⠀⡇⠀⠀⠀⠀⢸⠀⠀⠀⠀⠀\n",
       "⠀⡇⣿⠀⣿⠀⡇⣿⠀⡇⡇⡇⡇⢸⠀⣿⠀⠀⡇⠀⠀⡇⠀⠀⡇⠀⠀⠀⠀⠀⠀⠀⠀⠀⠈⡇⠀⠀⠀⠀\n",
       "⠀⡇⣿⠀⣿⠀⡇⣿⠀⡇⡇⡇⡇⢸⠀⣿⠀⠀⡇⠀⠀⡇⠀⠀⣇⠀⠀⠀⠀⠀⠀⠀⠀⠀⠀⡇⠀⠀⠀⠀\n",
       "⠀⡇⣿⠀⣿⠀⡇⣿⠀⡇⡇⡇⡇⢸⠀⣿⠀⠀⡇⠀⠀⡇⠀⠀⢸⠀⠀⠀⠀⠀⠀⠀⠀⠀⠀⡇⠀⠀⠀⠀\n",
       "⠀⡇⣿⠀⣿⠀⡇⣿⠀⡇⡇⡇⡇⢸⠀⣿⠀⠀⡇⠀⠀⡇⠀⠀⢸⠀⠀⠀⠀⠀⠀⠀⠀⠀⠀⡇⠀⠀⠀⠀\n",
       "⠀⠀⠀⠀⠀⠀⠀⠀⠀⠀⠀⠀⠀⠀⠀⠀⠀⠀⠀⠀⠀⠀⠀⠀⠀⠀⠀⠀⠀⠀⠀⠀⠀⠀⠀⠀⠀⠀⠀⠀\n",
       "⠀⠀⠀⠀⠀⠀⠀⠀⠀⠀⠀⠀⠀⠀⠀⠀⠀⠀⠀⠀⠀⠀⠀⠀⠀⠀⠀⠀⠀⠀⠀⠀⠀⠀⠀⠀⠀⠀⠀⠀"
      ]
     },
     "execution_count": 44,
     "metadata": {},
     "output_type": "execute_result"
    }
   ],
   "source": [
    "Q.L"
   ]
  },
  {
   "cell_type": "code",
   "execution_count": null,
   "metadata": {},
   "outputs": [],
   "source": []
  }
 ],
 "metadata": {
  "kernelspec": {
   "display_name": "Julia 1.8.3",
   "language": "julia",
   "name": "julia-1.8"
  },
  "language_info": {
   "file_extension": ".jl",
   "mimetype": "application/julia",
   "name": "julia",
   "version": "1.8.3"
  },
  "orig_nbformat": 4
 },
 "nbformat": 4,
 "nbformat_minor": 2
}
