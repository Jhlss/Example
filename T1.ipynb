{
 "cells": [
  {
   "attachments": {},
   "cell_type": "markdown",
   "metadata": {},
   "source": [
    "If the function $f$ is sufficiently differentiable, then Newton's method may work to find a zero. Unlike the bisection method which is slow but guaranteed to find a root by the intermediate value theorem, Newton's method is fast (once it is close) but has no such guarantee of converging. In this project, we'll see how to implement the algorithm, try some examples, and then look at what can go wrong."
   ]
  },
  {
   "attachments": {},
   "cell_type": "markdown",
   "metadata": {},
   "source": [
    "The idea behind Newton's method is simple linear approximation. That is, most functions at any given point are well approximated by the tangent line at that point. If we have a good guess $x_n$, then we can improve this guess iteratively by replacing it with the zero, $x_{n+1}$, of the tangent line at $(x_n, f(x_n))$."
   ]
  },
  {
   "attachments": {},
   "cell_type": "markdown",
   "metadata": {},
   "source": [
    "A simple picture shows that we have a triangle with base $x_{n} - x_{n+1}$, rise $f(x_n) - 0$ and slope $f'(x_n)$, using the \"rise over run\" formula:\n",
    "\n",
    "$$ f'(x_n) = \\frac{f(x_n)}{x_{n} - x_{n+1}}. $$\n",
    "\n",
    "The basic algorithm of Newton's methods is then:\n",
    "\n",
    "$$  x_{n+1} = x_n - \\frac{f(x_n)}{f'(x_n)}. $$\n",
    "\n",
    "\n",
    "\n",
    "The Newton's method is an iterative method. One begins with a (suitable) guess $x_0$. From that the algorithm produces $x_1$ which is used to produce $x_2$, etc. The idea is that one eventually will settle on a value $x_n$ sufficiently close to the desired root."
   ]
  },
  {
   "attachments": {},
   "cell_type": "markdown",
   "metadata": {},
   "source": [
    "We can determine two ways that the number is close enough to the answer:\n",
    "\n",
    " - The sequence of $x's$ stop changing by much \n",
    " \n",
    " - the values $f(x)$ get close enough to zero.\n",
    "\n",
    "\n",
    "Both concepts require a tolerance. For the first case, it is easiest to stop when the printed value of $x$ stops changing. This is 16 digits so may be problematic with round off errors involved (e.g., the first 15 digits can stay fixed, while the last oscillates), though easy to use at the command line."
   ]
  },
  {
   "cell_type": "code",
   "execution_count": 2,
   "metadata": {},
   "outputs": [
    {
     "data": {
      "text/plain": [
       "1.4901161193847656e-8"
      ]
     },
     "metadata": {},
     "output_type": "display_data"
    }
   ],
   "source": [
    "tol = sqrt(eps())## 1.4901161193847656e-8, we will use a standard tolerance, the square root of the floating point representation"
   ]
  },
  {
   "cell_type": "code",
   "execution_count": 12,
   "metadata": {},
   "outputs": [
    {
     "data": {
      "text/plain": [
       "nm (generic function with 1 method)"
      ]
     },
     "metadata": {},
     "output_type": "display_data"
    }
   ],
   "source": [
    "function nm(f, df, x; tol=sqrt(eps()))\n",
    "   \n",
    "    ctr, max_steps = 0, 100\n",
    "     \n",
    "    while (abs(f(x)) > tol) && ctr < max_steps\n",
    "        x = x - f(x) / df(x)\n",
    "        ctr = ctr + 1\n",
    "        @show x\n",
    "        @show ctr\n",
    "    end\n",
    "\n",
    "    ctr >= max_steps ? error(\"Method did not converge\") : return (x, ctr)\n",
    "    \n",
    "end"
   ]
  },
  {
   "cell_type": "code",
   "execution_count": 13,
   "metadata": {},
   "outputs": [
    {
     "name": "stdout",
     "output_type": "stream",
     "text": [
      "x = 0.2\n",
      "ctr = 1\n",
      "x = 0.2016393442622951\n",
      "ctr = 2\n",
      "x = 0.20163967572339103\n",
      "ctr = 3\n"
     ]
    },
    {
     "data": {
      "text/plain": [
       "(0.20163967572339103, 3)"
      ]
     },
     "metadata": {},
     "output_type": "display_data"
    }
   ],
   "source": [
    "f(x) = x^3-5*x+1\n",
    "df(x) = 3*x^2-5\n",
    "xstar, ctr = nm(f, df, 0)"
   ]
  },
  {
   "cell_type": "code",
   "execution_count": 14,
   "metadata": {},
   "outputs": [
    {
     "name": "stdout",
     "output_type": "stream",
     "text": [
      "x = 8.483062359272319\n",
      "ctr = 1\n",
      "x = 10.375787614566244\n",
      "ctr = 2\n",
      "x = 9.006979854582323\n",
      "ctr = 3\n",
      "x = 9.480713307060507\n",
      "ctr = 4\n",
      "x = 9.425000601123449\n",
      "ctr = 5\n",
      "x = 9.424777965519334\n",
      "ctr = 6\n",
      "x = 9.42477796076938\n",
      "ctr = 7\n"
     ]
    },
    {
     "data": {
      "text/plain": [
       "(9.42477796076938, 7)"
      ]
     },
     "metadata": {},
     "output_type": "display_data"
    }
   ],
   "source": [
    "f(x) = sin(x)*(x-cos(x))#Example 5.1.1, Tucker-Pag 120\n",
    "df(x) = sin(x)*sin(x) + sin(x) - cos(x)*cos(x) + x*cos(x)\n",
    "xstar, ctr = nm(f, df, 5)"
   ]
  },
  {
   "cell_type": "code",
   "execution_count": 15,
   "metadata": {},
   "outputs": [
    {
     "name": "stdout",
     "output_type": "stream",
     "text": [
      "x = 8.377580409572783\n",
      "ctr = 1\n",
      "x = 6.739754144761108\n",
      "ctr = 2\n",
      "x = 8.660884863803258\n",
      "ctr = 3\n",
      "x = 7.145187249669843\n",
      "ctr = 4\n",
      "x = 9.70717512029998\n",
      "ctr = 5\n",
      "x = 7.471984835940221\n",
      "ctr = 6\n",
      "x = 15.128927112593999\n",
      "ctr = 7\n",
      "x = 12.152806896784888\n",
      "ctr = 8\n",
      "x = 17.320458159488304\n",
      "ctr = 9\n",
      "x = -8.262352431213138\n",
      "ctr = 10\n",
      "x = -6.488603168404354\n",
      "ctr = 11\n",
      "x = -8.434037389798702\n",
      "ctr = 12\n",
      "x = -6.8400965825145015\n",
      "ctr = 13\n",
      "x = -8.812836072770622\n",
      "ctr = 14\n",
      "x = -7.288550527486654\n",
      "ctr = 15\n",
      "x = -10.709994864744841\n",
      "ctr = 16\n",
      "x = -3.8698495348738184\n",
      "ctr = 17\n",
      "x = -2.230811533392838\n",
      "ctr = 18\n",
      "x = -2.499925490828641\n",
      "ctr = 19\n",
      "x = -2.4747617934295065\n",
      "ctr = 20\n",
      "x = -2.474576797589688\n",
      "ctr = 21\n"
     ]
    },
    {
     "data": {
      "text/plain": [
       "(-2.474576797589688, 21)"
      ]
     },
     "metadata": {},
     "output_type": "display_data"
    }
   ],
   "source": [
    "f(x) = sin(x) - x/4 #In this example we can see that the initial condition is not \"good\" so we need to perform several steps to find zero.\n",
    "df(x) = cos(x) - 1/4\n",
    "nm(f, df, 2pi)\n",
    "## (-2.474576797589688,21)"
   ]
  },
  {
   "cell_type": "code",
   "execution_count": null,
   "metadata": {},
   "outputs": [],
   "source": []
  }
 ],
 "metadata": {
  "kernelspec": {
   "display_name": "Julia 1.8.3",
   "language": "julia",
   "name": "julia-1.8"
  },
  "language_info": {
   "file_extension": ".jl",
   "mimetype": "application/julia",
   "name": "julia",
   "version": "1.8.3"
  },
  "orig_nbformat": 4
 },
 "nbformat": 4,
 "nbformat_minor": 2
}
